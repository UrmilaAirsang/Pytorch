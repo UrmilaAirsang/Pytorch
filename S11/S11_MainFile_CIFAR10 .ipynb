{
  "nbformat": 4,
  "nbformat_minor": 0,
  "metadata": {
    "accelerator": "GPU",
    "colab": {
      "name": "S11_MainFile_CIFAR10.ipynb",
      "provenance": [],
      "collapsed_sections": []
    },
    "kernelspec": {
      "display_name": "Python 3",
      "name": "python3"
    },
    "language_info": {
      "codemirror_mode": {
        "name": "ipython",
        "version": 3
      },
      "file_extension": ".py",
      "mimetype": "text/x-python",
      "name": "python",
      "nbconvert_exporter": "python",
      "pygments_lexer": "ipython3",
      "version": "3.6.6"
    },
    "widgets": {
      "application/vnd.jupyter.widget-state+json": {
        "2b8dba5bde054915b9d51b6f3c82fb53": {
          "model_module": "@jupyter-widgets/controls",
          "model_name": "HBoxModel",
          "state": {
            "_view_name": "HBoxView",
            "_dom_classes": [],
            "_model_name": "HBoxModel",
            "_view_module": "@jupyter-widgets/controls",
            "_model_module_version": "1.5.0",
            "_view_count": null,
            "_view_module_version": "1.5.0",
            "box_style": "",
            "layout": "IPY_MODEL_48f9fa73a81d4cc4919751fba645d932",
            "_model_module": "@jupyter-widgets/controls",
            "children": [
              "IPY_MODEL_23fd11004d54405d9cc1fef38d4b1e89",
              "IPY_MODEL_cb6ec984a0c24f74b1038f8022f29b05"
            ]
          }
        },
        "48f9fa73a81d4cc4919751fba645d932": {
          "model_module": "@jupyter-widgets/base",
          "model_name": "LayoutModel",
          "state": {
            "_view_name": "LayoutView",
            "grid_template_rows": null,
            "right": null,
            "justify_content": null,
            "_view_module": "@jupyter-widgets/base",
            "overflow": null,
            "_model_module_version": "1.2.0",
            "_view_count": null,
            "flex_flow": null,
            "width": null,
            "min_width": null,
            "border": null,
            "align_items": null,
            "bottom": null,
            "_model_module": "@jupyter-widgets/base",
            "top": null,
            "grid_column": null,
            "overflow_y": null,
            "overflow_x": null,
            "grid_auto_flow": null,
            "grid_area": null,
            "grid_template_columns": null,
            "flex": null,
            "_model_name": "LayoutModel",
            "justify_items": null,
            "grid_row": null,
            "max_height": null,
            "align_content": null,
            "visibility": null,
            "align_self": null,
            "height": null,
            "min_height": null,
            "padding": null,
            "grid_auto_rows": null,
            "grid_gap": null,
            "max_width": null,
            "order": null,
            "_view_module_version": "1.2.0",
            "grid_template_areas": null,
            "object_position": null,
            "object_fit": null,
            "grid_auto_columns": null,
            "margin": null,
            "display": null,
            "left": null
          }
        },
        "23fd11004d54405d9cc1fef38d4b1e89": {
          "model_module": "@jupyter-widgets/controls",
          "model_name": "FloatProgressModel",
          "state": {
            "_view_name": "ProgressView",
            "style": "IPY_MODEL_df11333a8db942cc8aabee725d5e4847",
            "_dom_classes": [],
            "description": " 70%",
            "_model_name": "FloatProgressModel",
            "bar_style": "danger",
            "max": 100,
            "_view_module": "@jupyter-widgets/controls",
            "_model_module_version": "1.5.0",
            "value": 70,
            "_view_count": null,
            "_view_module_version": "1.5.0",
            "orientation": "horizontal",
            "min": 0,
            "description_tooltip": null,
            "_model_module": "@jupyter-widgets/controls",
            "layout": "IPY_MODEL_6ac76e0fb36044ffba1297ccd3f08233"
          }
        },
        "cb6ec984a0c24f74b1038f8022f29b05": {
          "model_module": "@jupyter-widgets/controls",
          "model_name": "HTMLModel",
          "state": {
            "_view_name": "HTMLView",
            "style": "IPY_MODEL_aa222af06bf044d29ce10e757b5c53dc",
            "_dom_classes": [],
            "description": "",
            "_model_name": "HTMLModel",
            "placeholder": "​",
            "_view_module": "@jupyter-widgets/controls",
            "_model_module_version": "1.5.0",
            "value": " 70/100 [02:15&lt;00:57,  1.90s/it]",
            "_view_count": null,
            "_view_module_version": "1.5.0",
            "description_tooltip": null,
            "_model_module": "@jupyter-widgets/controls",
            "layout": "IPY_MODEL_af9c4fa756ab4ec3a7c29f8beb277d17"
          }
        },
        "df11333a8db942cc8aabee725d5e4847": {
          "model_module": "@jupyter-widgets/controls",
          "model_name": "ProgressStyleModel",
          "state": {
            "_view_name": "StyleView",
            "_model_name": "ProgressStyleModel",
            "description_width": "initial",
            "_view_module": "@jupyter-widgets/base",
            "_model_module_version": "1.5.0",
            "_view_count": null,
            "_view_module_version": "1.2.0",
            "bar_color": null,
            "_model_module": "@jupyter-widgets/controls"
          }
        },
        "6ac76e0fb36044ffba1297ccd3f08233": {
          "model_module": "@jupyter-widgets/base",
          "model_name": "LayoutModel",
          "state": {
            "_view_name": "LayoutView",
            "grid_template_rows": null,
            "right": null,
            "justify_content": null,
            "_view_module": "@jupyter-widgets/base",
            "overflow": null,
            "_model_module_version": "1.2.0",
            "_view_count": null,
            "flex_flow": null,
            "width": null,
            "min_width": null,
            "border": null,
            "align_items": null,
            "bottom": null,
            "_model_module": "@jupyter-widgets/base",
            "top": null,
            "grid_column": null,
            "overflow_y": null,
            "overflow_x": null,
            "grid_auto_flow": null,
            "grid_area": null,
            "grid_template_columns": null,
            "flex": null,
            "_model_name": "LayoutModel",
            "justify_items": null,
            "grid_row": null,
            "max_height": null,
            "align_content": null,
            "visibility": null,
            "align_self": null,
            "height": null,
            "min_height": null,
            "padding": null,
            "grid_auto_rows": null,
            "grid_gap": null,
            "max_width": null,
            "order": null,
            "_view_module_version": "1.2.0",
            "grid_template_areas": null,
            "object_position": null,
            "object_fit": null,
            "grid_auto_columns": null,
            "margin": null,
            "display": null,
            "left": null
          }
        },
        "aa222af06bf044d29ce10e757b5c53dc": {
          "model_module": "@jupyter-widgets/controls",
          "model_name": "DescriptionStyleModel",
          "state": {
            "_view_name": "StyleView",
            "_model_name": "DescriptionStyleModel",
            "description_width": "",
            "_view_module": "@jupyter-widgets/base",
            "_model_module_version": "1.5.0",
            "_view_count": null,
            "_view_module_version": "1.2.0",
            "_model_module": "@jupyter-widgets/controls"
          }
        },
        "af9c4fa756ab4ec3a7c29f8beb277d17": {
          "model_module": "@jupyter-widgets/base",
          "model_name": "LayoutModel",
          "state": {
            "_view_name": "LayoutView",
            "grid_template_rows": null,
            "right": null,
            "justify_content": null,
            "_view_module": "@jupyter-widgets/base",
            "overflow": null,
            "_model_module_version": "1.2.0",
            "_view_count": null,
            "flex_flow": null,
            "width": null,
            "min_width": null,
            "border": null,
            "align_items": null,
            "bottom": null,
            "_model_module": "@jupyter-widgets/base",
            "top": null,
            "grid_column": null,
            "overflow_y": null,
            "overflow_x": null,
            "grid_auto_flow": null,
            "grid_area": null,
            "grid_template_columns": null,
            "flex": null,
            "_model_name": "LayoutModel",
            "justify_items": null,
            "grid_row": null,
            "max_height": null,
            "align_content": null,
            "visibility": null,
            "align_self": null,
            "height": null,
            "min_height": null,
            "padding": null,
            "grid_auto_rows": null,
            "grid_gap": null,
            "max_width": null,
            "order": null,
            "_view_module_version": "1.2.0",
            "grid_template_areas": null,
            "object_position": null,
            "object_fit": null,
            "grid_auto_columns": null,
            "margin": null,
            "display": null,
            "left": null
          }
        },
        "7e3a43d613f54f438ed10c778ce377b7": {
          "model_module": "@jupyter-widgets/controls",
          "model_name": "HBoxModel",
          "state": {
            "_view_name": "HBoxView",
            "_dom_classes": [],
            "_model_name": "HBoxModel",
            "_view_module": "@jupyter-widgets/controls",
            "_model_module_version": "1.5.0",
            "_view_count": null,
            "_view_module_version": "1.5.0",
            "box_style": "",
            "layout": "IPY_MODEL_c86c1400134846f2a7dee117bfa00e11",
            "_model_module": "@jupyter-widgets/controls",
            "children": [
              "IPY_MODEL_144922ee30594563a3df0c6a48abfc41",
              "IPY_MODEL_73174fc0033245d4ba4d6ed97cd98d7c"
            ]
          }
        },
        "c86c1400134846f2a7dee117bfa00e11": {
          "model_module": "@jupyter-widgets/base",
          "model_name": "LayoutModel",
          "state": {
            "_view_name": "LayoutView",
            "grid_template_rows": null,
            "right": null,
            "justify_content": null,
            "_view_module": "@jupyter-widgets/base",
            "overflow": null,
            "_model_module_version": "1.2.0",
            "_view_count": null,
            "flex_flow": null,
            "width": null,
            "min_width": null,
            "border": null,
            "align_items": null,
            "bottom": null,
            "_model_module": "@jupyter-widgets/base",
            "top": null,
            "grid_column": null,
            "overflow_y": null,
            "overflow_x": null,
            "grid_auto_flow": null,
            "grid_area": null,
            "grid_template_columns": null,
            "flex": null,
            "_model_name": "LayoutModel",
            "justify_items": null,
            "grid_row": null,
            "max_height": null,
            "align_content": null,
            "visibility": null,
            "align_self": null,
            "height": null,
            "min_height": null,
            "padding": null,
            "grid_auto_rows": null,
            "grid_gap": null,
            "max_width": null,
            "order": null,
            "_view_module_version": "1.2.0",
            "grid_template_areas": null,
            "object_position": null,
            "object_fit": null,
            "grid_auto_columns": null,
            "margin": null,
            "display": null,
            "left": null
          }
        },
        "144922ee30594563a3df0c6a48abfc41": {
          "model_module": "@jupyter-widgets/controls",
          "model_name": "FloatProgressModel",
          "state": {
            "_view_name": "ProgressView",
            "style": "IPY_MODEL_86e37c49a4824ba2aa698bfd2fabe6ab",
            "_dom_classes": [],
            "description": " 98%",
            "_model_name": "FloatProgressModel",
            "bar_style": "danger",
            "max": 100,
            "_view_module": "@jupyter-widgets/controls",
            "_model_module_version": "1.5.0",
            "value": 98,
            "_view_count": null,
            "_view_module_version": "1.5.0",
            "orientation": "horizontal",
            "min": 0,
            "description_tooltip": null,
            "_model_module": "@jupyter-widgets/controls",
            "layout": "IPY_MODEL_6d9eb5fc82904a4280cbab89b5a42a2f"
          }
        },
        "73174fc0033245d4ba4d6ed97cd98d7c": {
          "model_module": "@jupyter-widgets/controls",
          "model_name": "HTMLModel",
          "state": {
            "_view_name": "HTMLView",
            "style": "IPY_MODEL_0c4a2aa4c8fd4cc69f5d25c62360c950",
            "_dom_classes": [],
            "description": "",
            "_model_name": "HTMLModel",
            "placeholder": "​",
            "_view_module": "@jupyter-widgets/controls",
            "_model_module_version": "1.5.0",
            "value": " 98/100 [00:25&lt;00:00,  4.50it/s]",
            "_view_count": null,
            "_view_module_version": "1.5.0",
            "description_tooltip": null,
            "_model_module": "@jupyter-widgets/controls",
            "layout": "IPY_MODEL_970fdff138ea46c2ad65785b4db6038f"
          }
        },
        "86e37c49a4824ba2aa698bfd2fabe6ab": {
          "model_module": "@jupyter-widgets/controls",
          "model_name": "ProgressStyleModel",
          "state": {
            "_view_name": "StyleView",
            "_model_name": "ProgressStyleModel",
            "description_width": "initial",
            "_view_module": "@jupyter-widgets/base",
            "_model_module_version": "1.5.0",
            "_view_count": null,
            "_view_module_version": "1.2.0",
            "bar_color": null,
            "_model_module": "@jupyter-widgets/controls"
          }
        },
        "6d9eb5fc82904a4280cbab89b5a42a2f": {
          "model_module": "@jupyter-widgets/base",
          "model_name": "LayoutModel",
          "state": {
            "_view_name": "LayoutView",
            "grid_template_rows": null,
            "right": null,
            "justify_content": null,
            "_view_module": "@jupyter-widgets/base",
            "overflow": null,
            "_model_module_version": "1.2.0",
            "_view_count": null,
            "flex_flow": null,
            "width": null,
            "min_width": null,
            "border": null,
            "align_items": null,
            "bottom": null,
            "_model_module": "@jupyter-widgets/base",
            "top": null,
            "grid_column": null,
            "overflow_y": null,
            "overflow_x": null,
            "grid_auto_flow": null,
            "grid_area": null,
            "grid_template_columns": null,
            "flex": null,
            "_model_name": "LayoutModel",
            "justify_items": null,
            "grid_row": null,
            "max_height": null,
            "align_content": null,
            "visibility": null,
            "align_self": null,
            "height": null,
            "min_height": null,
            "padding": null,
            "grid_auto_rows": null,
            "grid_gap": null,
            "max_width": null,
            "order": null,
            "_view_module_version": "1.2.0",
            "grid_template_areas": null,
            "object_position": null,
            "object_fit": null,
            "grid_auto_columns": null,
            "margin": null,
            "display": null,
            "left": null
          }
        },
        "0c4a2aa4c8fd4cc69f5d25c62360c950": {
          "model_module": "@jupyter-widgets/controls",
          "model_name": "DescriptionStyleModel",
          "state": {
            "_view_name": "StyleView",
            "_model_name": "DescriptionStyleModel",
            "description_width": "",
            "_view_module": "@jupyter-widgets/base",
            "_model_module_version": "1.5.0",
            "_view_count": null,
            "_view_module_version": "1.2.0",
            "_model_module": "@jupyter-widgets/controls"
          }
        },
        "970fdff138ea46c2ad65785b4db6038f": {
          "model_module": "@jupyter-widgets/base",
          "model_name": "LayoutModel",
          "state": {
            "_view_name": "LayoutView",
            "grid_template_rows": null,
            "right": null,
            "justify_content": null,
            "_view_module": "@jupyter-widgets/base",
            "overflow": null,
            "_model_module_version": "1.2.0",
            "_view_count": null,
            "flex_flow": null,
            "width": null,
            "min_width": null,
            "border": null,
            "align_items": null,
            "bottom": null,
            "_model_module": "@jupyter-widgets/base",
            "top": null,
            "grid_column": null,
            "overflow_y": null,
            "overflow_x": null,
            "grid_auto_flow": null,
            "grid_area": null,
            "grid_template_columns": null,
            "flex": null,
            "_model_name": "LayoutModel",
            "justify_items": null,
            "grid_row": null,
            "max_height": null,
            "align_content": null,
            "visibility": null,
            "align_self": null,
            "height": null,
            "min_height": null,
            "padding": null,
            "grid_auto_rows": null,
            "grid_gap": null,
            "max_width": null,
            "order": null,
            "_view_module_version": "1.2.0",
            "grid_template_areas": null,
            "object_position": null,
            "object_fit": null,
            "grid_auto_columns": null,
            "margin": null,
            "display": null,
            "left": null
          }
        }
      }
    }
  },
  "cells": [
    {
      "cell_type": "markdown",
      "metadata": {
        "id": "YYSKQdRKP1_L"
      },
      "source": [
        "#Tasks\r\n",
        "\r\n",
        "1. write a code for trigular wave generator\r\n",
        "2. create the custom resnet model\r\n",
        "3. find lrmin and lrmax\r\n",
        "4. Don't use Annihilation\r\n",
        "5. Use horiflip, cutout, crop in image augmentation\r\n",
        "\r\n",
        "--------------------------------------------------------------------\r\n",
        "\r\n",
        "##Achieved : **89%** using Custom Resnet model with Albumentation \r\n",
        "\r\n",
        "Remarks:\r\n",
        "Learnings:\r\n",
        "1. calculating Step up and step down for cyclicLR depending on the iterations\r\n",
        "2. checked with OnecycleLR and studied on hyperparameters\r\n",
        "3. LRfinder using nll_loss gave good results, need to check why not using crossentropy\r\n",
        "\r\n",
        "\r\n"
      ]
    },
    {
      "cell_type": "code",
      "metadata": {
        "colab": {
          "base_uri": "https://localhost:8080/"
        },
        "id": "500xIIizdQKc",
        "outputId": "7ff29b04-69fa-46c9-b8db-c9397990eab6"
      },
      "source": [
        "! pip install albumentations==0.4.6"
      ],
      "execution_count": 3,
      "outputs": [
        {
          "output_type": "stream",
          "text": [
            "Requirement already satisfied: albumentations==0.4.6 in /usr/local/lib/python3.7/dist-packages (0.4.6)\n",
            "Requirement already satisfied: imgaug>=0.4.0 in /usr/local/lib/python3.7/dist-packages (from albumentations==0.4.6) (0.4.0)\n",
            "Requirement already satisfied: numpy>=1.11.1 in /usr/local/lib/python3.7/dist-packages (from albumentations==0.4.6) (1.19.5)\n",
            "Requirement already satisfied: opencv-python>=4.1.1 in /usr/local/lib/python3.7/dist-packages (from albumentations==0.4.6) (4.1.2.30)\n",
            "Requirement already satisfied: scipy in /usr/local/lib/python3.7/dist-packages (from albumentations==0.4.6) (1.4.1)\n",
            "Requirement already satisfied: PyYAML in /usr/local/lib/python3.7/dist-packages (from albumentations==0.4.6) (3.13)\n",
            "Requirement already satisfied: matplotlib in /usr/local/lib/python3.7/dist-packages (from imgaug>=0.4.0->albumentations==0.4.6) (3.2.2)\n",
            "Requirement already satisfied: scikit-image>=0.14.2 in /usr/local/lib/python3.7/dist-packages (from imgaug>=0.4.0->albumentations==0.4.6) (0.16.2)\n",
            "Requirement already satisfied: six in /usr/local/lib/python3.7/dist-packages (from imgaug>=0.4.0->albumentations==0.4.6) (1.15.0)\n",
            "Requirement already satisfied: Shapely in /usr/local/lib/python3.7/dist-packages (from imgaug>=0.4.0->albumentations==0.4.6) (1.7.1)\n",
            "Requirement already satisfied: imageio in /usr/local/lib/python3.7/dist-packages (from imgaug>=0.4.0->albumentations==0.4.6) (2.4.1)\n",
            "Requirement already satisfied: Pillow in /usr/local/lib/python3.7/dist-packages (from imgaug>=0.4.0->albumentations==0.4.6) (7.0.0)\n",
            "Requirement already satisfied: pyparsing!=2.0.4,!=2.1.2,!=2.1.6,>=2.0.1 in /usr/local/lib/python3.7/dist-packages (from matplotlib->imgaug>=0.4.0->albumentations==0.4.6) (2.4.7)\n",
            "Requirement already satisfied: python-dateutil>=2.1 in /usr/local/lib/python3.7/dist-packages (from matplotlib->imgaug>=0.4.0->albumentations==0.4.6) (2.8.1)\n",
            "Requirement already satisfied: cycler>=0.10 in /usr/local/lib/python3.7/dist-packages (from matplotlib->imgaug>=0.4.0->albumentations==0.4.6) (0.10.0)\n",
            "Requirement already satisfied: kiwisolver>=1.0.1 in /usr/local/lib/python3.7/dist-packages (from matplotlib->imgaug>=0.4.0->albumentations==0.4.6) (1.3.1)\n",
            "Requirement already satisfied: PyWavelets>=0.4.0 in /usr/local/lib/python3.7/dist-packages (from scikit-image>=0.14.2->imgaug>=0.4.0->albumentations==0.4.6) (1.1.1)\n",
            "Requirement already satisfied: networkx>=2.0 in /usr/local/lib/python3.7/dist-packages (from scikit-image>=0.14.2->imgaug>=0.4.0->albumentations==0.4.6) (2.5)\n",
            "Requirement already satisfied: decorator>=4.3.0 in /usr/local/lib/python3.7/dist-packages (from networkx>=2.0->scikit-image>=0.14.2->imgaug>=0.4.0->albumentations==0.4.6) (4.4.2)\n"
          ],
          "name": "stdout"
        }
      ]
    },
    {
      "cell_type": "code",
      "metadata": {
        "colab": {
          "base_uri": "https://localhost:8080/"
        },
        "id": "vpTu6lMfEBks",
        "outputId": "d628f32c-8bf9-4ff2-93a0-f5e3472478f3"
      },
      "source": [
        "from google.colab import drive\r\n",
        "drive.mount('/content/drive', force_remount= True)"
      ],
      "execution_count": 5,
      "outputs": [
        {
          "output_type": "stream",
          "text": [
            "Mounted at /content/drive\n"
          ],
          "name": "stdout"
        }
      ]
    },
    {
      "cell_type": "code",
      "metadata": {
        "id": "BXqmAN-kCGXt"
      },
      "source": [
        "import sys\r\n",
        "import os\r\n",
        "sys.path.append('/content/gdrive/')\r\n",
        "py_file_location = \"/content/drive/My Drive/S11_CyclicLR/\"\r\n",
        "sys.path.append(os.path.abspath(py_file_location))"
      ],
      "execution_count": 6,
      "outputs": []
    },
    {
      "cell_type": "code",
      "metadata": {
        "colab": {
          "base_uri": "https://localhost:8080/"
        },
        "id": "mLREQ2inDU2b",
        "outputId": "e38a0949-2894-42ad-9b2d-c35cd6c92708"
      },
      "source": [
        "%cd '/content/drive/My Drive/S11_CyclicLR'\r\n",
        "!pwd\r\n",
        "!ls"
      ],
      "execution_count": 7,
      "outputs": [
        {
          "output_type": "stream",
          "text": [
            "/content/drive/My Drive/S11_CyclicLR\n",
            "/content/drive/My Drive/S11_CyclicLR\n",
            "data\t\t\t s11_displays.py\t  s11_test_file.py\n",
            "__pycache__\t\t s11_gradcam.py\t\t  s11_train_file.py\n",
            "s11_cifar_dataloader.py  s11_lrfinder.py\n",
            "s11_cifar_modelfile.py\t s11_mainfile_cifar10.py\n"
          ],
          "name": "stdout"
        }
      ]
    },
    {
      "cell_type": "code",
      "metadata": {
        "id": "bP0SG9XWwjF7"
      },
      "source": [
        "# Import your module or file\r\n",
        "from s11_cifar_modelfile import Net, ResNet18, CustomResNet\r\n",
        "from s11_cifar_dataloader import AlbumentationsDataset\r\n",
        "from s11_train_file import customTraining\r\n",
        "from s11_test_file import customTest\r\n",
        "from s11_gradcam import GradCam\r\n",
        "from s11_lrfinder import LRFinder \r\n",
        "from s11_displays import customPlots"
      ],
      "execution_count": 8,
      "outputs": []
    },
    {
      "cell_type": "code",
      "metadata": {
        "id": "QVbdg0z4poCc"
      },
      "source": [
        "%matplotlib inline"
      ],
      "execution_count": 9,
      "outputs": []
    },
    {
      "cell_type": "code",
      "metadata": {
        "id": "-yVpodAMpoCi"
      },
      "source": [
        "import torch\n",
        "import torchvision\n",
        "import torchvision.transforms as transforms"
      ],
      "execution_count": 10,
      "outputs": []
    },
    {
      "cell_type": "code",
      "metadata": {
        "colab": {
          "base_uri": "https://localhost:8080/"
        },
        "id": "5kKTwdenRkOh",
        "outputId": "d21831b9-a8b4-4abc-eab7-bfd3fd5cc57d"
      },
      "source": [
        "SEED = 1\r\n",
        "# CUDA?\r\n",
        "cuda = torch.cuda.is_available()\r\n",
        "print(\"CUDA Available?\", cuda)\r\n",
        "\r\n",
        "# For reproducibility\r\n",
        "torch.manual_seed(SEED)\r\n",
        "\r\n",
        "if cuda:\r\n",
        "    torch.cuda.manual_seed(SEED)"
      ],
      "execution_count": 11,
      "outputs": [
        {
          "output_type": "stream",
          "text": [
            "CUDA Available? True\n"
          ],
          "name": "stdout"
        }
      ]
    },
    {
      "cell_type": "markdown",
      "metadata": {
        "id": "e50OYASu1igw"
      },
      "source": [
        "##------------------------Call to Data Loader-------------------------\r\n",
        "\r\n",
        "Albumentation method for data augmentation \r\n",
        "### use of Cutout in augmentation"
      ]
    },
    {
      "cell_type": "code",
      "metadata": {
        "colab": {
          "base_uri": "https://localhost:8080/"
        },
        "id": "4oxUUTwkfRka",
        "outputId": "8f46492e-77ac-4588-dcb2-9e435ddfd83e"
      },
      "source": [
        "import albumentations as A\r\n",
        "aclass = AlbumentationsDataset()\r\n",
        "input_batch_size =512\r\n",
        "\r\n",
        "custom_train_tfms = [A.PadIfNeeded(min_height=4,min_width=4), \r\n",
        "                     A.RandomCrop(32, 32, p=1.0),\r\n",
        "                     A.HorizontalFlip(),\r\n",
        "                     A.Cutout(num_holes=8, max_h_size=8, max_w_size=8, fill_value=0, always_apply=False, p=0.1),\r\n",
        "                     ]\r\n",
        "trainset, trainloader, testset, testloader, classes = aclass.cifar10dataWithAugmentation(input_batch_size, custom_train_tfms)"
      ],
      "execution_count": 12,
      "outputs": [
        {
          "output_type": "stream",
          "text": [
            "Files already downloaded and verified\n",
            "Files already downloaded and verified\n"
          ],
          "name": "stdout"
        }
      ]
    },
    {
      "cell_type": "markdown",
      "metadata": {
        "id": "FhSsJwDKolYy"
      },
      "source": [
        "##------------------ Visualize Input Image ---------------------------- \r\n",
        "\r\n",
        "---\r\n",
        "\r\n",
        "\r\n",
        "\r\n",
        "---\r\n",
        "\r\n",
        "\r\n",
        "Let us show some of the training images, for fun.\r\n"
      ]
    },
    {
      "cell_type": "code",
      "metadata": {
        "colab": {
          "base_uri": "https://localhost:8080/",
          "height": 649
        },
        "id": "N1aTn5alUkB3",
        "outputId": "10ea6656-9125-4c2b-d5df-0ba6462aedea"
      },
      "source": [
        "import matplotlib.pyplot as plt\r\n",
        "import numpy as np\r\n",
        "import cv2\r\n",
        "# functions to show an image\r\n",
        "def imshow(img):\r\n",
        "    img = img / 2 + 0.5     # unnormalize\r\n",
        "    npimg = img.numpy() \r\n",
        "    plt.imshow(np.transpose(npimg, (1, 2, 0)))\r\n",
        "\r\n",
        "# # get some random training images\r\n",
        "dataiter = iter(trainloader)\r\n",
        "images, labels =  dataiter.next()\r\n",
        "print(images.numpy().shape)  \r\n",
        "\r\n",
        "plt.figure(figsize=(20,10))\r\n",
        "# show images\r\n",
        "imshow(torchvision.utils.make_grid(images))"
      ],
      "execution_count": 13,
      "outputs": [
        {
          "output_type": "stream",
          "text": [
            "Clipping input data to the valid range for imshow with RGB data ([0..1] for floats or [0..255] for integers).\n"
          ],
          "name": "stderr"
        },
        {
          "output_type": "stream",
          "text": [
            "(512, 3, 32, 32)\n"
          ],
          "name": "stdout"
        },
        {
          "output_type": "display_data",
          "data": {
            "image/png": "[encoded data removed]",
            "text/plain": [
              "<Figure size 1440x720 with 1 Axes>"
            ]
          },
          "metadata": {
            "tags": [],
            "needs_background": "light"
          }
        }
      ]
    },
    {
      "cell_type": "markdown",
      "metadata": {
        "id": "28OpHA_LpoCq"
      },
      "source": [
        "##  ------------------------------Getting Resnet18 network from model file----------------------- \n",
        "\n",
        "1. Get the model\n",
        "2. print summary\n",
        "^^^^^^^^^^^^^^^^^^^^^^^^^^^^^^^^^^^^^^\n",
        "\n",
        "Copy the neural network from the Neural Networks section before and modify it to\n",
        "take 3-channel images (instead of 1-channel images as it was defined).\n",
        "\n"
      ]
    },
    {
      "cell_type": "code",
      "metadata": {
        "colab": {
          "base_uri": "https://localhost:8080/"
        },
        "id": "pJT1GZXWSafc",
        "outputId": "0c74008f-1d0e-4d1d-d7cd-a2ccd34df31a"
      },
      "source": [
        "# load to device and print model summary\r\n",
        "!pip install torchsummary\r\n",
        "from torchsummary import summary\r\n",
        "use_cuda = torch.cuda.is_available()\r\n",
        "device = torch.device(\"cuda\" if use_cuda else \"cpu\")\r\n",
        "print(device)\r\n",
        "# call now Resnet18 model\r\n",
        "model = CustomResNet().to(device)\r\n",
        "summary(model, input_size=(3, 32, 32))"
      ],
      "execution_count": 14,
      "outputs": [
        {
          "output_type": "stream",
          "text": [
            "Requirement already satisfied: torchsummary in /usr/local/lib/python3.7/dist-packages (1.5.1)\n",
            "cuda\n",
            "----------------------------------------------------------------\n",
            "        Layer (type)               Output Shape         Param #\n",
            "================================================================\n",
            "            Conv2d-1           [-1, 64, 32, 32]           1,728\n",
            "       BatchNorm2d-2           [-1, 64, 32, 32]             128\n",
            "              ReLU-3           [-1, 64, 32, 32]               0\n",
            "            Conv2d-4          [-1, 128, 32, 32]          73,728\n",
            "         MaxPool2d-5          [-1, 128, 16, 16]               0\n",
            "       BatchNorm2d-6          [-1, 128, 16, 16]             256\n",
            "              ReLU-7          [-1, 128, 16, 16]               0\n",
            "            Conv2d-8          [-1, 128, 16, 16]         147,456\n",
            "       BatchNorm2d-9          [-1, 128, 16, 16]             256\n",
            "           Conv2d-10          [-1, 128, 16, 16]         147,456\n",
            "      BatchNorm2d-11          [-1, 128, 16, 16]             256\n",
            "       BasicBlock-12          [-1, 128, 16, 16]               0\n",
            "           Conv2d-13          [-1, 256, 16, 16]         294,912\n",
            "        MaxPool2d-14            [-1, 256, 8, 8]               0\n",
            "      BatchNorm2d-15            [-1, 256, 8, 8]             512\n",
            "             ReLU-16            [-1, 256, 8, 8]               0\n",
            "           Conv2d-17            [-1, 512, 8, 8]       1,179,648\n",
            "        MaxPool2d-18            [-1, 512, 4, 4]               0\n",
            "      BatchNorm2d-19            [-1, 512, 4, 4]           1,024\n",
            "             ReLU-20            [-1, 512, 4, 4]               0\n",
            "           Conv2d-21            [-1, 512, 4, 4]       2,359,296\n",
            "      BatchNorm2d-22            [-1, 512, 4, 4]           1,024\n",
            "           Conv2d-23            [-1, 512, 4, 4]       2,359,296\n",
            "      BatchNorm2d-24            [-1, 512, 4, 4]           1,024\n",
            "       BasicBlock-25            [-1, 512, 4, 4]               0\n",
            "        MaxPool2d-26            [-1, 512, 1, 1]               0\n",
            "           Linear-27                   [-1, 10]           5,130\n",
            "================================================================\n",
            "Total params: 6,573,130\n",
            "Trainable params: 6,573,130\n",
            "Non-trainable params: 0\n",
            "----------------------------------------------------------------\n",
            "Input size (MB): 0.01\n",
            "Forward/backward pass size (MB): 6.13\n",
            "Params size (MB): 25.07\n",
            "Estimated Total Size (MB): 31.22\n",
            "----------------------------------------------------------------\n"
          ],
          "name": "stdout"
        }
      ]
    },
    {
      "cell_type": "markdown",
      "metadata": {
        "id": "9QoL1ekbi-O-"
      },
      "source": [
        "##------------------------------Calling training and testing  -------------------------"
      ]
    },
    {
      "cell_type": "code",
      "metadata": {
        "id": "VHSfM7J_M1Od",
        "colab": {
          "base_uri": "https://localhost:8080/",
          "height": 383,
          "referenced_widgets": [
            "2b8dba5bde054915b9d51b6f3c82fb53",
            "48f9fa73a81d4cc4919751fba645d932",
            "23fd11004d54405d9cc1fef38d4b1e89",
            "cb6ec984a0c24f74b1038f8022f29b05",
            "df11333a8db942cc8aabee725d5e4847",
            "6ac76e0fb36044ffba1297ccd3f08233",
            "aa222af06bf044d29ce10e757b5c53dc",
            "af9c4fa756ab4ec3a7c29f8beb277d17"
          ]
        },
        "outputId": "da1c666c-d660-4be5-f6cb-6c29bdf3a92f"
      },
      "source": [
        "import torch.nn as nn\r\n",
        "import torch.optim as optim\r\n",
        "import torch.nn.functional as F\r\n",
        "\r\n",
        "model = CustomResNet().to(device)\r\n",
        "optimizer = optim.SGD(model.parameters(), lr=1e-7)#, weight_decay=0.1)\r\n",
        "criterion = F.nll_loss #nn.CrossEntropyLoss()\r\n",
        "lr_finder = LRFinder(model, optimizer, criterion, device=\"cuda\" )\r\n",
        "lr_finder.range_test(train_loader=trainloader,val_loader=testloader, end_lr=3, num_iter=100)#, step_mode=\"linear\"\r\n",
        "lr_finder.plot(log_lr=False)\r\n",
        "lr_finder.reset()"
      ],
      "execution_count": 12,
      "outputs": [
        {
          "output_type": "display_data",
          "data": {
            "application/vnd.jupyter.widget-view+json": {
              "model_id": "2b8dba5bde054915b9d51b6f3c82fb53",
              "version_minor": 0,
              "version_major": 2
            },
            "text/plain": [
              "HBox(children=(FloatProgress(value=0.0), HTML(value='')))"
            ]
          },
          "metadata": {
            "tags": []
          }
        },
        {
          "output_type": "stream",
          "text": [
            "Stopping early, the loss has diverged\n",
            "Learning rate search finished. See the graph with {finder_name}.plot()\n",
            "LR suggestion: steepest gradient\n",
            "Suggested LR: 2.02E-03\n"
          ],
          "name": "stdout"
        },
        {
          "output_type": "display_data",
          "data": {
            "image/png": "[encoded data removed]",
            "text/plain": [
              "<Figure size 432x288 with 1 Axes>"
            ]
          },
          "metadata": {
            "tags": [],
            "needs_background": "light"
          }
        }
      ]
    },
    {
      "cell_type": "code",
      "metadata": {
        "colab": {
          "base_uri": "https://localhost:8080/",
          "height": 379,
          "referenced_widgets": [
            "7e3a43d613f54f438ed10c778ce377b7",
            "c86c1400134846f2a7dee117bfa00e11",
            "144922ee30594563a3df0c6a48abfc41",
            "73174fc0033245d4ba4d6ed97cd98d7c",
            "86e37c49a4824ba2aa698bfd2fabe6ab",
            "6d9eb5fc82904a4280cbab89b5a42a2f",
            "0c4a2aa4c8fd4cc69f5d25c62360c950",
            "970fdff138ea46c2ad65785b4db6038f"
          ]
        },
        "id": "AYx-Iz9nRP-c",
        "outputId": "dcc75afd-186a-4efc-9969-63a62b2fb7cf"
      },
      "source": [
        "import torch.nn as nn\r\n",
        "import torch.optim as optim\r\n",
        "\r\n",
        "#model = CustomResNet().to(device)\r\n",
        "optimizer = optim.SGD(model.parameters(), lr=0.01)#weight_decay=0.0\r\n",
        "criterion = F.nll_loss\r\n",
        "lr_finder = LRFinder(model, optimizer, criterion, device=\"cuda\" )\r\n",
        "lr_finder.range_test(train_loader=trainloader,end_lr=3, num_iter=100)\r\n",
        "lr_finder.plot(log_lr=False)\r\n",
        "lr_finder.reset()"
      ],
      "execution_count": 12,
      "outputs": [
        {
          "output_type": "display_data",
          "data": {
            "application/vnd.jupyter.widget-view+json": {
              "model_id": "7e3a43d613f54f438ed10c778ce377b7",
              "version_minor": 0,
              "version_major": 2
            },
            "text/plain": [
              "HBox(children=(FloatProgress(value=0.0), HTML(value='')))"
            ]
          },
          "metadata": {
            "tags": []
          }
        },
        {
          "output_type": "stream",
          "text": [
            "Stopping early, the loss has diverged\n",
            "Learning rate search finished. See the graph with {finder_name}.plot()\n",
            "LR suggestion: steepest gradient\n",
            "Suggested LR: 4.48E-01\n"
          ],
          "name": "stdout"
        },
        {
          "output_type": "display_data",
          "data": {
            "image/png": "[encoded data removed]",
            "text/plain": [
              "<Figure size 432x288 with 1 Axes>"
            ]
          },
          "metadata": {
            "tags": [],
            "needs_background": "light"
          }
        }
      ]
    },
    {
      "cell_type": "markdown",
      "metadata": {
        "id": "U6-Bpy1ARfUT"
      },
      "source": [
        "Total training samples = 50000\n",
        "\n",
        "batch size = 512\n",
        "\n",
        "total iteration/epoch = 50000/512 = 97.65  approx = 98\n",
        "\n",
        "total iteration for 5 epochs(to get maxLR) = 488.25 approx = 490 as 98*5\n",
        "\n",
        "total iteration for 19 epochs (for step down) = 1855    considering approx = 98*19 = 1862\n"
      ]
    },
    {
      "cell_type": "code",
      "metadata": {
        "colab": {
          "base_uri": "https://localhost:8080/"
        },
        "id": "FqgHZQnWTJJA",
        "outputId": "f7c37a66-47d5-4a69-cfc9-5d2225843dc4"
      },
      "source": [
        "import torch.optim as optim\r\n",
        "from torch.optim.lr_scheduler import CyclicLR, OneCycleLR\r\n",
        "import torch.nn as nn\r\n",
        "import torch.nn.functional as F\r\n",
        "\r\n",
        "# train_loss = 0\r\n",
        "# train_acc=0\r\n",
        "# test_loss = 0\r\n",
        "# test_acc= 0 \r\n",
        "\r\n",
        "train_losses, train_accs=[],[]\r\n",
        "test_losses, test_accs=[],[]\r\n",
        "\r\n",
        "criterion = nn.CrossEntropyLoss()\r\n",
        "model =  CustomResNet().to(device)#ResNet18().to(device)\r\n",
        "\r\n",
        "\r\n",
        "lr_max=  4.48E-01#8.95E-01 #1.78E-02\r\n",
        "lr_min = 2.02E-03 #1.70E-03\r\n",
        "\r\n",
        "trainClass = customTraining(train_loader= trainloader,model=model,loss_func=criterion,device=device)\r\n",
        "testClass = customTest(test_loader=testloader,model=model,loss_func=F.cross_entropy,device=device)\r\n",
        "\r\n",
        "optimizer = optim.SGD(model.parameters(), lr=lr_min)\r\n",
        "lr_scheduler = CyclicLR(optimizer, base_lr=lr_min, max_lr=lr_max, step_size_up=490, step_size_down=1862)\r\n",
        "#lr_scheduler = OneCycleLR(optimizer, pct_start = 0.2, max_lr = lr_max, steps_per_epoch = 98, epochs=24, anneal_strategy= 'linear')\r\n",
        "\r\n",
        "EPOCHS = 24\r\n",
        "for epoch in range(EPOCHS):\r\n",
        "    #print(\"EPOCH:\", epoch)\r\n",
        "    print('Epoch-{0} lr: {1}'.format(epoch, optimizer.param_groups[0]['lr']))\r\n",
        "    train_losses, train_accs = trainClass.trainWithLRStepping(optimizer,lr_scheduler)\r\n",
        "    test_losses, test_accs = testClass.test()\r\n",
        "    #lr_scheduler.step(test_losses[-1])\r\n",
        "    #lr_scheduler.step()"
      ],
      "execution_count": 16,
      "outputs": [
        {
          "output_type": "stream",
          "text": [
            "\r  0%|          | 0/98 [00:00<?, ?it/s]"
          ],
          "name": "stderr"
        },
        {
          "output_type": "stream",
          "text": [
            "Epoch-0 lr: 0.00202\n"
          ],
          "name": "stdout"
        },
        {
          "output_type": "stream",
          "text": [
            "Loss=2.565117359161377 Batch_id=97 Accuracy=15.15: 100%|██████████| 98/98 [00:25<00:00,  3.89it/s]\n",
            "  0%|          | 0/98 [00:00<?, ?it/s]"
          ],
          "name": "stderr"
        },
        {
          "output_type": "stream",
          "text": [
            "\n",
            "Test set: Average loss: 3.3828, Accuracy: 2135/10000 (21.35%)\n",
            "\n",
            "Epoch-1 lr: 0.09121600000000014\n"
          ],
          "name": "stdout"
        },
        {
          "output_type": "stream",
          "text": [
            "Loss=1.7609971761703491 Batch_id=97 Accuracy=28.30: 100%|██████████| 98/98 [00:26<00:00,  3.77it/s]\n",
            "  0%|          | 0/98 [00:00<?, ?it/s]"
          ],
          "name": "stderr"
        },
        {
          "output_type": "stream",
          "text": [
            "\n",
            "Test set: Average loss: 1.8805, Accuracy: 3540/10000 (35.40%)\n",
            "\n",
            "Epoch-2 lr: 0.18041199999999982\n"
          ],
          "name": "stdout"
        },
        {
          "output_type": "stream",
          "text": [
            "Loss=1.4201078414916992 Batch_id=97 Accuracy=46.31: 100%|██████████| 98/98 [00:25<00:00,  3.86it/s]\n",
            "  0%|          | 0/98 [00:00<?, ?it/s]"
          ],
          "name": "stderr"
        },
        {
          "output_type": "stream",
          "text": [
            "\n",
            "Test set: Average loss: 1.4504, Accuracy: 5123/10000 (51.23%)\n",
            "\n",
            "Epoch-3 lr: 0.269608\n"
          ],
          "name": "stdout"
        },
        {
          "output_type": "stream",
          "text": [
            "Loss=0.9354349970817566 Batch_id=97 Accuracy=58.65: 100%|██████████| 98/98 [00:25<00:00,  3.88it/s]\n",
            "  0%|          | 0/98 [00:00<?, ?it/s]"
          ],
          "name": "stderr"
        },
        {
          "output_type": "stream",
          "text": [
            "\n",
            "Test set: Average loss: 1.1417, Accuracy: 6196/10000 (61.96%)\n",
            "\n",
            "Epoch-4 lr: 0.3588040000000001\n"
          ],
          "name": "stdout"
        },
        {
          "output_type": "stream",
          "text": [
            "Loss=0.8147420287132263 Batch_id=97 Accuracy=68.33: 100%|██████████| 98/98 [00:25<00:00,  3.83it/s]\n",
            "  0%|          | 0/98 [00:00<?, ?it/s]"
          ],
          "name": "stderr"
        },
        {
          "output_type": "stream",
          "text": [
            "\n",
            "Test set: Average loss: 0.8423, Accuracy: 7231/10000 (72.31%)\n",
            "\n",
            "Epoch-5 lr: 0.4479999999999998\n"
          ],
          "name": "stdout"
        },
        {
          "output_type": "stream",
          "text": [
            "Loss=0.6576142907142639 Batch_id=97 Accuracy=74.54: 100%|██████████| 98/98 [00:25<00:00,  3.84it/s]\n",
            "  0%|          | 0/98 [00:00<?, ?it/s]"
          ],
          "name": "stderr"
        },
        {
          "output_type": "stream",
          "text": [
            "\n",
            "Test set: Average loss: 0.7347, Accuracy: 7569/10000 (75.69%)\n",
            "\n",
            "Epoch-6 lr: 0.42452736842105265\n"
          ],
          "name": "stdout"
        },
        {
          "output_type": "stream",
          "text": [
            "Loss=0.5816787481307983 Batch_id=97 Accuracy=79.29: 100%|██████████| 98/98 [00:25<00:00,  3.86it/s]\n",
            "  0%|          | 0/98 [00:00<?, ?it/s]"
          ],
          "name": "stderr"
        },
        {
          "output_type": "stream",
          "text": [
            "\n",
            "Test set: Average loss: 0.6336, Accuracy: 7877/10000 (78.77%)\n",
            "\n",
            "Epoch-7 lr: 0.40105473684210524\n"
          ],
          "name": "stdout"
        },
        {
          "output_type": "stream",
          "text": [
            "Loss=0.5470909476280212 Batch_id=97 Accuracy=82.40: 100%|██████████| 98/98 [00:25<00:00,  3.84it/s]\n",
            "  0%|          | 0/98 [00:00<?, ?it/s]"
          ],
          "name": "stderr"
        },
        {
          "output_type": "stream",
          "text": [
            "\n",
            "Test set: Average loss: 0.6031, Accuracy: 7999/10000 (79.99%)\n",
            "\n",
            "Epoch-8 lr: 0.377582105263158\n"
          ],
          "name": "stdout"
        },
        {
          "output_type": "stream",
          "text": [
            "Loss=0.4385250210762024 Batch_id=97 Accuracy=85.06: 100%|██████████| 98/98 [00:25<00:00,  3.83it/s]\n",
            "  0%|          | 0/98 [00:00<?, ?it/s]"
          ],
          "name": "stderr"
        },
        {
          "output_type": "stream",
          "text": [
            "\n",
            "Test set: Average loss: 0.5357, Accuracy: 8212/10000 (82.12%)\n",
            "\n",
            "Epoch-9 lr: 0.35410947368421053\n"
          ],
          "name": "stdout"
        },
        {
          "output_type": "stream",
          "text": [
            "Loss=0.3383578360080719 Batch_id=97 Accuracy=86.79: 100%|██████████| 98/98 [00:25<00:00,  3.83it/s]\n",
            "  0%|          | 0/98 [00:00<?, ?it/s]"
          ],
          "name": "stderr"
        },
        {
          "output_type": "stream",
          "text": [
            "\n",
            "Test set: Average loss: 0.4993, Accuracy: 8375/10000 (83.75%)\n",
            "\n",
            "Epoch-10 lr: 0.3306368421052632\n"
          ],
          "name": "stdout"
        },
        {
          "output_type": "stream",
          "text": [
            "Loss=0.33101630210876465 Batch_id=97 Accuracy=88.53: 100%|██████████| 98/98 [00:25<00:00,  3.83it/s]\n",
            "  0%|          | 0/98 [00:00<?, ?it/s]"
          ],
          "name": "stderr"
        },
        {
          "output_type": "stream",
          "text": [
            "\n",
            "Test set: Average loss: 0.5098, Accuracy: 8363/10000 (83.63%)\n",
            "\n",
            "Epoch-11 lr: 0.3071642105263159\n"
          ],
          "name": "stdout"
        },
        {
          "output_type": "stream",
          "text": [
            "Loss=0.3086349070072174 Batch_id=97 Accuracy=90.08: 100%|██████████| 98/98 [00:25<00:00,  3.83it/s]\n",
            "  0%|          | 0/98 [00:00<?, ?it/s]"
          ],
          "name": "stderr"
        },
        {
          "output_type": "stream",
          "text": [
            "\n",
            "Test set: Average loss: 0.4871, Accuracy: 8459/10000 (84.59%)\n",
            "\n",
            "Epoch-12 lr: 0.28369157894736846\n"
          ],
          "name": "stdout"
        },
        {
          "output_type": "stream",
          "text": [
            "Loss=0.2613948583602905 Batch_id=97 Accuracy=91.78: 100%|██████████| 98/98 [00:25<00:00,  3.81it/s]\n",
            "  0%|          | 0/98 [00:00<?, ?it/s]"
          ],
          "name": "stderr"
        },
        {
          "output_type": "stream",
          "text": [
            "\n",
            "Test set: Average loss: 0.4854, Accuracy: 8564/10000 (85.64%)\n",
            "\n",
            "Epoch-13 lr: 0.26021894736842116\n"
          ],
          "name": "stdout"
        },
        {
          "output_type": "stream",
          "text": [
            "Loss=0.20664122700691223 Batch_id=97 Accuracy=92.93: 100%|██████████| 98/98 [00:25<00:00,  3.83it/s]\n",
            "  0%|          | 0/98 [00:00<?, ?it/s]"
          ],
          "name": "stderr"
        },
        {
          "output_type": "stream",
          "text": [
            "\n",
            "Test set: Average loss: 0.5774, Accuracy: 8421/10000 (84.21%)\n",
            "\n",
            "Epoch-14 lr: 0.2367463157894736\n"
          ],
          "name": "stdout"
        },
        {
          "output_type": "stream",
          "text": [
            "Loss=0.12883375585079193 Batch_id=97 Accuracy=93.77: 100%|██████████| 98/98 [00:25<00:00,  3.83it/s]\n",
            "  0%|          | 0/98 [00:00<?, ?it/s]"
          ],
          "name": "stderr"
        },
        {
          "output_type": "stream",
          "text": [
            "\n",
            "Test set: Average loss: 0.4970, Accuracy: 8615/10000 (86.15%)\n",
            "\n",
            "Epoch-15 lr: 0.2132736842105263\n"
          ],
          "name": "stdout"
        },
        {
          "output_type": "stream",
          "text": [
            "Loss=0.19341135025024414 Batch_id=97 Accuracy=94.96: 100%|██████████| 98/98 [00:25<00:00,  3.83it/s]\n",
            "  0%|          | 0/98 [00:00<?, ?it/s]"
          ],
          "name": "stderr"
        },
        {
          "output_type": "stream",
          "text": [
            "\n",
            "Test set: Average loss: 0.5123, Accuracy: 8609/10000 (86.09%)\n",
            "\n",
            "Epoch-16 lr: 0.18980105263157904\n"
          ],
          "name": "stdout"
        },
        {
          "output_type": "stream",
          "text": [
            "Loss=0.1464587152004242 Batch_id=97 Accuracy=95.67: 100%|██████████| 98/98 [00:25<00:00,  3.84it/s]\n",
            "  0%|          | 0/98 [00:00<?, ?it/s]"
          ],
          "name": "stderr"
        },
        {
          "output_type": "stream",
          "text": [
            "\n",
            "Test set: Average loss: 0.5575, Accuracy: 8597/10000 (85.97%)\n",
            "\n",
            "Epoch-17 lr: 0.1663284210526315\n"
          ],
          "name": "stdout"
        },
        {
          "output_type": "stream",
          "text": [
            "Loss=0.11506932228803635 Batch_id=97 Accuracy=96.30: 100%|██████████| 98/98 [00:25<00:00,  3.84it/s]\n",
            "  0%|          | 0/98 [00:00<?, ?it/s]"
          ],
          "name": "stderr"
        },
        {
          "output_type": "stream",
          "text": [
            "\n",
            "Test set: Average loss: 0.5287, Accuracy: 8683/10000 (86.83%)\n",
            "\n",
            "Epoch-18 lr: 0.1428557894736842\n"
          ],
          "name": "stdout"
        },
        {
          "output_type": "stream",
          "text": [
            "Loss=0.07674811780452728 Batch_id=97 Accuracy=96.95: 100%|██████████| 98/98 [00:25<00:00,  3.84it/s]\n",
            "  0%|          | 0/98 [00:00<?, ?it/s]"
          ],
          "name": "stderr"
        },
        {
          "output_type": "stream",
          "text": [
            "\n",
            "Test set: Average loss: 0.5094, Accuracy: 8747/10000 (87.47%)\n",
            "\n",
            "Epoch-19 lr: 0.11938315789473693\n"
          ],
          "name": "stdout"
        },
        {
          "output_type": "stream",
          "text": [
            "Loss=0.08669814467430115 Batch_id=97 Accuracy=97.14: 100%|██████████| 98/98 [00:25<00:00,  3.84it/s]\n",
            "  0%|          | 0/98 [00:00<?, ?it/s]"
          ],
          "name": "stderr"
        },
        {
          "output_type": "stream",
          "text": [
            "\n",
            "Test set: Average loss: 0.5252, Accuracy: 8823/10000 (88.23%)\n",
            "\n",
            "Epoch-20 lr: 0.09591052631578939\n"
          ],
          "name": "stdout"
        },
        {
          "output_type": "stream",
          "text": [
            "Loss=0.053581565618515015 Batch_id=97 Accuracy=97.59: 100%|██████████| 98/98 [00:25<00:00,  3.83it/s]\n",
            "  0%|          | 0/98 [00:00<?, ?it/s]"
          ],
          "name": "stderr"
        },
        {
          "output_type": "stream",
          "text": [
            "\n",
            "Test set: Average loss: 0.5133, Accuracy: 8807/10000 (88.07%)\n",
            "\n",
            "Epoch-21 lr: 0.0724378947368421\n"
          ],
          "name": "stdout"
        },
        {
          "output_type": "stream",
          "text": [
            "Loss=0.07026058435440063 Batch_id=97 Accuracy=97.80: 100%|██████████| 98/98 [00:25<00:00,  3.84it/s]\n",
            "  0%|          | 0/98 [00:00<?, ?it/s]"
          ],
          "name": "stderr"
        },
        {
          "output_type": "stream",
          "text": [
            "\n",
            "Test set: Average loss: 0.5023, Accuracy: 8839/10000 (88.39%)\n",
            "\n",
            "Epoch-22 lr: 0.04896526315789482\n"
          ],
          "name": "stdout"
        },
        {
          "output_type": "stream",
          "text": [
            "Loss=0.05235602706670761 Batch_id=97 Accuracy=98.05: 100%|██████████| 98/98 [00:25<00:00,  3.83it/s]\n",
            "  0%|          | 0/98 [00:00<?, ?it/s]"
          ],
          "name": "stderr"
        },
        {
          "output_type": "stream",
          "text": [
            "\n",
            "Test set: Average loss: 0.5031, Accuracy: 8845/10000 (88.45%)\n",
            "\n",
            "Epoch-23 lr: 0.025492631578947288\n"
          ],
          "name": "stdout"
        },
        {
          "output_type": "stream",
          "text": [
            "Loss=0.0912943184375763 Batch_id=97 Accuracy=98.19: 100%|██████████| 98/98 [00:25<00:00,  3.83it/s]\n"
          ],
          "name": "stderr"
        },
        {
          "output_type": "stream",
          "text": [
            "\n",
            "Test set: Average loss: 0.4960, Accuracy: 8850/10000 (88.50%)\n",
            "\n"
          ],
          "name": "stdout"
        }
      ]
    },
    {
      "cell_type": "code",
      "metadata": {
        "colab": {
          "base_uri": "https://localhost:8080/",
          "height": 553
        },
        "id": "m42nAtwAfrks",
        "outputId": "d83f0ade-556a-4716-b168-84ad02b5dd61"
      },
      "source": [
        "#call plot functions\r\n",
        "\r\n",
        "# print(test_losses)\r\n",
        "# print(train_losses)\r\n",
        "# print(train_accs)\r\n",
        "dispFuns = customPlots(train_losses=train_losses, train_acc=train_accs, test_losses=test_losses, test_acc=test_accs)\r\n",
        "dispFuns.plot_losses()\r\n"
      ],
      "execution_count": 14,
      "outputs": [
        {
          "output_type": "display_data",
          "data": {
            "image/png": "[encoded data removed]",
            "text/plain": [
              "<Figure size 1080x720 with 4 Axes>"
            ]
          },
          "metadata": {
            "tags": [],
            "needs_background": "light"
          }
        }
      ]
    },
    {
      "cell_type": "code",
      "metadata": {
        "id": "REWLQ2oqU_mi"
      },
      "source": [
        ""
      ],
      "execution_count": null,
      "outputs": []
    }
  ]
}