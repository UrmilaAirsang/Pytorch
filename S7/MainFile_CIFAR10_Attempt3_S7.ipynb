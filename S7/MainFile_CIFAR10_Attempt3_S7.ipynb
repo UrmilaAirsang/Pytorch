{
  "nbformat": 4,
  "nbformat_minor": 0,
  "metadata": {
    "accelerator": "GPU",
    "colab": {
      "name": "MainFile_CIFAR10_Attempt3_S7.ipynb",
      "provenance": [],
      "collapsed_sections": []
    },
    "kernelspec": {
      "display_name": "Python 3",
      "name": "python3"
    },
    "language_info": {
      "codemirror_mode": {
        "name": "ipython",
        "version": 3
      },
      "file_extension": ".py",
      "mimetype": "text/x-python",
      "name": "python",
      "nbconvert_exporter": "python",
      "pygments_lexer": "ipython3",
      "version": "3.6.6"
    }
  },
  "cells": [
    {
      "cell_type": "markdown",
      "metadata": {
        "id": "YYSKQdRKP1_L"
      },
      "source": [
        "#Attempt3:  Creating Seperate files\r\n",
        "\r\n",
        "1. Created seperate files for model, train, test, loader\r\n",
        "\r\n",
        "but could import only model\r\n",
        "\r\n",
        "##Achieved 80.4% test accuracy with 65K model parameters\r\n",
        "\r\n",
        "Remarks:\r\n",
        "Could create seperate model file. and loaded using import\r\n",
        "\r\n",
        "Rest files created, but last execution is not tracing those files\r\n"
      ]
    },
    {
      "cell_type": "code",
      "metadata": {
        "colab": {
          "base_uri": "https://localhost:8080/"
        },
        "id": "e2bY2OKxtxoC",
        "outputId": "45641994-45a2-4157-84e2-648639312857"
      },
      "source": [
        "# Mount your google drive in google colab\r\n",
        "from google.colab import drive\r\n",
        "drive.mount('/content/drive')"
      ],
      "execution_count": 30,
      "outputs": [
        {
          "output_type": "stream",
          "text": [
            "Drive already mounted at /content/drive; to attempt to forcibly remount, call drive.mount(\"/content/drive\", force_remount=True).\n"
          ],
          "name": "stdout"
        }
      ]
    },
    {
      "cell_type": "code",
      "metadata": {
        "id": "xBoCK-9KwIK8"
      },
      "source": [
        "# Insert the directory\r\n",
        "import sys\r\n",
        "sys.path.insert(0,'/content/drive/My Drive/EVA_S7_CIFAR')"
      ],
      "execution_count": 31,
      "outputs": []
    },
    {
      "cell_type": "code",
      "metadata": {
        "colab": {
          "base_uri": "https://localhost:8080/"
        },
        "id": "TrdSki5rwVRq",
        "outputId": "534e20d2-09b7-42f4-91df-4480193de286"
      },
      "source": [
        "%cd '/content/drive/My Drive/EVA_S7_CIFAR'\r\n",
        "!pwd\r\n",
        "!ls"
      ],
      "execution_count": 62,
      "outputs": [
        {
          "output_type": "stream",
          "text": [
            "/content/drive/My Drive/EVA_S7_CIFAR\n",
            "/content/drive/My Drive/EVA_S7_CIFAR\n",
            "cifardataloadfile.py  __pycache__\t\ts7_cifar_modelfile.py\n",
            "data\t\t      s7_cifar_dataloadfile.py\ts7_cifar_trainfile.py\n"
          ],
          "name": "stdout"
        }
      ]
    },
    {
      "cell_type": "code",
      "metadata": {
        "id": "bP0SG9XWwjF7"
      },
      "source": [
        "# Import your module or file\r\n",
        "from s7_cifar_modelfile import Net\r\n",
        "#import cifardataloadfile  \r\n"
      ],
      "execution_count": 69,
      "outputs": []
    },
    {
      "cell_type": "code",
      "metadata": {
        "id": "qP5VHk6B06dG"
      },
      "source": [
        "# import sys\r\n",
        "# sys.path.append('/content/drive/My Drive/EVA_S7_CIFAR')\r\n",
        "# import s7_cifar_dataloadfile\r\n",
        "# import s7_cifar_trainfile\r\n",
        "# #from s7_cifar_trainfile import trainmodule"
      ],
      "execution_count": 68,
      "outputs": []
    },
    {
      "cell_type": "code",
      "metadata": {
        "id": "QVbdg0z4poCc"
      },
      "source": [
        "%matplotlib inline"
      ],
      "execution_count": 41,
      "outputs": []
    },
    {
      "cell_type": "code",
      "metadata": {
        "id": "-yVpodAMpoCi"
      },
      "source": [
        "import torch\n",
        "import torchvision\n",
        "import torchvision.transforms as transforms"
      ],
      "execution_count": 10,
      "outputs": []
    },
    {
      "cell_type": "code",
      "metadata": {
        "colab": {
          "base_uri": "https://localhost:8080/"
        },
        "id": "5kKTwdenRkOh",
        "outputId": "7d190b63-72d5-4a0e-bc5a-982f8b30710e"
      },
      "source": [
        "SEED = 1\r\n",
        "# CUDA?\r\n",
        "cuda = torch.cuda.is_available()\r\n",
        "print(\"CUDA Available?\", cuda)\r\n",
        "\r\n",
        "# For reproducibility\r\n",
        "torch.manual_seed(SEED)\r\n",
        "\r\n",
        "if cuda:\r\n",
        "    torch.cuda.manual_seed(SEED)"
      ],
      "execution_count": 11,
      "outputs": [
        {
          "output_type": "stream",
          "text": [
            "CUDA Available? True\n"
          ],
          "name": "stdout"
        }
      ]
    },
    {
      "cell_type": "code",
      "metadata": {
        "colab": {
          "base_uri": "https://localhost:8080/"
        },
        "id": "D8Tjigo2poCl",
        "outputId": "1e7141a9-ea78-4748-9508-5a1b7fae9621"
      },
      "source": [
        "\n",
        "trainset, trainloader, testset, testloader, classes = CIFAR10DataLoader()\n"
      ],
      "execution_count": 13,
      "outputs": [
        {
          "output_type": "stream",
          "text": [
            "Files already downloaded and verified\n",
            "Files already downloaded and verified\n"
          ],
          "name": "stdout"
        }
      ]
    },
    {
      "cell_type": "markdown",
      "metadata": {
        "id": "_cj433rtpoCn"
      },
      "source": [
        "Let us show some of the training images, for fun.\n",
        "\n"
      ]
    },
    {
      "cell_type": "code",
      "metadata": {
        "colab": {
          "base_uri": "https://localhost:8080/",
          "height": 302
        },
        "id": "daA7bADhpoCo",
        "outputId": "49447927-e546-4fce-fdd8-5ebf7a2735ce"
      },
      "source": [
        "import matplotlib.pyplot as plt\n",
        "import numpy as np\n",
        "\n",
        "# functions to show an image\n",
        "\n",
        "\n",
        "def imshow(img):\n",
        "    img = img / 2 + 0.5     # unnormalize\n",
        "    npimg = img.numpy() \n",
        "    plt.imshow(np.transpose(npimg, (1, 2, 0)))\n",
        "\n",
        "\n",
        "# get some random training images\n",
        "dataiter = iter(trainloader)\n",
        "images, labels = dataiter.next()\n",
        "print(images.numpy().shape)  \n",
        "\n",
        "# show images\n",
        "imshow(torchvision.utils.make_grid(images))\n",
        "# print labels\n",
        "print(' '.join('%5s' % classes[labels[j]] for j in range(4)))"
      ],
      "execution_count": 14,
      "outputs": [
        {
          "output_type": "stream",
          "text": [
            "(128, 3, 32, 32)\n",
            " deer   car horse   dog\n"
          ],
          "name": "stdout"
        },
        {
          "output_type": "display_data",
          "data": {
            "image/png": "[encoded data removed]",
            "text/plain": [
              "<Figure size 432x288 with 1 Axes>"
            ]
          },
          "metadata": {
            "tags": [],
            "needs_background": "light"
          }
        }
      ]
    },
    {
      "cell_type": "markdown",
      "metadata": {
        "id": "28OpHA_LpoCq"
      },
      "source": [
        "2. Define a Convolution Neural Network\n",
        "^^^^^^^^^^^^^^^^^^^^^^^^^^^^^^^^^^^^^^\n",
        "Copy the neural network from the Neural Networks section before and modify it to\n",
        "take 3-channel images (instead of 1-channel images as it was defined).\n",
        "\n"
      ]
    },
    {
      "cell_type": "code",
      "metadata": {
        "colab": {
          "base_uri": "https://localhost:8080/"
        },
        "id": "pJT1GZXWSafc",
        "outputId": "ea1f634b-b26c-4507-e927-81581437fe23"
      },
      "source": [
        "# load to device and print model summary\r\n",
        "!pip install torchsummary\r\n",
        "from torchsummary import summary\r\n",
        "use_cuda = torch.cuda.is_available()\r\n",
        "device = torch.device(\"cuda\" if use_cuda else \"cpu\")\r\n",
        "print(device)\r\n",
        "model = Net().to(device)\r\n",
        "summary(model, input_size=(3, 32, 32))"
      ],
      "execution_count": 15,
      "outputs": [
        {
          "output_type": "stream",
          "text": [
            "Requirement already satisfied: torchsummary in /usr/local/lib/python3.6/dist-packages (1.5.1)\n",
            "cuda\n",
            "----------------------------------------------------------------\n",
            "        Layer (type)               Output Shape         Param #\n",
            "================================================================\n",
            "            Conv2d-1           [-1, 32, 32, 32]             864\n",
            "              ReLU-2           [-1, 32, 32, 32]               0\n",
            "       BatchNorm2d-3           [-1, 32, 32, 32]              64\n",
            "           Dropout-4           [-1, 32, 32, 32]               0\n",
            "            Conv2d-5           [-1, 64, 32, 32]          18,432\n",
            "              ReLU-6           [-1, 64, 32, 32]               0\n",
            "       BatchNorm2d-7           [-1, 64, 32, 32]             128\n",
            "           Dropout-8           [-1, 64, 32, 32]               0\n",
            "            Conv2d-9           [-1, 32, 34, 34]           2,048\n",
            "        MaxPool2d-10           [-1, 32, 17, 17]               0\n",
            "           Conv2d-11           [-1, 32, 17, 17]             320\n",
            "           Conv2d-12           [-1, 64, 17, 17]           2,112\n",
            "depthwise_separable_conv-13           [-1, 64, 17, 17]               0\n",
            "             ReLU-14           [-1, 64, 17, 17]               0\n",
            "      BatchNorm2d-15           [-1, 64, 17, 17]             128\n",
            "          Dropout-16           [-1, 64, 17, 17]               0\n",
            "           Conv2d-17           [-1, 32, 19, 19]           2,048\n",
            "        MaxPool2d-18             [-1, 32, 9, 9]               0\n",
            "           Conv2d-19             [-1, 32, 7, 7]           9,248\n",
            "           Conv2d-20             [-1, 64, 5, 5]          18,496\n",
            "       DilatedCNN-21             [-1, 64, 5, 5]               0\n",
            "             ReLU-22             [-1, 64, 5, 5]               0\n",
            "      BatchNorm2d-23             [-1, 64, 5, 5]             128\n",
            "          Dropout-24             [-1, 64, 5, 5]               0\n",
            "           Conv2d-25             [-1, 32, 7, 7]           2,048\n",
            "        MaxPool2d-26             [-1, 32, 3, 3]               0\n",
            "           Conv2d-27             [-1, 32, 3, 3]           9,216\n",
            "             ReLU-28             [-1, 32, 3, 3]               0\n",
            "      BatchNorm2d-29             [-1, 32, 3, 3]              64\n",
            "          Dropout-30             [-1, 32, 3, 3]               0\n",
            "        AvgPool2d-31             [-1, 32, 1, 1]               0\n",
            "           Conv2d-32             [-1, 10, 1, 1]             320\n",
            "================================================================\n",
            "Total params: 65,664\n",
            "Trainable params: 65,664\n",
            "Non-trainable params: 0\n",
            "----------------------------------------------------------------\n",
            "Input size (MB): 0.01\n",
            "Forward/backward pass size (MB): 4.33\n",
            "Params size (MB): 0.25\n",
            "Estimated Total Size (MB): 4.60\n",
            "----------------------------------------------------------------\n"
          ],
          "name": "stdout"
        }
      ]
    },
    {
      "cell_type": "code",
      "metadata": {
        "id": "CSqFRQr-YG9B"
      },
      "source": [
        "from tqdm import tqdm\r\n",
        "\r\n",
        "# train_losses = []\r\n",
        "# test_losses = []\r\n",
        "# train_acc = []\r\n",
        "# test_acc = []\r\n",
        "\r\n",
        "def train(model, device, train_loader, optimizer, epoch):\r\n",
        "  model.train()\r\n",
        "  pbar = tqdm(train_loader)\r\n",
        "  correct = 0\r\n",
        "  processed = 0\r\n",
        "  for batch_idx, (data, target) in enumerate(pbar):\r\n",
        "    # get samples\r\n",
        "    data, target = data.to(device), target.to(device)\r\n",
        "\r\n",
        "    # Init\r\n",
        "    optimizer.zero_grad()\r\n",
        "    # In PyTorch, we need to set the gradients to zero before starting to do backpropragation because PyTorch accumulates the gradients on subsequent backward passes. \r\n",
        "    # Because of this, when you start your training loop, ideally you should zero out the gradients so that you do the parameter update correctly.\r\n",
        "\r\n",
        "    # Predict\r\n",
        "    y_pred = model(data)\r\n",
        "\r\n",
        "    # Calculate loss\r\n",
        "    loss = criterion(y_pred, target)\r\n",
        "    #train_losses.append(loss)\r\n",
        "\r\n",
        "    # Backpropagation\r\n",
        "    loss.backward()\r\n",
        "    optimizer.step()\r\n",
        "\r\n",
        "    # Update pbar-tqdm\r\n",
        "    \r\n",
        "    pred = y_pred.argmax(dim=1, keepdim=True)  # get the index of the max log-probability\r\n",
        "    correct += pred.eq(target.view_as(pred)).sum().item()\r\n",
        "    processed += len(data)\r\n",
        "\r\n",
        "    pbar.set_description(desc= f'Loss={loss.item()} Batch_id={batch_idx} Accuracy={100*correct/processed:0.2f}')\r\n",
        "    #train_acc.append(100*correct/processed)"
      ],
      "execution_count": null,
      "outputs": []
    },
    {
      "cell_type": "code",
      "metadata": {
        "id": "DqEtY2h-d0tn"
      },
      "source": [
        "def test(model, device, test_loader):\r\n",
        "    model.eval()\r\n",
        "    #test_loss = 0\r\n",
        "    correct = 0\r\n",
        "    with torch.no_grad():\r\n",
        "        for data, target in test_loader:\r\n",
        "            data, target = data.to(device), target.to(device)\r\n",
        "            output = model(data)\r\n",
        "           # test_loss += F.nll_loss(output, target, reduction='sum').item()  # sum up batch loss\r\n",
        "            pred = output.argmax(dim=1, keepdim=True)  # get the index of the max log-probability\r\n",
        "            correct += pred.eq(target.view_as(pred)).sum().item()\r\n",
        "\r\n",
        "    #test_loss /= len(test_loader.dataset)\r\n",
        "    #test_losses.append(test_loss)\r\n",
        "\r\n",
        "    print('\\nTest set: Accuracy: {}/{} ({:.2f}%)\\n'.format( correct, len(test_loader.dataset),\r\n",
        "        100. * correct / len(test_loader.dataset)))\r\n",
        "    \r\n",
        "    #test_acc.append(100. * correct / len(test_loader.dataset))"
      ],
      "execution_count": null,
      "outputs": []
    },
    {
      "cell_type": "code",
      "metadata": {
        "colab": {
          "base_uri": "https://localhost:8080/"
        },
        "id": "AO5lTrN-asu7",
        "outputId": "0ce5e3fa-6b84-42ab-e99a-1289a21503b9"
      },
      "source": [
        "import torch.optim as optim\r\n",
        "from torch.optim.lr_scheduler import StepLR, ReduceLROnPlateau\r\n",
        "\r\n",
        "criterion = nn.CrossEntropyLoss()\r\n",
        "model =  Net().to(device)\r\n",
        "optimizer = optim.SGD(model.parameters(), lr=0.1, momentum=0.7)\r\n",
        "\r\n",
        "scheduler = StepLR(optimizer, step_size=10, gamma=0.1)\r\n",
        "\r\n",
        "EPOCHS = 25\r\n",
        "for epoch in range(EPOCHS):\r\n",
        "    #print(\"EPOCH:\", epoch)\r\n",
        "    print('Epoch-{0} lr: {1}'.format(epoch, optimizer.param_groups[0]['lr']))\r\n",
        "    train(model, device, trainloader, optimizer, epoch)\r\n",
        "    scheduler.step()\r\n",
        "    test(model, device, testloader)"
      ],
      "execution_count": null,
      "outputs": [
        {
          "output_type": "stream",
          "text": [
            "\r  0%|          | 0/391 [00:00<?, ?it/s]"
          ],
          "name": "stderr"
        },
        {
          "output_type": "stream",
          "text": [
            "Epoch-0 lr: 0.1\n"
          ],
          "name": "stdout"
        },
        {
          "output_type": "stream",
          "text": [
            "Loss=1.0445002317428589 Batch_id=390 Accuracy=50.17: 100%|██████████| 391/391 [00:13<00:00, 28.47it/s]\n",
            "  0%|          | 0/391 [00:00<?, ?it/s]"
          ],
          "name": "stderr"
        },
        {
          "output_type": "stream",
          "text": [
            "\n",
            "Test set: Accuracy: 5564/10000 (55.64%)\n",
            "\n",
            "Epoch-1 lr: 0.1\n"
          ],
          "name": "stdout"
        },
        {
          "output_type": "stream",
          "text": [
            "Loss=0.7034409642219543 Batch_id=390 Accuracy=63.93: 100%|██████████| 391/391 [00:13<00:00, 28.13it/s]\n",
            "  0%|          | 0/391 [00:00<?, ?it/s]"
          ],
          "name": "stderr"
        },
        {
          "output_type": "stream",
          "text": [
            "\n",
            "Test set: Accuracy: 6555/10000 (65.55%)\n",
            "\n",
            "Epoch-2 lr: 0.1\n"
          ],
          "name": "stdout"
        },
        {
          "output_type": "stream",
          "text": [
            "Loss=0.8528324961662292 Batch_id=390 Accuracy=68.90: 100%|██████████| 391/391 [00:13<00:00, 28.42it/s]\n",
            "  0%|          | 0/391 [00:00<?, ?it/s]"
          ],
          "name": "stderr"
        },
        {
          "output_type": "stream",
          "text": [
            "\n",
            "Test set: Accuracy: 6885/10000 (68.85%)\n",
            "\n",
            "Epoch-3 lr: 0.1\n"
          ],
          "name": "stdout"
        },
        {
          "output_type": "stream",
          "text": [
            "Loss=0.6286733746528625 Batch_id=390 Accuracy=71.88: 100%|██████████| 391/391 [00:13<00:00, 28.29it/s]\n",
            "  0%|          | 0/391 [00:00<?, ?it/s]"
          ],
          "name": "stderr"
        },
        {
          "output_type": "stream",
          "text": [
            "\n",
            "Test set: Accuracy: 6867/10000 (68.67%)\n",
            "\n",
            "Epoch-4 lr: 0.1\n"
          ],
          "name": "stdout"
        },
        {
          "output_type": "stream",
          "text": [
            "Loss=0.7498045563697815 Batch_id=390 Accuracy=74.00: 100%|██████████| 391/391 [00:14<00:00, 27.73it/s]\n",
            "  0%|          | 0/391 [00:00<?, ?it/s]"
          ],
          "name": "stderr"
        },
        {
          "output_type": "stream",
          "text": [
            "\n",
            "Test set: Accuracy: 7193/10000 (71.93%)\n",
            "\n",
            "Epoch-5 lr: 0.1\n"
          ],
          "name": "stdout"
        },
        {
          "output_type": "stream",
          "text": [
            "Loss=0.6803346276283264 Batch_id=390 Accuracy=75.77: 100%|██████████| 391/391 [00:14<00:00, 27.58it/s]\n",
            "  0%|          | 0/391 [00:00<?, ?it/s]"
          ],
          "name": "stderr"
        },
        {
          "output_type": "stream",
          "text": [
            "\n",
            "Test set: Accuracy: 7432/10000 (74.32%)\n",
            "\n",
            "Epoch-6 lr: 0.1\n"
          ],
          "name": "stdout"
        },
        {
          "output_type": "stream",
          "text": [
            "Loss=0.6648900508880615 Batch_id=390 Accuracy=76.73: 100%|██████████| 391/391 [00:13<00:00, 28.54it/s]\n",
            "  0%|          | 0/391 [00:00<?, ?it/s]"
          ],
          "name": "stderr"
        },
        {
          "output_type": "stream",
          "text": [
            "\n",
            "Test set: Accuracy: 7488/10000 (74.88%)\n",
            "\n",
            "Epoch-7 lr: 0.1\n"
          ],
          "name": "stdout"
        },
        {
          "output_type": "stream",
          "text": [
            "Loss=0.5956546664237976 Batch_id=390 Accuracy=77.76: 100%|██████████| 391/391 [00:13<00:00, 28.83it/s]\n",
            "  0%|          | 0/391 [00:00<?, ?it/s]"
          ],
          "name": "stderr"
        },
        {
          "output_type": "stream",
          "text": [
            "\n",
            "Test set: Accuracy: 7508/10000 (75.08%)\n",
            "\n",
            "Epoch-8 lr: 0.1\n"
          ],
          "name": "stdout"
        },
        {
          "output_type": "stream",
          "text": [
            "Loss=0.7665612697601318 Batch_id=390 Accuracy=78.87: 100%|██████████| 391/391 [00:13<00:00, 29.12it/s]\n",
            "  0%|          | 0/391 [00:00<?, ?it/s]"
          ],
          "name": "stderr"
        },
        {
          "output_type": "stream",
          "text": [
            "\n",
            "Test set: Accuracy: 7670/10000 (76.70%)\n",
            "\n",
            "Epoch-9 lr: 0.1\n"
          ],
          "name": "stdout"
        },
        {
          "output_type": "stream",
          "text": [
            "Loss=0.7647866010665894 Batch_id=390 Accuracy=79.36: 100%|██████████| 391/391 [00:13<00:00, 28.41it/s]\n",
            "  0%|          | 0/391 [00:00<?, ?it/s]"
          ],
          "name": "stderr"
        },
        {
          "output_type": "stream",
          "text": [
            "\n",
            "Test set: Accuracy: 7736/10000 (77.36%)\n",
            "\n",
            "Epoch-10 lr: 0.010000000000000002\n"
          ],
          "name": "stdout"
        },
        {
          "output_type": "stream",
          "text": [
            "Loss=0.4880300462245941 Batch_id=390 Accuracy=82.87: 100%|██████████| 391/391 [00:13<00:00, 29.06it/s]\n",
            "  0%|          | 0/391 [00:00<?, ?it/s]"
          ],
          "name": "stderr"
        },
        {
          "output_type": "stream",
          "text": [
            "\n",
            "Test set: Accuracy: 7984/10000 (79.84%)\n",
            "\n",
            "Epoch-11 lr: 0.010000000000000002\n"
          ],
          "name": "stdout"
        },
        {
          "output_type": "stream",
          "text": [
            "Loss=0.3404723107814789 Batch_id=390 Accuracy=83.67: 100%|██████████| 391/391 [00:13<00:00, 29.09it/s]\n",
            "  0%|          | 0/391 [00:00<?, ?it/s]"
          ],
          "name": "stderr"
        },
        {
          "output_type": "stream",
          "text": [
            "\n",
            "Test set: Accuracy: 8030/10000 (80.30%)\n",
            "\n",
            "Epoch-12 lr: 0.010000000000000002\n"
          ],
          "name": "stdout"
        },
        {
          "output_type": "stream",
          "text": [
            "Loss=0.7621990442276001 Batch_id=390 Accuracy=84.09: 100%|██████████| 391/391 [00:13<00:00, 29.49it/s]\n",
            "  0%|          | 0/391 [00:00<?, ?it/s]"
          ],
          "name": "stderr"
        },
        {
          "output_type": "stream",
          "text": [
            "\n",
            "Test set: Accuracy: 7986/10000 (79.86%)\n",
            "\n",
            "Epoch-13 lr: 0.010000000000000002\n"
          ],
          "name": "stdout"
        },
        {
          "output_type": "stream",
          "text": [
            "Loss=0.3831670880317688 Batch_id=390 Accuracy=84.26: 100%|██████████| 391/391 [00:13<00:00, 28.22it/s]\n",
            "  0%|          | 0/391 [00:00<?, ?it/s]"
          ],
          "name": "stderr"
        },
        {
          "output_type": "stream",
          "text": [
            "\n",
            "Test set: Accuracy: 8013/10000 (80.13%)\n",
            "\n",
            "Epoch-14 lr: 0.010000000000000002\n"
          ],
          "name": "stdout"
        },
        {
          "output_type": "stream",
          "text": [
            "Loss=0.6286684274673462 Batch_id=390 Accuracy=84.56: 100%|██████████| 391/391 [00:13<00:00, 29.18it/s]\n",
            "  0%|          | 0/391 [00:00<?, ?it/s]"
          ],
          "name": "stderr"
        },
        {
          "output_type": "stream",
          "text": [
            "\n",
            "Test set: Accuracy: 8041/10000 (80.41%)\n",
            "\n",
            "Epoch-15 lr: 0.010000000000000002\n"
          ],
          "name": "stdout"
        },
        {
          "output_type": "stream",
          "text": [
            "Loss=0.4621942639350891 Batch_id=390 Accuracy=84.73: 100%|██████████| 391/391 [00:13<00:00, 29.07it/s]\n",
            "  0%|          | 0/391 [00:00<?, ?it/s]"
          ],
          "name": "stderr"
        },
        {
          "output_type": "stream",
          "text": [
            "\n",
            "Test set: Accuracy: 7976/10000 (79.76%)\n",
            "\n",
            "Epoch-16 lr: 0.010000000000000002\n"
          ],
          "name": "stdout"
        },
        {
          "output_type": "stream",
          "text": [
            "Loss=0.3721739649772644 Batch_id=390 Accuracy=84.84: 100%|██████████| 391/391 [00:13<00:00, 29.07it/s]\n",
            "  0%|          | 0/391 [00:00<?, ?it/s]"
          ],
          "name": "stderr"
        },
        {
          "output_type": "stream",
          "text": [
            "\n",
            "Test set: Accuracy: 7988/10000 (79.88%)\n",
            "\n",
            "Epoch-17 lr: 0.010000000000000002\n"
          ],
          "name": "stdout"
        },
        {
          "output_type": "stream",
          "text": [
            "Loss=0.3602469265460968 Batch_id=390 Accuracy=85.02: 100%|██████████| 391/391 [00:13<00:00, 28.80it/s]\n",
            "  0%|          | 0/391 [00:00<?, ?it/s]"
          ],
          "name": "stderr"
        },
        {
          "output_type": "stream",
          "text": [
            "\n",
            "Test set: Accuracy: 7974/10000 (79.74%)\n",
            "\n",
            "Epoch-18 lr: 0.010000000000000002\n"
          ],
          "name": "stdout"
        },
        {
          "output_type": "stream",
          "text": [
            "Loss=0.39006978273391724 Batch_id=390 Accuracy=85.08: 100%|██████████| 391/391 [00:13<00:00, 28.78it/s]\n",
            "  0%|          | 0/391 [00:00<?, ?it/s]"
          ],
          "name": "stderr"
        },
        {
          "output_type": "stream",
          "text": [
            "\n",
            "Test set: Accuracy: 8001/10000 (80.01%)\n",
            "\n",
            "Epoch-19 lr: 0.010000000000000002\n"
          ],
          "name": "stdout"
        },
        {
          "output_type": "stream",
          "text": [
            "Loss=0.35737162828445435 Batch_id=390 Accuracy=85.21: 100%|██████████| 391/391 [00:13<00:00, 29.12it/s]\n",
            "  0%|          | 0/391 [00:00<?, ?it/s]"
          ],
          "name": "stderr"
        },
        {
          "output_type": "stream",
          "text": [
            "\n",
            "Test set: Accuracy: 7993/10000 (79.93%)\n",
            "\n",
            "Epoch-20 lr: 0.0010000000000000002\n"
          ],
          "name": "stdout"
        },
        {
          "output_type": "stream",
          "text": [
            "Loss=0.6162678599357605 Batch_id=390 Accuracy=85.64: 100%|██████████| 391/391 [00:13<00:00, 29.30it/s]\n",
            "  0%|          | 0/391 [00:00<?, ?it/s]"
          ],
          "name": "stderr"
        },
        {
          "output_type": "stream",
          "text": [
            "\n",
            "Test set: Accuracy: 8007/10000 (80.07%)\n",
            "\n",
            "Epoch-21 lr: 0.0010000000000000002\n"
          ],
          "name": "stdout"
        },
        {
          "output_type": "stream",
          "text": [
            "Loss=0.34582608938217163 Batch_id=390 Accuracy=85.76: 100%|██████████| 391/391 [00:13<00:00, 28.92it/s]\n",
            "  0%|          | 0/391 [00:00<?, ?it/s]"
          ],
          "name": "stderr"
        },
        {
          "output_type": "stream",
          "text": [
            "\n",
            "Test set: Accuracy: 7978/10000 (79.78%)\n",
            "\n",
            "Epoch-22 lr: 0.0010000000000000002\n"
          ],
          "name": "stdout"
        },
        {
          "output_type": "stream",
          "text": [
            "Loss=0.3539150357246399 Batch_id=390 Accuracy=85.65: 100%|██████████| 391/391 [00:13<00:00, 29.09it/s]\n",
            "  0%|          | 0/391 [00:00<?, ?it/s]"
          ],
          "name": "stderr"
        },
        {
          "output_type": "stream",
          "text": [
            "\n",
            "Test set: Accuracy: 8013/10000 (80.13%)\n",
            "\n",
            "Epoch-23 lr: 0.0010000000000000002\n"
          ],
          "name": "stdout"
        },
        {
          "output_type": "stream",
          "text": [
            "Loss=0.32145825028419495 Batch_id=390 Accuracy=85.66: 100%|██████████| 391/391 [00:13<00:00, 28.77it/s]\n",
            "  0%|          | 0/391 [00:00<?, ?it/s]"
          ],
          "name": "stderr"
        },
        {
          "output_type": "stream",
          "text": [
            "\n",
            "Test set: Accuracy: 8017/10000 (80.17%)\n",
            "\n",
            "Epoch-24 lr: 0.0010000000000000002\n"
          ],
          "name": "stdout"
        },
        {
          "output_type": "stream",
          "text": [
            "Loss=0.3997013568878174 Batch_id=390 Accuracy=85.94: 100%|██████████| 391/391 [00:13<00:00, 28.65it/s]\n"
          ],
          "name": "stderr"
        },
        {
          "output_type": "stream",
          "text": [
            "\n",
            "Test set: Accuracy: 8002/10000 (80.02%)\n",
            "\n"
          ],
          "name": "stdout"
        }
      ]
    },
    {
      "cell_type": "markdown",
      "metadata": {
        "id": "YLrvL_fHpoC5"
      },
      "source": [
        "5. Test the network on the test data\n",
        "^^^^^^^^^^^^^^^^^^^^^^^^^^^^^^^^^^^^\n",
        "\n",
        "\n"
      ]
    },
    {
      "cell_type": "code",
      "metadata": {
        "colab": {
          "base_uri": "https://localhost:8080/",
          "height": 286
        },
        "id": "nizbsvw9poC6",
        "outputId": "6839d845-a8e4-4687-8fe8-0eaf33a7bbe8"
      },
      "source": [
        "dataiter = iter(testloader)\n",
        "images, labels = dataiter.next()\n",
        "images, labels = images.to(device), labels.to(device)\n",
        "\n",
        "imagesToshow = images.detach().cpu()\n",
        "# print images\n",
        "imshow(torchvision.utils.make_grid(imagesToshow))\n",
        "print('GroundTruth: ', ' '.join('%5s' % classes[labels[j]] for j in range(4)))"
      ],
      "execution_count": null,
      "outputs": [
        {
          "output_type": "stream",
          "text": [
            "GroundTruth:    cat  ship  ship plane\n"
          ],
          "name": "stdout"
        },
        {
          "output_type": "display_data",
          "data": {
            "image/png": "[encoded data removed]",
            "text/plain": [
              "<Figure size 432x288 with 1 Axes>"
            ]
          },
          "metadata": {
            "tags": [],
            "needs_background": "light"
          }
        }
      ]
    },
    {
      "cell_type": "code",
      "metadata": {
        "id": "deRnOtInPm8H"
      },
      "source": [
        "def classwiseAccuracy(model,device,testloader, batchSize,numClasses):\r\n",
        "  class_correct = list(0. for i in range(numClasses))\r\n",
        "  class_total = list(0. for i in range(numClasses))\r\n",
        "  with torch.no_grad():\r\n",
        "      for data in testloader:\r\n",
        "          images, labels = data\r\n",
        "          images, labels = images.to(device), labels.to(device)\r\n",
        "          outputs = model(images)\r\n",
        "          _, predicted = torch.max(outputs, 1)\r\n",
        "          c = (predicted == labels).squeeze()\r\n",
        "          for i in range(batchSize):\r\n",
        "              label = labels[i]\r\n",
        "              class_correct[label] += c[i].item()\r\n",
        "              class_total[label] += 1\r\n",
        "  for i in range(numClasses):\r\n",
        "        print('Accuracy of %5s : %2d %%' % (\r\n",
        "            classes[i], 100 * class_correct[i] / class_total[i]))\r\n"
      ],
      "execution_count": null,
      "outputs": []
    },
    {
      "cell_type": "code",
      "metadata": {
        "colab": {
          "base_uri": "https://localhost:8080/"
        },
        "id": "vyCLwfyuiHFj",
        "outputId": "f84e68db-8546-496c-8778-400bb07fa949"
      },
      "source": [
        "classwiseAccuracy(model, device, testloader,4,10)"
      ],
      "execution_count": null,
      "outputs": [
        {
          "output_type": "stream",
          "text": [
            "Accuracy of plane : 79 %\n",
            "Accuracy of   car : 92 %\n",
            "Accuracy of  bird : 81 %\n",
            "Accuracy of   cat : 50 %\n",
            "Accuracy of  deer : 59 %\n",
            "Accuracy of   dog : 51 %\n",
            "Accuracy of  frog : 77 %\n",
            "Accuracy of horse : 84 %\n",
            "Accuracy of  ship : 90 %\n",
            "Accuracy of truck : 82 %\n"
          ],
          "name": "stdout"
        }
      ]
    },
    {
      "cell_type": "code",
      "metadata": {
        "id": "9OGoceSyp3YD"
      },
      "source": [
        ""
      ],
      "execution_count": null,
      "outputs": []
    }
  ]
}