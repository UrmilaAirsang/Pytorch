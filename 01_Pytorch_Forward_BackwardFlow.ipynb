{
  "nbformat": 4,
  "nbformat_minor": 0,
  "metadata": {
    "colab": {
      "name": "01_Pytorch_Forward_BackwardFlow.ipynb",
      "provenance": [],
      "collapsed_sections": [],
      "authorship_tag": "ABX9TyMD7Shse/ki8hY7liK0TQU8",
      "include_colab_link": true
    },
    "kernelspec": {
      "name": "python3",
      "display_name": "Python 3"
    },
    "accelerator": "GPU"
  },
  "cells": [
    {
      "cell_type": "markdown",
      "metadata": {
        "id": "view-in-github",
        "colab_type": "text"
      },
      "source": [
        "<a href=\"https://colab.research.google.com/github/UrmilaAirsang/Pytorch/blob/main/01_Pytorch_Forward_BackwardFlow.ipynb\" target=\"_parent\"><img src=\"https://colab.research.google.com/assets/colab-badge.svg\" alt=\"Open In Colab\"/></a>"
      ]
    },
    {
      "cell_type": "code",
      "metadata": {
        "id": "jQCbmHZN5bZo"
      },
      "source": [
        "#from __future__ import print_function\n",
        "import torch\n",
        "#import torch.nn as nn\n",
        "#import torch.nn.functional as F\n",
        "#import torch.optim as optim\n",
        "#from torchvision import datasets, transforms"
      ],
      "execution_count": 1,
      "outputs": []
    },
    {
      "cell_type": "code",
      "metadata": {
        "colab": {
          "base_uri": "https://localhost:8080/"
        },
        "id": "_tWRUaG35s_5",
        "outputId": "871c686a-26cf-437f-ea76-8c02ca3f2131"
      },
      "source": [
        "x= torch.randn([20,1], requires_grad=True)\n",
        "y= 3*x-2\n",
        "print(x)\n",
        "print(y)"
      ],
      "execution_count": 2,
      "outputs": [
        {
          "output_type": "stream",
          "text": [
            "tensor([[ 0.2921],\n",
            "        [ 0.1406],\n",
            "        [-0.1908],\n",
            "        [ 1.1231],\n",
            "        [ 1.5459],\n",
            "        [-0.4909],\n",
            "        [ 0.0226],\n",
            "        [-0.0819],\n",
            "        [-1.5020],\n",
            "        [-0.4192],\n",
            "        [ 0.5904],\n",
            "        [ 0.0977],\n",
            "        [ 1.0778],\n",
            "        [-1.1043],\n",
            "        [-0.6109],\n",
            "        [-1.0140],\n",
            "        [-1.5152],\n",
            "        [ 0.0084],\n",
            "        [ 0.3314],\n",
            "        [ 0.5202]], requires_grad=True)\n",
            "tensor([[-1.1238],\n",
            "        [-1.5783],\n",
            "        [-2.5725],\n",
            "        [ 1.3694],\n",
            "        [ 2.6377],\n",
            "        [-3.4727],\n",
            "        [-1.9323],\n",
            "        [-2.2457],\n",
            "        [-6.5061],\n",
            "        [-3.2575],\n",
            "        [-0.2289],\n",
            "        [-1.7070],\n",
            "        [ 1.2334],\n",
            "        [-5.3130],\n",
            "        [-3.8326],\n",
            "        [-5.0419],\n",
            "        [-6.5456],\n",
            "        [-1.9747],\n",
            "        [-1.0059],\n",
            "        [-0.4395]], grad_fn=<SubBackward0>)\n"
          ],
          "name": "stdout"
        }
      ]
    },
    {
      "cell_type": "code",
      "metadata": {
        "id": "IaJwgs2p56qO"
      },
      "source": [
        "w=torch.tensor([1.], requires_grad=True)\n",
        "b=torch.tensor([1.], requires_grad=True)\n",
        "#print(w.item(),b.item())\n",
        "y_hat = w*x+b;\n",
        "# print(y_hat)\n",
        "# diff = y_hat-y\n",
        "# print(diff)\n",
        "loss=torch.sum((y_hat-y)**2)\n",
        "#print(loss)\n",
        "loss.backward()"
      ],
      "execution_count": 3,
      "outputs": []
    },
    {
      "cell_type": "code",
      "metadata": {
        "colab": {
          "base_uri": "https://localhost:8080/"
        },
        "id": "dugrxpzt6cae",
        "outputId": "addfdd65-033b-4d20-8c95-e9a0b01e69fb"
      },
      "source": [
        "\n",
        "print(w.grad,b.grad)"
      ],
      "execution_count": 4,
      "outputs": [
        {
          "output_type": "stream",
          "text": [
            "tensor([-60.2338]) tensor([124.7168])\n"
          ],
          "name": "stdout"
        }
      ]
    },
    {
      "cell_type": "code",
      "metadata": {
        "id": "E1FphrLn-mv_"
      },
      "source": [
        ""
      ],
      "execution_count": null,
      "outputs": []
    }
  ]
}