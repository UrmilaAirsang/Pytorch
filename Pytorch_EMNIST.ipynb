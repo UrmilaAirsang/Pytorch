{
  "nbformat": 4,
  "nbformat_minor": 0,
  "metadata": {
    "colab": {
      "name": "Pytorch_EMNIST.ipynb",
      "provenance": [],
      "collapsed_sections": [],
      "authorship_tag": "ABX9TyMBgTKkcZ5bAONahGtkAK5Y",
      "include_colab_link": true
    },
    "kernelspec": {
      "name": "python3",
      "display_name": "Python 3"
    },
    "accelerator": "GPU",
    "widgets": {
      "application/vnd.jupyter.widget-state+json": {
        "f9add1a4c67c4ce78cf68c86a11f9a0e": {
          "model_module": "@jupyter-widgets/controls",
          "model_name": "HBoxModel",
          "state": {
            "_view_name": "HBoxView",
            "_dom_classes": [],
            "_model_name": "HBoxModel",
            "_view_module": "@jupyter-widgets/controls",
            "_model_module_version": "1.5.0",
            "_view_count": null,
            "_view_module_version": "1.5.0",
            "box_style": "",
            "layout": "IPY_MODEL_b2190d9534844081b7d920eaee37eb29",
            "_model_module": "@jupyter-widgets/controls",
            "children": [
              "IPY_MODEL_8228553e040145ecb99e77684c81fbc0",
              "IPY_MODEL_ac0d23690ea640d1b09901e60e0e9e46"
            ]
          }
        }
      }
    }
  },
  "cells": [
    {
      "cell_type": "markdown",
      "metadata": {
        "id": "view-in-github",
        "colab_type": "text"
      },
      "source": [
        "<a href=\"https://colab.research.google.com/github/UrmilaAirsang/Pytorch/blob/main/Pytorch_EMNIST.ipynb\" target=\"_parent\"><img src=\"https://colab.research.google.com/assets/colab-badge.svg\" alt=\"Open In Colab\"/></a>"
      ]
    },
    {
      "cell_type": "markdown",
      "metadata": {
        "id": "Tq_yx5DH9_ei"
      },
      "source": [
        "Pipeline for DNN\r\n",
        "1. Prepare the data\r\n",
        "2. Build the model\r\n",
        "3. Train the model\r\n",
        "4. Analyze the model"
      ]
    },
    {
      "cell_type": "code",
      "metadata": {
        "id": "Mu_wegdl943K"
      },
      "source": [
        "import torch\r\n",
        "import torchvision # provide access to datasets, models, transforms, utils, etc\r\n",
        "import torchvision.transforms as transforms"
      ],
      "execution_count": 1,
      "outputs": []
    },
    {
      "cell_type": "markdown",
      "metadata": {
        "id": "PTmUYY1W98iq"
      },
      "source": [
        "# Step1: Loading EMNIST by class data"
      ]
    },
    {
      "cell_type": "code",
      "metadata": {
        "colab": {
          "base_uri": "https://localhost:8080/",
          "height": 185,
          "referenced_widgets": [
            "f9add1a4c67c4ce78cf68c86a11f9a0e"
          ]
        },
        "id": "eSaMifqC_E-b",
        "outputId": "65783f99-62ac-480b-aa75-a1a746c58c4f"
      },
      "source": [
        "# now let's work with FashionMnist\r\n",
        "\r\n",
        "train_set = torchvision.datasets.EMNIST(\r\n",
        "    split = 'byclass',\r\n",
        "    root='./data'\r\n",
        "    ,train=True\r\n",
        "    ,download=True\r\n",
        "    ,transform=transforms.Compose([\r\n",
        "        transforms.ToTensor()\r\n",
        "    ])\r\n",
        ")"
      ],
      "execution_count": 7,
      "outputs": [
        {
          "output_type": "stream",
          "text": [
            "Downloading and extracting zip archive\n",
            "Downloading http://www.itl.nist.gov/iaui/vip/cs_links/EMNIST/gzip.zip to ./data/EMNIST/raw/emnist.zip\n"
          ],
          "name": "stdout"
        },
        {
          "output_type": "display_data",
          "data": {
            "application/vnd.jupyter.widget-view+json": {
              "model_id": "f9add1a4c67c4ce78cf68c86a11f9a0e",
              "version_minor": 0,
              "version_major": 2
            },
            "text/plain": [
              "HBox(children=(FloatProgress(value=1.0, bar_style='info', max=1.0), HTML(value='')))"
            ]
          },
          "metadata": {
            "tags": []
          }
        },
        {
          "output_type": "stream",
          "text": [
            "Extracting ./data/EMNIST/raw/emnist.zip to ./data/EMNIST/raw\n",
            "Processing byclass\n",
            "Processing bymerge\n",
            "Processing balanced\n",
            "Processing letters\n",
            "Processing digits\n",
            "Processing mnist\n",
            "Done!\n"
          ],
          "name": "stdout"
        }
      ]
    },
    {
      "cell_type": "markdown",
      "metadata": {
        "id": "AlPtgQPpCfbk"
      },
      "source": [
        "#Step2 :Train Loader properties\r\n",
        "1. shuffling the data \r\n",
        "2. setting the batch size"
      ]
    },
    {
      "cell_type": "code",
      "metadata": {
        "colab": {
          "base_uri": "https://localhost:8080/"
        },
        "id": "Zdla6NRG_kxR",
        "outputId": "a92ffa51-389e-4095-c4d2-36790577053b"
      },
      "source": [
        "train_loader = torch.utils.data.DataLoader(train_set\r\n",
        "    ,batch_size=10\r\n",
        "    ,shuffle=True\r\n",
        ")\r\n",
        "len(train_set)\r\n"
      ],
      "execution_count": 13,
      "outputs": [
        {
          "output_type": "execute_result",
          "data": {
            "text/plain": [
              "697932"
            ]
          },
          "metadata": {
            "tags": []
          },
          "execution_count": 13
        }
      ]
    },
    {
      "cell_type": "code",
      "metadata": {
        "colab": {
          "base_uri": "https://localhost:8080/"
        },
        "id": "eteo8zQECtgv",
        "outputId": "d7851ad5-39cb-4e5b-bb0a-2e75297f2d6d"
      },
      "source": [
        "from pprint import pprint\r\n",
        "\r\n",
        "pprint(max(train_set.train_labels)) # 0-61 is the label names\r\n"
      ],
      "execution_count": 15,
      "outputs": [
        {
          "output_type": "stream",
          "text": [
            "/usr/local/lib/python3.6/dist-packages/torchvision/datasets/mnist.py:48: UserWarning: train_labels has been renamed targets\n",
            "  warnings.warn(\"train_labels has been renamed targets\")\n"
          ],
          "name": "stderr"
        },
        {
          "output_type": "stream",
          "text": [
            "tensor(61)\n"
          ],
          "name": "stdout"
        }
      ]
    },
    {
      "cell_type": "code",
      "metadata": {
        "colab": {
          "base_uri": "https://localhost:8080/",
          "height": 302
        },
        "id": "pm7t-XHdCyfr",
        "outputId": "4af3d25e-55da-4607-b3a1-53e430caf988"
      },
      "source": [
        "train_set.train_labels.bincount() #frequency of each label, we have unbalanced class here\r\n",
        "# Bar graph for number of samples/class\r\n",
        "import matplotlib.pyplot as plt  # This is python's popular plotting library.\r\n",
        "# This is to ensure matplotlib plots inline and does not try to open a new window.\r\n",
        "%matplotlib inline \r\n",
        "# Show the tensor.\r\n",
        "def showTensor(aTensor):\r\n",
        "    plt.figure()\r\n",
        "    plt.bar(range(0,62),aTensor.numpy())\r\n",
        "    plt.show()\r\n",
        "    \r\n",
        "showTensor(train_set.train_labels.bincount());"
      ],
      "execution_count": 29,
      "outputs": [
        {
          "output_type": "stream",
          "text": [
            "/usr/local/lib/python3.6/dist-packages/torchvision/datasets/mnist.py:48: UserWarning: train_labels has been renamed targets\n",
            "  warnings.warn(\"train_labels has been renamed targets\")\n"
          ],
          "name": "stderr"
        },
        {
          "output_type": "display_data",
          "data": {
            "image/png": "[encoded data removed]",
            "text/plain": [
              "<Figure size 432x288 with 1 Axes>"
            ]
          },
          "metadata": {
            "tags": [],
            "needs_background": "light"
          }
        }
      ]
    },
    {
      "cell_type": "markdown",
      "metadata": {
        "id": "SZh9dDX2IOg4"
      },
      "source": [
        "# visualizing the data"
      ]
    },
    {
      "cell_type": "code",
      "metadata": {
        "colab": {
          "base_uri": "https://localhost:8080/",
          "height": 298
        },
        "id": "eJePrspVDyyr",
        "outputId": "ff6cd486-72f1-43f9-cdd1-864e2dd206f7"
      },
      "source": [
        "sample = next(iter(train_set))\r\n",
        "image, label = sample\r\n",
        "print(\"image shape:\", image.shape)\r\n",
        "plt.imshow(image.squeeze(), cmap='gray')\r\n",
        "print('label:', label)"
      ],
      "execution_count": 34,
      "outputs": [
        {
          "output_type": "stream",
          "text": [
            "image shape: torch.Size([1, 28, 28])\n",
            "label: 35\n"
          ],
          "name": "stdout"
        },
        {
          "output_type": "display_data",
          "data": {
            "image/png": "[encoded data removed]",
            "text/plain": [
              "<Figure size 432x288 with 1 Axes>"
            ]
          },
          "metadata": {
            "tags": [],
            "needs_background": "light"
          }
        }
      ]
    },
    {
      "cell_type": "markdown",
      "metadata": {
        "id": "ke790ZxPJLBH"
      },
      "source": [
        "#Step3: Network Building\r\n",
        "1. 6 Convolution layers with these kernels (10, 10, 20, 20, 30)\r\n",
        "2. no fully connected layer (use of Global Average Pooling layer)\r\n",
        "3. use of EMNIST as the dataset - by_class \r\n",
        "4. use of one max-pooling layer"
      ]
    },
    {
      "cell_type": "code",
      "metadata": {
        "id": "q1hnoYonHhaJ"
      },
      "source": [
        "import torch.nn as nn\r\n",
        "import torch.nn.functional as F\r\n",
        "class Network(nn.Module):\r\n",
        "    def __init__(self):\r\n",
        "        super().__init__()\r\n",
        "        self.conv1 = nn.Conv2d(in_channels=1, out_channels=10, kernel_size=3)\r\n",
        "        self.conv2 = nn.Conv2d(in_channels=10, out_channels=10, kernel_size=3)\r\n",
        "        self.conv3 = nn.Conv2d(in_channels=10, out_channels=20, kernel_size=3)\r\n",
        "        self.conv4 = nn.Conv2d(in_channels=20, out_channels=20, kernel_size=3)\r\n",
        "        self.conv5 = nn.Conv2d(in_channels=20, out_channels=30, kernel_size=3)\r\n",
        "        self.conv6 = nn.Conv2d(in_channels=30, out_channels=62, kernel_size=3)\r\n",
        "\r\n",
        "        #self.Adtap = nn.AdaptiveAvgPool2d(1)\r\n",
        "        self.gap = nn.AvgPool2d(kernel_size=4)\r\n",
        "        \r\n",
        "\r\n",
        "        #self.fc1 = nn.Linear(in_features=12 * 4 * 4, out_features=120)\r\n",
        "        #self.fc2 = nn.Linear(in_features=120, out_features=60)\r\n",
        "        #self.out = nn.Linear(in_features=60, out_features=10)\r\n",
        "\r\n",
        "    def forward(self, inputTensor):\r\n",
        "        # (1) input layer\r\n",
        "        t = inputTensor    # input image size = 28*28*1\r\n",
        "\r\n",
        "        # (2) hidden conv layer\r\n",
        "        t = self.conv1(t)  # input size = 28*28*1  output = 26*26*10  RF = 3*3 \r\n",
        "        t = F.relu(t)\r\n",
        "        \r\n",
        "        # (3) hidden conv layer\r\n",
        "        t = self.conv2(t)  # input size = 26*26*10  output = 24*24*10  RF = 5*5 \r\n",
        "        t = F.relu(t)\r\n",
        "        t = F.max_pool2d(t, kernel_size=2, stride=2)  # input size = 24*24*10  output = 12*12*10  RF = 10*10 \r\n",
        "\r\n",
        "\r\n",
        "        # (4) hidden conv layer\r\n",
        "        t = self.conv3(t)  # input size = 12*12*10  output = 10*10*20  RF = 12*12 \r\n",
        "        t = F.relu(t)\r\n",
        "\r\n",
        "        # (5) hidden conv layer\r\n",
        "        t = self.conv4(t)  # input size = 10*10*20  output = 8*8*20  RF = 14*14\r\n",
        "        t = F.relu(t)\r\n",
        "        #t = F.max_pool2d(t, kernel_size=2, stride=2)\r\n",
        "\r\n",
        "        # (6) hidden conv layer\r\n",
        "        t = self.conv5(t)   # input size = 8*8*20  output = 6*6*30  RF = 16*16 \r\n",
        "        t = F.relu(t)\r\n",
        "\r\n",
        "\r\n",
        "        # (7) hidden conv layer\r\n",
        "        t = self.conv6(t)  # input size = 6*6*30  output = 4*4*62  RF = 18*18\r\n",
        "        \r\n",
        "\r\n",
        "        # (8) output layer\r\n",
        "       # t = self.Adtap(t)  # input size = 4*4*62  output = 1*1*62  RF = 28*28\r\n",
        "        t = self.gap(t) #62 converted into 62 outputs\r\n",
        "        t = F.softmax(t.view(-1,62), dim=1)\r\n",
        "\r\n",
        "        return t"
      ],
      "execution_count": 89,
      "outputs": []
    },
    {
      "cell_type": "code",
      "metadata": {
        "colab": {
          "base_uri": "https://localhost:8080/"
        },
        "id": "__eCXmKWg26P",
        "outputId": "80ac939b-fac4-4202-cd79-e902cef66f49"
      },
      "source": [
        "# from torchsummary import summary\r\n",
        "# network = Network()\r\n",
        "# summary(network,(1,28,28))\r\n",
        "device = torch.device(\"cuda:0\" if torch.cuda.is_available() else \"cpu\")\r\n",
        "device\r\n"
      ],
      "execution_count": 90,
      "outputs": [
        {
          "output_type": "execute_result",
          "data": {
            "text/plain": [
              "device(type='cuda', index=0)"
            ]
          },
          "metadata": {
            "tags": []
          },
          "execution_count": 90
        }
      ]
    },
    {
      "cell_type": "markdown",
      "metadata": {
        "id": "l4Jh6C9C2guE"
      },
      "source": [
        "#Step4: Network Training\r\n",
        "1. network weights/paramters, image,labels are on cuda device\r\n",
        "2. Calculated accuracy for every epoch"
      ]
    },
    {
      "cell_type": "code",
      "metadata": {
        "colab": {
          "base_uri": "https://localhost:8080/"
        },
        "id": "HnFa16w3XE_W",
        "outputId": "7f8b5a34-13ec-41a7-c508-5c22710cf2c5"
      },
      "source": [
        "import torch.optim as optim\r\n",
        "network = Network()\r\n",
        "if torch.cuda.is_available():\r\n",
        "    network.cuda()\r\n",
        "\r\n",
        "device = torch.device('cuda:0')\r\n",
        "def get_num_correct(preds, labels):\r\n",
        "  return preds.argmax(dim=1).eq(labels).sum().item()\r\n",
        "\r\n",
        "train_loader = torch.utils.data.DataLoader(train_set, batch_size=128)\r\n",
        "optimizer = optim.SGD(network.parameters(), lr=0.01)\r\n",
        "\r\n",
        "for epoch in range(25):\r\n",
        "    total_loss = 0\r\n",
        "    total_correct = 0\r\n",
        "\r\n",
        "    for batch in train_loader: # Get Batch\r\n",
        "        images, labels = batch \r\n",
        "        images, labels = images.to(device),labels.to(device) \r\n",
        "\r\n",
        "        preds = network(images) # Pass Batch        \r\n",
        "        loss = F.cross_entropy(preds, labels) # Calculate Loss\r\n",
        "\r\n",
        "        optimizer.zero_grad()\r\n",
        "        loss.backward() # Calculate Gradients\r\n",
        "        optimizer.step() # Update Weights\r\n",
        "\r\n",
        "        total_loss += loss.item()\r\n",
        "        total_correct += get_num_correct(preds, labels)\r\n",
        "\r\n",
        "    print(\r\n",
        "        \"epoch\", epoch, \r\n",
        "        \"total_correct:\", total_correct, \r\n",
        "        \"loss:\", total_loss,\r\n",
        "        \"acc:\",total_correct/len(train_set)\r\n",
        "    )"
      ],
      "execution_count": 92,
      "outputs": [
        {
          "output_type": "stream",
          "text": [
            "epoch 0 total_correct: 23404 loss: 22504.437237739563 acc: 0.03353335281947238\n",
            "epoch 1 total_correct: 24631 loss: 22501.673963069916 acc: 0.03529140374706991\n",
            "epoch 2 total_correct: 28612 loss: 22492.879009723663 acc: 0.04099539783245359\n",
            "epoch 3 total_correct: 74330 loss: 22091.18756365776 acc: 0.10650034673865076\n",
            "epoch 4 total_correct: 152923 loss: 21464.921126127243 acc: 0.2191087383871208\n",
            "epoch 5 total_correct: 166093 loss: 21357.218734264374 acc: 0.23797877157086936\n",
            "epoch 6 total_correct: 172575 loss: 21306.159800052643 acc: 0.2472662093155207\n",
            "epoch 7 total_correct: 199520 loss: 21098.12817287445 acc: 0.28587312230990986\n",
            "epoch 8 total_correct: 202130 loss: 21074.611702680588 acc: 0.28961274164245226\n",
            "epoch 9 total_correct: 203175 loss: 21065.29334807396 acc: 0.2911100221798112\n",
            "epoch 10 total_correct: 203926 loss: 21059.07872390747 acc: 0.2921860582406309\n",
            "epoch 11 total_correct: 204529 loss: 21054.0988574028 acc: 0.293050039258839\n",
            "epoch 12 total_correct: 204985 loss: 21050.07965350151 acc: 0.29370339803877743\n",
            "epoch 13 total_correct: 205442 loss: 21046.36334323883 acc: 0.2943581896230578\n",
            "epoch 14 total_correct: 205876 loss: 21043.306891918182 acc: 0.2949800267074729\n",
            "epoch 15 total_correct: 206172 loss: 21040.492921113968 acc: 0.2954041367926961\n",
            "epoch 16 total_correct: 206513 loss: 21037.91206550598 acc: 0.295892723073308\n",
            "epoch 17 total_correct: 206743 loss: 21035.691977262497 acc: 0.29622226807196117\n",
            "epoch 18 total_correct: 220561 loss: 20929.737924814224 acc: 0.31602075846930644\n",
            "epoch 19 total_correct: 237319 loss: 20799.513122558594 acc: 0.3400316936320444\n",
            "epoch 20 total_correct: 238132 loss: 20792.78276872635 acc: 0.34119656356206624\n",
            "epoch 21 total_correct: 238599 loss: 20788.515074968338 acc: 0.34186568318976635\n",
            "epoch 22 total_correct: 238996 loss: 20785.089584589005 acc: 0.3424345065135285\n",
            "epoch 23 total_correct: 239360 loss: 20782.25047302246 acc: 0.3429560472940057\n",
            "epoch 24 total_correct: 239637 loss: 20779.600054502487 acc: 0.3433529340967315\n"
          ],
          "name": "stdout"
        }
      ]
    },
    {
      "cell_type": "code",
      "metadata": {
        "id": "lAPIWNhFamC8"
      },
      "source": [
        ""
      ],
      "execution_count": null,
      "outputs": []
    }
  ]
}