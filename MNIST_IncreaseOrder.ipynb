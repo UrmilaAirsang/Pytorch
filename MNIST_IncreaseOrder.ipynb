{
  "nbformat": 4,
  "nbformat_minor": 0,
  "metadata": {
    "colab": {
      "name": "MNIST_IncreaseOrder.ipynb",
      "provenance": [],
      "authorship_tag": "ABX9TyOKsqNcEBcmjWyvilH+ZXjz",
      "include_colab_link": true
    },
    "kernelspec": {
      "name": "python3",
      "display_name": "Python 3"
    },
    "accelerator": "GPU"
  },
  "cells": [
    {
      "cell_type": "markdown",
      "metadata": {
        "id": "view-in-github",
        "colab_type": "text"
      },
      "source": [
        "<a href=\"https://colab.research.google.com/github/UrmilaAirsang/Pytorch/blob/main/MNIST_IncreaseOrder.ipynb\" target=\"_parent\"><img src=\"https://colab.research.google.com/assets/colab-badge.svg\" alt=\"Open In Colab\"/></a>"
      ]
    },
    {
      "cell_type": "code",
      "metadata": {
        "id": "A2DBoCkFIE96"
      },
      "source": [
        "from __future__ import print_function\r\n",
        "import torch\r\n",
        "import torch.nn as nn\r\n",
        "import torch.nn.functional as F\r\n",
        "import torch.optim as optim\r\n",
        "from torchvision import datasets, transforms"
      ],
      "execution_count": 1,
      "outputs": []
    },
    {
      "cell_type": "code",
      "metadata": {
        "colab": {
          "base_uri": "https://localhost:8080/"
        },
        "id": "ycrT9UfcIkBO",
        "outputId": "e07a69ae-545d-4ac1-f8db-e7005b0c75e3"
      },
      "source": [
        "#  Try  \r\n",
        "class Net(nn.Module):\r\n",
        "    def __init__(self):\r\n",
        "        super(Net, self).__init__()\r\n",
        "        self.conv1 = nn.Conv2d(1, 15, 3, padding=0) #input -? OUtput? RF\r\n",
        "        self.BN1 = nn.BatchNorm2d(15)\r\n",
        "        self.conv2 = nn.Conv2d(15, 20, 3, padding=0)\r\n",
        "        self.BN2 = nn.BatchNorm2d(20)        \r\n",
        "        self.pool1 = nn.MaxPool2d(2, 2)\r\n",
        "        self.conv3 = nn.Conv2d(20, 32, 3, padding=0)   \r\n",
        "        self.BN3 = nn.BatchNorm2d(32)  \r\n",
        "        self.conv4 = nn.Conv2d(32, 20, 3, padding=0)   \r\n",
        "        self.BN4 = nn.BatchNorm2d(20)\r\n",
        "        self.pool2 = nn.MaxPool2d(2, 2)        \r\n",
        "        self.conv5 = nn.Conv2d(20, 15, 1)\r\n",
        "        self.BN5 = nn.BatchNorm2d(15)        \r\n",
        "         \r\n",
        "        #self.pool2 = nn.MaxPool2d(2, 2)\r\n",
        "        self.conv6 = nn.Conv2d(15, 10, 1)\r\n",
        "        self.ap1 = nn.AvgPool2d(3)\r\n",
        "\r\n",
        "    def forward(self, x):\r\n",
        "        x = self.pool1(self.BN2(F.relu(self.conv2(self.BN1(F.relu(self.conv1(x)))))))\r\n",
        "        x = self.pool2(self.BN4(F.relu(self.conv4(self.BN3(F.relu(self.conv3(x)))))))\r\n",
        "        x = self.ap1(self.conv6(self.BN5(self.conv5(x))))\r\n",
        "        #x = F.relu(self.conv7(x))\r\n",
        "        x = x.view(-1, 10)\r\n",
        "        return F.log_softmax(x)\r\n",
        "\r\n",
        "from torchsummary import summary\r\n",
        "use_cuda = torch.cuda.is_available()\r\n",
        "device = torch.device(\"cuda\" if use_cuda else \"cpu\")\r\n",
        "model = Net().to(device)\r\n",
        "summary(model, input_size=(1, 28, 28))"
      ],
      "execution_count": 3,
      "outputs": [
        {
          "output_type": "stream",
          "text": [
            "----------------------------------------------------------------\n",
            "        Layer (type)               Output Shape         Param #\n",
            "================================================================\n",
            "            Conv2d-1           [-1, 15, 26, 26]             150\n",
            "       BatchNorm2d-2           [-1, 15, 26, 26]              30\n",
            "            Conv2d-3           [-1, 20, 24, 24]           2,720\n",
            "       BatchNorm2d-4           [-1, 20, 24, 24]              40\n",
            "         MaxPool2d-5           [-1, 20, 12, 12]               0\n",
            "            Conv2d-6           [-1, 32, 10, 10]           5,792\n",
            "       BatchNorm2d-7           [-1, 32, 10, 10]              64\n",
            "            Conv2d-8             [-1, 20, 8, 8]           5,780\n",
            "       BatchNorm2d-9             [-1, 20, 8, 8]              40\n",
            "        MaxPool2d-10             [-1, 20, 4, 4]               0\n",
            "           Conv2d-11             [-1, 15, 4, 4]             315\n",
            "      BatchNorm2d-12             [-1, 15, 4, 4]              30\n",
            "           Conv2d-13             [-1, 10, 4, 4]             160\n",
            "        AvgPool2d-14             [-1, 10, 1, 1]               0\n",
            "================================================================\n",
            "Total params: 15,121\n",
            "Trainable params: 15,121\n",
            "Non-trainable params: 0\n",
            "----------------------------------------------------------------\n",
            "Input size (MB): 0.00\n",
            "Forward/backward pass size (MB): 0.43\n",
            "Params size (MB): 0.06\n",
            "Estimated Total Size (MB): 0.49\n",
            "----------------------------------------------------------------\n"
          ],
          "name": "stdout"
        },
        {
          "output_type": "stream",
          "text": [
            "/usr/local/lib/python3.6/dist-packages/ipykernel_launcher.py:28: UserWarning: Implicit dimension choice for log_softmax has been deprecated. Change the call to include dim=X as an argument.\n"
          ],
          "name": "stderr"
        }
      ]
    },
    {
      "cell_type": "code",
      "metadata": {
        "id": "6L7VcnDRKG55"
      },
      "source": [
        "#image augmentation: A\r\n",
        "torch.manual_seed(1)\r\n",
        "batch_size = 64\r\n",
        "\r\n",
        "customTransforms =transforms.Compose([\r\n",
        "                        #transforms.ToPILImage(),\r\n",
        "                        #transforms.ColorJitter(brightness=0.5),\r\n",
        "                        #transforms.RandomGrayscale(p=0.2),                                                                           \r\n",
        "                        transforms.RandomAffine(degrees=15,translate = (0.1, 0.1), scale = (0.9, 1.1)),\r\n",
        "                        #transforms.RandomRotation(15),                        \r\n",
        "                        #transforms.GaussianBlur(5),                                                  \r\n",
        "                        transforms.ToTensor(),\r\n",
        "                        transforms.Normalize((0.1307,), (0.3081,))\r\n",
        "                    ])\r\n",
        "kwargs = {'num_workers': 1, 'pin_memory': True} if use_cuda else {}\r\n",
        "train_loader = torch.utils.data.DataLoader(\r\n",
        "    datasets.MNIST('../data', train=True, download=True,\r\n",
        "                    transform=customTransforms),\r\n",
        "    batch_size=batch_size, shuffle=True, **kwargs)\r\n",
        "test_loader = torch.utils.data.DataLoader(\r\n",
        "    datasets.MNIST('../data', train=False, transform=transforms.Compose([\r\n",
        "                        transforms.ToTensor(),\r\n",
        "                        transforms.Normalize((0.1307,), (0.3081,))\r\n",
        "                    ])),\r\n",
        "    batch_size=batch_size, shuffle=True, **kwargs)\r\n"
      ],
      "execution_count": 5,
      "outputs": []
    },
    {
      "cell_type": "code",
      "metadata": {
        "id": "iOqVG8CwKKou"
      },
      "source": [
        "from tqdm import tqdm\r\n",
        "def train(model, device, train_loader, optimizer, epoch):\r\n",
        "    model.train()\r\n",
        "    pbar = tqdm(train_loader)\r\n",
        "    for batch_idx, (data, target) in enumerate(pbar):\r\n",
        "        data, target = data.to(device), target.to(device)\r\n",
        "        optimizer.zero_grad()\r\n",
        "        output = model(data)\r\n",
        "        loss = F.nll_loss(output, target)\r\n",
        "        losses.append(loss.item())\r\n",
        "        loss.backward()\r\n",
        "        optimizer.step()\r\n",
        "        pbar.set_description(desc= f'loss={loss.item()} batch_id={batch_idx}')\r\n",
        "    mean_loss = sum(losses)/len(losses)\r\n",
        "    scheduler.step(mean_loss)\r\n",
        "\r\n",
        "def test(model, device, test_loader):\r\n",
        "    model.eval()\r\n",
        "    test_loss = 0\r\n",
        "    correct = 0\r\n",
        "    with torch.no_grad():\r\n",
        "        for data, target in test_loader:\r\n",
        "            data, target = data.to(device), target.to(device)\r\n",
        "            output = model(data)\r\n",
        "            test_loss += F.nll_loss(output, target, reduction='sum').item()  # sum up batch loss\r\n",
        "            pred = output.argmax(dim=1, keepdim=True)  # get the index of the max log-probability\r\n",
        "            correct += pred.eq(target.view_as(pred)).sum().item()\r\n",
        "\r\n",
        "    test_loss /= len(test_loader.dataset)\r\n",
        "\r\n",
        "    print('\\nTest set: Average loss: {:.4f}, Accuracy: {}/{} ({:.4f}%)\\n'.format(\r\n",
        "        test_loss, correct, len(test_loader.dataset),\r\n",
        "        100. * correct / len(test_loader.dataset)))"
      ],
      "execution_count": 6,
      "outputs": []
    },
    {
      "cell_type": "code",
      "metadata": {
        "colab": {
          "base_uri": "https://localhost:8080/"
        },
        "id": "BEjCeVNyKPRE",
        "outputId": "92799c58-fd4f-40d5-ab09-c748d7728218"
      },
      "source": [
        "from torch.optim.lr_scheduler import StepLR\r\n",
        "model = Net().to(device)\r\n",
        "\r\n",
        "learning_rate = 0.01\r\n",
        "optimizer = torch.optim.SGD(model.parameters(), lr=learning_rate, momentum=0.9, nesterov=True)\r\n",
        "#optimizer = torch.optim.Adam(model.parameters(), lr=learning_rate)\r\n",
        "#scheduler = torch.optim.lr_scheduler.ReduceLROnPlateau(optimizer,factor = 0.1,patience=5, verbose= 'true')\r\n",
        "# gamma = decaying factor\r\n",
        "scheduler = StepLR(optimizer, step_size=10, gamma=0.2)\r\n",
        "\r\n",
        "#optimizer = optim.SGD(model.parameters(), lr=0.01, momentum=0.9)\r\n",
        "#optimizer = optim.Adam(model.parameters(),lr=0.01)\r\n",
        "for epoch in range(1, 20):\r\n",
        "    losses=[]\r\n",
        "    print('Epoch:', epoch)#,'LR:',scheduler.get_lr()\r\n",
        "    train(model, device, train_loader, optimizer, epoch)\r\n",
        "    test(model, device, test_loader)\r\n",
        "    #scheduler.step()\r\n",
        "    #scheduler.get_last_lr()"
      ],
      "execution_count": 7,
      "outputs": [
        {
          "output_type": "stream",
          "text": [
            "\r  0%|          | 0/938 [00:00<?, ?it/s]"
          ],
          "name": "stderr"
        },
        {
          "output_type": "stream",
          "text": [
            "Epoch: 1\n"
          ],
          "name": "stdout"
        },
        {
          "output_type": "stream",
          "text": [
            "/usr/local/lib/python3.6/dist-packages/ipykernel_launcher.py:28: UserWarning: Implicit dimension choice for log_softmax has been deprecated. Change the call to include dim=X as an argument.\n",
            "loss=0.06413646042346954 batch_id=937: 100%|██████████| 938/938 [00:25<00:00, 36.46it/s]\n",
            "/usr/local/lib/python3.6/dist-packages/torch/optim/lr_scheduler.py:156: UserWarning: The epoch parameter in `scheduler.step()` was not necessary and is being deprecated where possible. Please use `scheduler.step()` to step the scheduler. During the deprecation, if epoch is different from None, the closed form is used instead of the new chainable form, where available. Please open an issue if you are unable to replicate your use case: https://github.com/pytorch/pytorch/issues/new/choose.\n",
            "  warnings.warn(EPOCH_DEPRECATION_WARNING, UserWarning)\n",
            "  0%|          | 0/938 [00:00<?, ?it/s]"
          ],
          "name": "stderr"
        },
        {
          "output_type": "stream",
          "text": [
            "\n",
            "Test set: Average loss: 0.0771, Accuracy: 9784/10000 (97.8400%)\n",
            "\n",
            "Epoch: 2\n"
          ],
          "name": "stdout"
        },
        {
          "output_type": "stream",
          "text": [
            "loss=0.05796448886394501 batch_id=937: 100%|██████████| 938/938 [00:24<00:00, 38.92it/s]\n",
            "  0%|          | 0/938 [00:00<?, ?it/s]"
          ],
          "name": "stderr"
        },
        {
          "output_type": "stream",
          "text": [
            "\n",
            "Test set: Average loss: 0.0486, Accuracy: 9861/10000 (98.6100%)\n",
            "\n",
            "Epoch: 3\n"
          ],
          "name": "stdout"
        },
        {
          "output_type": "stream",
          "text": [
            "loss=0.09961935132741928 batch_id=937: 100%|██████████| 938/938 [00:23<00:00, 39.87it/s]\n",
            "  0%|          | 0/938 [00:00<?, ?it/s]"
          ],
          "name": "stderr"
        },
        {
          "output_type": "stream",
          "text": [
            "\n",
            "Test set: Average loss: 0.0419, Accuracy: 9882/10000 (98.8200%)\n",
            "\n",
            "Epoch: 4\n"
          ],
          "name": "stdout"
        },
        {
          "output_type": "stream",
          "text": [
            "loss=0.03819137066602707 batch_id=937: 100%|██████████| 938/938 [00:24<00:00, 38.99it/s]\n",
            "  0%|          | 0/938 [00:00<?, ?it/s]"
          ],
          "name": "stderr"
        },
        {
          "output_type": "stream",
          "text": [
            "\n",
            "Test set: Average loss: 0.0365, Accuracy: 9887/10000 (98.8700%)\n",
            "\n",
            "Epoch: 5\n"
          ],
          "name": "stdout"
        },
        {
          "output_type": "stream",
          "text": [
            "loss=0.06844209134578705 batch_id=937: 100%|██████████| 938/938 [00:23<00:00, 40.02it/s]\n",
            "  0%|          | 0/938 [00:00<?, ?it/s]"
          ],
          "name": "stderr"
        },
        {
          "output_type": "stream",
          "text": [
            "\n",
            "Test set: Average loss: 0.0403, Accuracy: 9882/10000 (98.8200%)\n",
            "\n",
            "Epoch: 6\n"
          ],
          "name": "stdout"
        },
        {
          "output_type": "stream",
          "text": [
            "loss=0.24532906711101532 batch_id=937: 100%|██████████| 938/938 [00:23<00:00, 39.92it/s]\n",
            "  0%|          | 0/938 [00:00<?, ?it/s]"
          ],
          "name": "stderr"
        },
        {
          "output_type": "stream",
          "text": [
            "\n",
            "Test set: Average loss: 0.0291, Accuracy: 9907/10000 (99.0700%)\n",
            "\n",
            "Epoch: 7\n"
          ],
          "name": "stdout"
        },
        {
          "output_type": "stream",
          "text": [
            "loss=0.037034425884485245 batch_id=937: 100%|██████████| 938/938 [00:23<00:00, 40.53it/s]\n",
            "  0%|          | 0/938 [00:00<?, ?it/s]"
          ],
          "name": "stderr"
        },
        {
          "output_type": "stream",
          "text": [
            "\n",
            "Test set: Average loss: 0.0315, Accuracy: 9909/10000 (99.0900%)\n",
            "\n",
            "Epoch: 8\n"
          ],
          "name": "stdout"
        },
        {
          "output_type": "stream",
          "text": [
            "loss=0.028243664652109146 batch_id=937: 100%|██████████| 938/938 [00:23<00:00, 39.69it/s]\n",
            "  0%|          | 0/938 [00:00<?, ?it/s]"
          ],
          "name": "stderr"
        },
        {
          "output_type": "stream",
          "text": [
            "\n",
            "Test set: Average loss: 0.0293, Accuracy: 9907/10000 (99.0700%)\n",
            "\n",
            "Epoch: 9\n"
          ],
          "name": "stdout"
        },
        {
          "output_type": "stream",
          "text": [
            "loss=0.03224817290902138 batch_id=937: 100%|██████████| 938/938 [00:22<00:00, 41.14it/s]\n",
            "  0%|          | 0/938 [00:00<?, ?it/s]"
          ],
          "name": "stderr"
        },
        {
          "output_type": "stream",
          "text": [
            "\n",
            "Test set: Average loss: 0.0273, Accuracy: 9913/10000 (99.1300%)\n",
            "\n",
            "Epoch: 10\n"
          ],
          "name": "stdout"
        },
        {
          "output_type": "stream",
          "text": [
            "loss=0.03823046758770943 batch_id=937: 100%|██████████| 938/938 [00:22<00:00, 41.19it/s]\n",
            "  0%|          | 0/938 [00:00<?, ?it/s]"
          ],
          "name": "stderr"
        },
        {
          "output_type": "stream",
          "text": [
            "\n",
            "Test set: Average loss: 0.0225, Accuracy: 9929/10000 (99.2900%)\n",
            "\n",
            "Epoch: 11\n"
          ],
          "name": "stdout"
        },
        {
          "output_type": "stream",
          "text": [
            "loss=0.02487451396882534 batch_id=937: 100%|██████████| 938/938 [00:24<00:00, 38.98it/s]\n",
            "  0%|          | 0/938 [00:00<?, ?it/s]"
          ],
          "name": "stderr"
        },
        {
          "output_type": "stream",
          "text": [
            "\n",
            "Test set: Average loss: 0.0273, Accuracy: 9907/10000 (99.0700%)\n",
            "\n",
            "Epoch: 12\n"
          ],
          "name": "stdout"
        },
        {
          "output_type": "stream",
          "text": [
            "loss=0.016566846519708633 batch_id=937: 100%|██████████| 938/938 [00:23<00:00, 40.60it/s]\n",
            "  0%|          | 0/938 [00:00<?, ?it/s]"
          ],
          "name": "stderr"
        },
        {
          "output_type": "stream",
          "text": [
            "\n",
            "Test set: Average loss: 0.0263, Accuracy: 9920/10000 (99.2000%)\n",
            "\n",
            "Epoch: 13\n"
          ],
          "name": "stdout"
        },
        {
          "output_type": "stream",
          "text": [
            "loss=0.126639261841774 batch_id=937: 100%|██████████| 938/938 [00:23<00:00, 39.18it/s]\n",
            "  0%|          | 0/938 [00:00<?, ?it/s]"
          ],
          "name": "stderr"
        },
        {
          "output_type": "stream",
          "text": [
            "\n",
            "Test set: Average loss: 0.0242, Accuracy: 9923/10000 (99.2300%)\n",
            "\n",
            "Epoch: 14\n"
          ],
          "name": "stdout"
        },
        {
          "output_type": "stream",
          "text": [
            "loss=0.05593831092119217 batch_id=937: 100%|██████████| 938/938 [00:23<00:00, 40.56it/s]\n",
            "  0%|          | 0/938 [00:00<?, ?it/s]"
          ],
          "name": "stderr"
        },
        {
          "output_type": "stream",
          "text": [
            "\n",
            "Test set: Average loss: 0.0260, Accuracy: 9926/10000 (99.2600%)\n",
            "\n",
            "Epoch: 15\n"
          ],
          "name": "stdout"
        },
        {
          "output_type": "stream",
          "text": [
            "loss=0.013765145093202591 batch_id=937: 100%|██████████| 938/938 [00:22<00:00, 41.01it/s]\n",
            "  0%|          | 0/938 [00:00<?, ?it/s]"
          ],
          "name": "stderr"
        },
        {
          "output_type": "stream",
          "text": [
            "\n",
            "Test set: Average loss: 0.0226, Accuracy: 9928/10000 (99.2800%)\n",
            "\n",
            "Epoch: 16\n"
          ],
          "name": "stdout"
        },
        {
          "output_type": "stream",
          "text": [
            "loss=0.058876898139715195 batch_id=937: 100%|██████████| 938/938 [00:22<00:00, 40.81it/s]\n",
            "  0%|          | 0/938 [00:00<?, ?it/s]"
          ],
          "name": "stderr"
        },
        {
          "output_type": "stream",
          "text": [
            "\n",
            "Test set: Average loss: 0.0285, Accuracy: 9911/10000 (99.1100%)\n",
            "\n",
            "Epoch: 17\n"
          ],
          "name": "stdout"
        },
        {
          "output_type": "stream",
          "text": [
            "loss=0.1580391824245453 batch_id=937: 100%|██████████| 938/938 [00:22<00:00, 40.83it/s]\n",
            "  0%|          | 0/938 [00:00<?, ?it/s]"
          ],
          "name": "stderr"
        },
        {
          "output_type": "stream",
          "text": [
            "\n",
            "Test set: Average loss: 0.0196, Accuracy: 9933/10000 (99.3300%)\n",
            "\n",
            "Epoch: 18\n"
          ],
          "name": "stdout"
        },
        {
          "output_type": "stream",
          "text": [
            "loss=0.4920656979084015 batch_id=937: 100%|██████████| 938/938 [00:23<00:00, 40.73it/s]\n",
            "  0%|          | 0/938 [00:00<?, ?it/s]"
          ],
          "name": "stderr"
        },
        {
          "output_type": "stream",
          "text": [
            "\n",
            "Test set: Average loss: 0.0235, Accuracy: 9934/10000 (99.3400%)\n",
            "\n",
            "Epoch: 19\n"
          ],
          "name": "stdout"
        },
        {
          "output_type": "stream",
          "text": [
            "loss=0.024989385157823563 batch_id=937: 100%|██████████| 938/938 [00:22<00:00, 41.28it/s]\n"
          ],
          "name": "stderr"
        },
        {
          "output_type": "stream",
          "text": [
            "\n",
            "Test set: Average loss: 0.0230, Accuracy: 9921/10000 (99.2100%)\n",
            "\n"
          ],
          "name": "stdout"
        }
      ]
    },
    {
      "cell_type": "code",
      "metadata": {
        "id": "4_05wq_mLSpm"
      },
      "source": [
        ""
      ],
      "execution_count": null,
      "outputs": []
    }
  ]
}