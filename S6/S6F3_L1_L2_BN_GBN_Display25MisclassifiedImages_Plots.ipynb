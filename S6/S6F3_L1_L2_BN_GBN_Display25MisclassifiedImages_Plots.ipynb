{
  "nbformat": 4,
  "nbformat_minor": 0,
  "metadata": {
    "accelerator": "GPU",
    "colab": {
      "name": "S6F3_L1_L2_BN_GBN_Display25MisclassifiedImages_Plots.ipynb",
      "provenance": [],
      "collapsed_sections": []
    },
    "kernelspec": {
      "display_name": "Python 3",
      "name": "python3"
    }
  },
  "cells": [
    {
      "cell_type": "markdown",
      "metadata": {
        "id": "aO-7t1Y7-hV4"
      },
      "source": [
        "# Import Libraries"
      ]
    },
    {
      "cell_type": "markdown",
      "metadata": {
        "id": "1GnaV1t5uJII"
      },
      "source": [
        "#S6F3\r\n",
        "Target:\r\n",
        "1.  Display 25 misclassified images\r\n",
        "2. plots for validation loss and validation accuracy\r\n",
        "\r\n",
        "\r\n",
        "Analysis:\r\n",
        "1. GBN+L1+L2 results in very heavy regularization. Thus it results in model underfit. Using regularization one thing can be said that model will is not overfitting.\r\n",
        "2. GBN and BN+L2 performs equally well. These are the best regularizations for our model.\r\n",
        "3. In the case of GBN+L1+L2 does not perform well. This is due to huge regularization, because regularization penalizes higher order polynomial and the model moves towards high bias (underfit).\r\n"
      ]
    },
    {
      "cell_type": "code",
      "metadata": {
        "id": "8kH16rnZ7wt_"
      },
      "source": [
        "from __future__ import print_function\n",
        "import torch\n",
        "import torch.nn as nn\n",
        "import torch.nn.functional as F\n",
        "import torch.optim as optim\n",
        "from torchvision import datasets, transforms"
      ],
      "execution_count": 1,
      "outputs": []
    },
    {
      "cell_type": "markdown",
      "metadata": {
        "id": "ky3f_Odl-7um"
      },
      "source": [
        "## Data Transformations\n",
        "\n",
        "We first start with defining our data transformations. We need to think what our data is and how can we augment it to correct represent images which it might not see otherwise. \n"
      ]
    },
    {
      "cell_type": "code",
      "metadata": {
        "id": "YtssFUKb-jqx"
      },
      "source": [
        "# Train Phase transformations\n",
        "train_transforms = transforms.Compose([\n",
        "                                      #  transforms.Resize((28, 28)),\n",
        "                                      #  transforms.ColorJitter(brightness=0.10, contrast=0.1, saturation=0.10, hue=0.1),\n",
        "                                       transforms.RandomRotation((-15.0, 15.0), fill=(1,)),\n",
        "                                       transforms.ToTensor(),\n",
        "                                       transforms.Normalize((0.1307,), (0.3081,)) # The mean and std have to be sequences (e.g., tuples), therefore you should add a comma after the values. \n",
        "                                       # Note the difference between (0.1307) and (0.1307,)\n",
        "                                       ])\n",
        "\n",
        "# Test Phase transformations\n",
        "test_transforms = transforms.Compose([\n",
        "                                      #  transforms.Resize((28, 28)),\n",
        "                                      #  transforms.ColorJitter(brightness=0.10, contrast=0.1, saturation=0.10, hue=0.1),\n",
        "                                       transforms.ToTensor(),\n",
        "                                       transforms.Normalize((0.1307,), (0.3081,))\n",
        "                                       ])\n"
      ],
      "execution_count": 3,
      "outputs": []
    },
    {
      "cell_type": "markdown",
      "metadata": {
        "id": "oQciFYo2B1mO"
      },
      "source": [
        "# Dataset and Creating Train/Test Split"
      ]
    },
    {
      "cell_type": "code",
      "metadata": {
        "id": "_4A84rlfDA23"
      },
      "source": [
        "train = datasets.MNIST('./data', train=True, download=True, transform=train_transforms)\n",
        "test = datasets.MNIST('./data', train=False, download=True, transform=test_transforms)"
      ],
      "execution_count": 5,
      "outputs": []
    },
    {
      "cell_type": "markdown",
      "metadata": {
        "id": "qgldp_3-Dn0c"
      },
      "source": [
        "# Dataloader Arguments & Test/Train Dataloaders\n"
      ]
    },
    {
      "cell_type": "code",
      "metadata": {
        "colab": {
          "base_uri": "https://localhost:8080/"
        },
        "id": "C8OLDR79DrHG",
        "outputId": "f18acec2-2134-4d95-e347-965fb73e41b9"
      },
      "source": [
        "SEED = 1\n",
        "\n",
        "# CUDA?\n",
        "cuda = torch.cuda.is_available()\n",
        "print(\"CUDA Available?\", cuda)\n",
        "\n",
        "# For reproducibility\n",
        "torch.manual_seed(SEED)\n",
        "\n",
        "if cuda:\n",
        "    torch.cuda.manual_seed(SEED)\n",
        "\n",
        "# dataloader arguments - something you'll fetch these from cmdprmt\n",
        "dataloader_args = dict(shuffle=True, batch_size=128, num_workers=4, pin_memory=True) if cuda else dict(shuffle=True, batch_size=64)\n",
        "\n",
        "# train dataloader\n",
        "train_loader = torch.utils.data.DataLoader(train, **dataloader_args)\n",
        "\n",
        "# test dataloader\n",
        "test_loader = torch.utils.data.DataLoader(test, **dataloader_args)"
      ],
      "execution_count": 6,
      "outputs": [
        {
          "output_type": "stream",
          "text": [
            "CUDA Available? True\n"
          ],
          "name": "stdout"
        }
      ]
    },
    {
      "cell_type": "markdown",
      "metadata": {
        "id": "4u1WcDHGOqkY"
      },
      "source": [
        "### Ghost Batch Normalization Class"
      ]
    },
    {
      "cell_type": "code",
      "metadata": {
        "id": "08R8LOF5OmvK"
      },
      "source": [
        "class BatchNorm(nn.BatchNorm2d):\r\n",
        "    def __init__(self, num_features, eps=1e-05, momentum=0.1, weight=True, bias=True):\r\n",
        "        super().__init__(num_features, eps=eps, momentum=momentum)\r\n",
        "        self.weight.data.fill_(1.0)\r\n",
        "        self.bias.data.fill_(0.0)\r\n",
        "        self.weight.requires_grad = weight\r\n",
        "        self.bias.requires_grad = bias\r\n",
        "\r\n",
        "\r\n",
        "class GhostBatchNorm(BatchNorm):\r\n",
        "    def __init__(self, num_features, num_splits, **kw):\r\n",
        "        super().__init__(num_features, **kw)\r\n",
        "        self.num_splits = num_splits\r\n",
        "        self.register_buffer('running_mean', torch.zeros(num_features * self.num_splits))\r\n",
        "        self.register_buffer('running_var', torch.ones(num_features * self.num_splits))\r\n",
        "\r\n",
        "    def train(self, mode=True):\r\n",
        "        if (self.training is True) and (mode is False):  # lazily collate stats when we are going to use them\r\n",
        "            self.running_mean = torch.mean(self.running_mean.view(self.num_splits, self.num_features), dim=0).repeat(\r\n",
        "                self.num_splits)\r\n",
        "            self.running_var = torch.mean(self.running_var.view(self.num_splits, self.num_features), dim=0).repeat(\r\n",
        "                self.num_splits)\r\n",
        "        return super().train(mode)\r\n",
        "\r\n",
        "    def forward(self, input):\r\n",
        "       # print(input.shape) \r\n",
        "        N, C, H, W = input.shape # N is minibatch or batch size\r\n",
        "        if self.training or not self.track_running_stats:\r\n",
        "            return F.batch_norm(\r\n",
        "                input.view(-1, C * self.num_splits , H, W), self.running_mean, self.running_var,\r\n",
        "                self.weight.repeat(self.num_splits), self.bias.repeat(self.num_splits),\r\n",
        "                True, self.momentum, self.eps).view(N, C, H, W)\r\n",
        "        else:\r\n",
        "            return F.batch_norm(\r\n",
        "                input, self.running_mean[:self.num_features], self.running_var[:self.num_features],\r\n",
        "                self.weight, self.bias, False, self.momentum, self.eps)"
      ],
      "execution_count": 7,
      "outputs": []
    },
    {
      "cell_type": "code",
      "metadata": {
        "id": "xmCXDEiyi3SS"
      },
      "source": [
        "# def GhostBatchNorm(X, groupsM, eps=1e-05):\r\n",
        "#   \"\"\"\r\n",
        "#   X: Input Tensor with (M, C, F) dimensions\r\n",
        "#   groupsM: Number of groups for the mini-batch dimension\r\n",
        "#   eps: A small value to prevent division by zero\r\n",
        "#   \"\"\"\r\n",
        "#   # Split the mini-batch dimension into groups of smaller batches\r\n",
        "#   M, C, F = X.shape\r\n",
        "#   print(X.shape())\r\n",
        "#   X = X.reshape(groupsM, -1, C, F)\r\n",
        "#   # Calculate statistics over dim(0) x dim(2) number\r\n",
        "#   # of slices of dim(1) x dim(3) dimension each\r\n",
        "#   mean = X.mean([1, 3], keepdim=True)\r\n",
        "#   var = X.var([1, 3], unbiased=False, keepdim=True)\r\n",
        "#   # Normalize X\r\n",
        "#   X = (X - mean) / (torch.sqrt(var + self.eps))\r\n",
        "#   # Reshape into the initial tensor shape\r\n",
        "#   X = X.reshape(M, C, F)\r\n",
        "#   return X"
      ],
      "execution_count": null,
      "outputs": []
    },
    {
      "cell_type": "markdown",
      "metadata": {
        "id": "ubQL3H6RJL3h"
      },
      "source": [
        "# The model -With BN\n",
        "Let's start with the model we first saw"
      ]
    },
    {
      "cell_type": "code",
      "metadata": {
        "id": "7FXQlB9kH1ov"
      },
      "source": [
        "import torch.nn.functional as F\n",
        "dropout_value = 0\n",
        "\n",
        "class Net(nn.Module):\n",
        "    def __init__(self,isgbn, nsplit):\n",
        "        super(Net, self).__init__()\n",
        "        self.isgbn = isgbn\n",
        "        self.nsplit = nsplit\n",
        "        # Input Block\n",
        "\n",
        "            #\n",
        "        if self.isgbn:\n",
        "          self.convblock1 = nn.Sequential(\n",
        "          nn.Conv2d(in_channels=1, out_channels=12, kernel_size=(3, 3), padding=0, bias=False),\n",
        "          nn.ReLU(),\n",
        "          GhostBatchNorm(12,self.nsplit))\n",
        "        else:\n",
        "          self.convblock1 = nn.Sequential(\n",
        "          nn.Conv2d(in_channels=1, out_channels=12, kernel_size=(3, 3), padding=0, bias=False),\n",
        "          nn.ReLU(), \n",
        "          nn.BatchNorm2d(12))\n",
        "\n",
        "           # nn.Dropout(dropout_value)\n",
        "         # output_size = 26\n",
        "\n",
        "        # CONVOLUTION BLOCK 1\n",
        "        # self.convblock2 = nn.Sequential(\n",
        "        #     nn.Conv2d(in_channels=12, out_channels=16, kernel_size=(3, 3), padding=0, bias=False),\n",
        "        #     nn.ReLU(),\n",
        "            \n",
        "        if self.isgbn:\n",
        "          self.convblock2 = nn.Sequential(\n",
        "          nn.Conv2d(in_channels=12, out_channels=16, kernel_size=(3, 3), padding=0, bias=False),\n",
        "          nn.ReLU(),\n",
        "          GhostBatchNorm(16,self.nsplit))\n",
        "        else:\n",
        "          self.convblock2 = nn.Sequential(\n",
        "          nn.Conv2d(in_channels=12, out_channels=16, kernel_size=(3, 3), padding=0, bias=False),\n",
        "          nn.ReLU(),\n",
        "          nn.BatchNorm2d(16))\n",
        "            \n",
        "            #nn.BatchNorm2d(16),\n",
        "           # nn.Dropout(dropout_value)\n",
        "        #) # output_size = 24\n",
        "\n",
        "        # TRANSITION BLOCK 1\n",
        "        self.convblock3 = nn.Sequential(\n",
        "            nn.Conv2d(in_channels=16, out_channels=12, kernel_size=(1, 1), padding=0, bias=False),\n",
        "        ) # output_size = 24\n",
        "        self.pool1 = nn.MaxPool2d(2, 2) # output_size = 12\n",
        "\n",
        "        # CONVOLUTION BLOCK 2\n",
        "        # self.convblock4 = nn.Sequential(\n",
        "        #     nn.Conv2d(in_channels=12, out_channels=16, kernel_size=(3, 3), padding=0, bias=False),\n",
        "        #     nn.ReLU(),\n",
        "            \n",
        "        if self.isgbn:\n",
        "          self.convblock4 = nn.Sequential(\n",
        "          nn.Conv2d(in_channels=12, out_channels=16, kernel_size=(3, 3), padding=0, bias=False),\n",
        "          nn.ReLU(),\n",
        "          GhostBatchNorm(16,self.nsplit))\n",
        "        else:\n",
        "          self.convblock4 = nn.Sequential(\n",
        "          nn.Conv2d(in_channels=12, out_channels=16, kernel_size=(3, 3), padding=0, bias=False),\n",
        "          nn.ReLU(),\n",
        "          nn.BatchNorm2d(16) )             \n",
        "        #nn.BatchNorm2d(16),\n",
        "           # nn.Dropout(dropout_value)\n",
        "        #) # output_size = 10\n",
        "        # self.convblock5 = nn.Sequential(\n",
        "        #     nn.Conv2d(in_channels=16, out_channels=16, kernel_size=(3, 3), padding=0, bias=False),\n",
        "        #     nn.ReLU(),            \n",
        "        if self.isgbn:\n",
        "          self.convblock5 = nn.Sequential(\n",
        "          nn.Conv2d(in_channels=16, out_channels=16, kernel_size=(3, 3), padding=0, bias=False),\n",
        "          nn.ReLU(), \n",
        "          GhostBatchNorm(16,self.nsplit))\n",
        "        else:\n",
        "          self.convblock5 = nn.Sequential(\n",
        "          nn.Conv2d(in_channels=16, out_channels=16, kernel_size=(3, 3), padding=0, bias=False),\n",
        "          nn.ReLU(), \n",
        "          nn.BatchNorm2d(16))\n",
        "               #nn.BatchNorm2d(16),\n",
        "           # nn.Dropout(dropout_value)\n",
        "        #) # output_size = 8\n",
        "        # self.convblock6 = nn.Sequential(\n",
        "        #     nn.Conv2d(in_channels=16, out_channels=12, kernel_size=(3, 3), padding=0, bias=False),\n",
        "        #     nn.ReLU(),            \n",
        "        if self.isgbn:\n",
        "          self.convblock6 = nn.Sequential(\n",
        "          nn.Conv2d(in_channels=16, out_channels=12, kernel_size=(3, 3), padding=0, bias=False),\n",
        "          nn.ReLU(),     \n",
        "          GhostBatchNorm(12,self.nsplit))\n",
        "        else:\n",
        "          self.convblock6 = nn.Sequential(\n",
        "          nn.Conv2d(in_channels=16, out_channels=12, kernel_size=(3, 3), padding=0, bias=False),\n",
        "          nn.ReLU(),     \n",
        "          nn.BatchNorm2d(12))\n",
        "            #nn.BatchNorm2d(12),\n",
        "           # nn.Dropout(dropout_value)\n",
        "        #) # output_size = 6\n",
        "        # self.convblock7 = nn.Sequential(\n",
        "        #     nn.Conv2d(in_channels=12, out_channels=12, kernel_size=(3, 3), padding=1, bias=False),\n",
        "        #     nn.ReLU(),            \n",
        "        if self.isgbn:\n",
        "          self.convblock7 = nn.Sequential(\n",
        "          nn.Conv2d(in_channels=12, out_channels=12, kernel_size=(3, 3), padding=1, bias=False),\n",
        "          nn.ReLU(),\n",
        "          GhostBatchNorm(12,self.nsplit))\n",
        "        else:\n",
        "          self.convblock7 = nn.Sequential(\n",
        "          nn.Conv2d(in_channels=12, out_channels=12, kernel_size=(3, 3), padding=1, bias=False),\n",
        "          nn.ReLU(),\n",
        "          nn.BatchNorm2d(12))\n",
        "            #nn.BatchNorm2d(12),\n",
        "           # nn.Dropout(dropout_value)\n",
        "        #) # output_size = 6\n",
        "        \n",
        "        # OUTPUT BLOCK\n",
        "        self.gap = nn.Sequential(\n",
        "            nn.AvgPool2d(kernel_size=6)\n",
        "        ) # output_size = 1\n",
        "\n",
        "        self.convblock8 = nn.Sequential(\n",
        "            nn.Conv2d(in_channels=12, out_channels=10, kernel_size=(1, 1), padding=0, bias=False),\n",
        "            # nn.BatchNorm2d(10),\n",
        "            # nn.ReLU(),\n",
        "            # nn.Dropout(dropout_value)\n",
        "        ) \n",
        "\n",
        "\n",
        "        self.dropout = nn.Dropout(dropout_value)\n",
        "\n",
        "    def forward(self, x):\n",
        "        x = self.convblock1(x)\n",
        "        x = self.convblock2(x)\n",
        "        x = self.convblock3(x)\n",
        "        x = self.pool1(x)\n",
        "        x = self.convblock4(x)\n",
        "        x = self.convblock5(x)\n",
        "        x = self.convblock6(x)\n",
        "        x = self.convblock7(x)\n",
        "        x = self.gap(x)        \n",
        "        x = self.convblock8(x)\n",
        "\n",
        "        x = x.view(-1, 10)\n",
        "        return F.log_softmax(x, dim=-1)"
      ],
      "execution_count": 8,
      "outputs": []
    },
    {
      "cell_type": "markdown",
      "metadata": {
        "id": "I7CmbyPBCuSt"
      },
      "source": [
        "# Model1 - With BN + L1\r\n",
        " "
      ]
    },
    {
      "cell_type": "markdown",
      "metadata": {
        "id": "M3-vp8X9LCWo"
      },
      "source": [
        "# Model Params\n",
        "Can't emphasize on how important viewing Model Summary is. \n",
        "Unfortunately, there is no in-built model visualizer, so we have to take external help"
      ]
    },
    {
      "cell_type": "code",
      "metadata": {
        "colab": {
          "base_uri": "https://localhost:8080/"
        },
        "id": "5skB97zIJQQe",
        "outputId": "fdc5b465-6246-4c4b-e86b-cd0a2ebdf10b"
      },
      "source": [
        "!pip install torchsummary\n",
        "from torchsummary import summary\n",
        "use_cuda = torch.cuda.is_available()\n",
        "device = torch.device(\"cuda\" if use_cuda else \"cpu\")\n",
        "print(device)\n",
        "model = Net(True,2).to(device)\n",
        "summary(model, input_size=(1, 28, 28))"
      ],
      "execution_count": 9,
      "outputs": [
        {
          "output_type": "stream",
          "text": [
            "Requirement already satisfied: torchsummary in /usr/local/lib/python3.6/dist-packages (1.5.1)\n",
            "cuda\n",
            "----------------------------------------------------------------\n",
            "        Layer (type)               Output Shape         Param #\n",
            "================================================================\n",
            "            Conv2d-1           [-1, 12, 26, 26]             108\n",
            "              ReLU-2           [-1, 12, 26, 26]               0\n",
            "    GhostBatchNorm-3           [-1, 12, 26, 26]              24\n",
            "            Conv2d-4           [-1, 16, 24, 24]           1,728\n",
            "              ReLU-5           [-1, 16, 24, 24]               0\n",
            "    GhostBatchNorm-6           [-1, 16, 24, 24]              32\n",
            "            Conv2d-7           [-1, 12, 24, 24]             192\n",
            "         MaxPool2d-8           [-1, 12, 12, 12]               0\n",
            "            Conv2d-9           [-1, 16, 10, 10]           1,728\n",
            "             ReLU-10           [-1, 16, 10, 10]               0\n",
            "   GhostBatchNorm-11           [-1, 16, 10, 10]              32\n",
            "           Conv2d-12             [-1, 16, 8, 8]           2,304\n",
            "             ReLU-13             [-1, 16, 8, 8]               0\n",
            "   GhostBatchNorm-14             [-1, 16, 8, 8]              32\n",
            "           Conv2d-15             [-1, 12, 6, 6]           1,728\n",
            "             ReLU-16             [-1, 12, 6, 6]               0\n",
            "   GhostBatchNorm-17             [-1, 12, 6, 6]              24\n",
            "           Conv2d-18             [-1, 12, 6, 6]           1,296\n",
            "             ReLU-19             [-1, 12, 6, 6]               0\n",
            "   GhostBatchNorm-20             [-1, 12, 6, 6]              24\n",
            "        AvgPool2d-21             [-1, 12, 1, 1]               0\n",
            "           Conv2d-22             [-1, 10, 1, 1]             120\n",
            "================================================================\n",
            "Total params: 9,372\n",
            "Trainable params: 9,372\n",
            "Non-trainable params: 0\n",
            "----------------------------------------------------------------\n",
            "Input size (MB): 0.00\n",
            "Forward/backward pass size (MB): 0.54\n",
            "Params size (MB): 0.04\n",
            "Estimated Total Size (MB): 0.58\n",
            "----------------------------------------------------------------\n"
          ],
          "name": "stdout"
        }
      ]
    },
    {
      "cell_type": "markdown",
      "metadata": {
        "id": "1__x_SbrL7z3"
      },
      "source": [
        "# Training and Testing\n",
        "\n",
        "Looking at logs can be boring, so we'll introduce **tqdm** progressbar to get cooler logs. \n",
        "\n",
        "Let's write train and test functions"
      ]
    },
    {
      "cell_type": "code",
      "metadata": {
        "id": "fbkF2nN_LYIb"
      },
      "source": [
        "from tqdm import tqdm\n",
        "\n",
        "def train(model, device, train_loader, optimizer, epoch, l1_regularization=0, l2_regularization=0):\n",
        "  l1_loss =0 \n",
        "  l2_loss =0\n",
        "  train_acc = []\n",
        "  model.train()\n",
        "  pbar = tqdm(train_loader)\n",
        "  correct = 0\n",
        "  processed = 0\n",
        "  for batch_idx, (data, target) in enumerate(pbar):\n",
        "    # get samples\n",
        "    data, target = data.to(device), target.to(device)\n",
        "\n",
        "    # Init\n",
        "    optimizer.zero_grad()\n",
        "    # In PyTorch, we need to set the gradients to zero before starting to do backpropragation because PyTorch accumulates the gradients on subsequent backward passes. \n",
        "    # Because of this, when you start your training loop, ideally you should zero out the gradients so that you do the parameter update correctly.\n",
        "\n",
        "    # Predict\n",
        "    y_pred = model(data)\n",
        "\n",
        "    # Calculate loss\n",
        "    loss = F.nll_loss(y_pred, target)\n",
        "    # Computing L1 and L2 losses\n",
        "    if l1_regularization > 0:\n",
        "      l1_loss = 0\n",
        "      for param in model.parameters():\n",
        "        l1_loss += torch.norm(param, 1)\n",
        "      loss += l1_regularization * l1_loss\n",
        "    if l2_regularization > 0:\n",
        "      l2_loss = 0\n",
        "      for param in model.parameters():\n",
        "        l2_loss += torch.norm(param, 2)\n",
        "      loss += l2_regularization * l2_loss\n",
        "\n",
        "    # Backpropagation\n",
        "    loss.backward()\n",
        "    optimizer.step()\n",
        "\n",
        "    # Update pbar-tqdm    \n",
        "    pred = y_pred.argmax(dim=1, keepdim=True)  # get the index of the max log-probability\n",
        "    correct += pred.eq(target.view_as(pred)).sum().item()\n",
        "    processed += len(data)\n",
        "\n",
        "   # pbar_str = f'Loss={loss.item()} l1_loss={l1_loss.item()} l2_loss={l2_loss.item()}'\n",
        "    #pbar.set_description(desc= f'Loss={loss.item()} Batch_id={batch_idx} Accuracy={100*correct/processed:0.2f}')\n",
        "    pbar.set_description(desc= f'Loss={loss.item()} l1_loss={l1_loss} l2_loss={l2_loss} Batch_id={batch_idx} Accuracy={100*correct/processed:0.2f}')\n",
        "    train_acc.append(100*correct/processed)\n",
        "\n",
        "def test(model, device, test_loader, test_losses, test_acc, missed_images, is_last_epoch):\n",
        "    model.eval()\n",
        "    test_loss = 0\n",
        "    correct = 0\n",
        "    with torch.no_grad():\n",
        "        for data, target in test_loader:\n",
        "            data, target = data.to(device), target.to(device)\n",
        "            output = model(data)\n",
        "            test_loss += F.nll_loss(output, target, reduction='sum').item()  # sum up batch loss\n",
        "            pred = output.argmax(dim=1, keepdim=True)  # get the index of the max log-probability\n",
        "            is_correct = pred.eq(target.view_as(pred))\n",
        "            if is_last_epoch:\n",
        "              incorrect_pred_indices = (is_correct==0).nonzero()[:,0]\n",
        "              for incorrect_ind in incorrect_pred_indices:\n",
        "                if len(missed_images) == 25:\n",
        "                  break\n",
        "                missed_images.append({\n",
        "                    'target': target[incorrect_ind].cpu().numpy(),\n",
        "                    'pred': pred[incorrect_ind][0].cpu().numpy(),\n",
        "                    'img': data[incorrect_ind].cpu().numpy()[0]\n",
        "                })                \n",
        "            correct += is_correct.sum().item()\n",
        "\n",
        "    test_loss /= len(test_loader.dataset)\n",
        "    test_losses.append(test_loss)\n",
        "\n",
        "    print('\\nTesting Results: Average loss: {:.4f}, Accuracy: {}/{} ({:.2f}%)\\n'.format(\n",
        "        test_loss, correct, len(test_loader.dataset),\n",
        "        100. * correct / len(test_loader.dataset)))\n",
        "    \n",
        "    test_acc.append(100. * correct / len(test_loader.dataset))\n"
      ],
      "execution_count": 10,
      "outputs": []
    },
    {
      "cell_type": "code",
      "metadata": {
        "id": "4H_yJkl12LYt"
      },
      "source": [
        "from torch.optim.lr_scheduler import StepLR\r\n",
        "def runDifferentRegularization(l1_regularization, l2_regularization,isGBN= False, nNumSplits=1):\r\n",
        "  model = Net(isGBN, nNumSplits).to(device)\r\n",
        "  optimizer = optim.Adam(model.parameters(), lr=0.01)\r\n",
        "  scheduler = StepLR(optimizer, step_size=4, gamma=0.01)\r\n",
        "  EPOCHS = 25\r\n",
        "  test_losses=[]\r\n",
        "  missed_images = []\r\n",
        "  test_acc=[]\r\n",
        "  for epoch in range(EPOCHS):\r\n",
        "    print('\\n EPOCH:', epoch, '  GBN:', isGBN, '  L1 norm:', l1_regularization,'  L2 norm:', l2_regularization )\r\n",
        "    train(model, device, train_loader, optimizer, epoch, l1_regularization, l2_regularization)\r\n",
        "    scheduler.step()\r\n",
        "    test(model, device,test_loader, test_losses, test_acc, missed_images, epoch==EPOCHS-1)\r\n",
        "  return test_losses, test_acc, missed_images"
      ],
      "execution_count": 11,
      "outputs": []
    },
    {
      "cell_type": "markdown",
      "metadata": {
        "id": "U9UzXpCj34pJ"
      },
      "source": [
        "# 1. Call Train and Test functions\r\n",
        "# 2. Print mis-classified images"
      ]
    },
    {
      "cell_type": "code",
      "metadata": {
        "colab": {
          "base_uri": "https://localhost:8080/",
          "height": 1000
        },
        "id": "SeDFlUSz2Vfj",
        "outputId": "6903ff72-bc97-470e-85af-0e20d7f6d5e7"
      },
      "source": [
        "import matplotlib.pyplot as plt\r\n",
        "L1_list =[0.0, 0.005, 0.005, 0.0, 0.005] \r\n",
        "L2_list =[0.0, 0.005, 0.0, 0.005, 0.005]\r\n",
        "GBN_List = [True,True, False, False, False] \r\n",
        "test_losses_list = []\r\n",
        "test_acc_list = [] \r\n",
        "nSplit_List = [8, 8, 0, 0, 0]\r\n",
        "for (l1_val, l2_val,isGBN,nSplit) in zip(L1_list, L2_list,GBN_List,nSplit_List):\r\n",
        "  test_losses, test_acc, missed_images = runDifferentRegularization(l1_val, l2_val,isGBN,nSplit)\r\n",
        "  test_losses_list.append(test_losses)\r\n",
        "  test_acc_list.append(test_acc)\r\n",
        "  figure = plt.figure(figsize=(10, 10))\r\n",
        "  figure.suptitle('l1_val:'+str(l1_val)+'  l2_val:'+str(l2_val)+'  isGBN:'+str(isGBN)+'  nSplit:'+str(nSplit))\r\n",
        "  for index in range(1, 26):\r\n",
        "      plt.subplot(5, 5, index)\r\n",
        "      plt.axis('off')\r\n",
        "      plt.imshow(missed_images[index-1][\"img\"], cmap='gray_r')\r\n",
        "      plt.title(\"Predicted: %s\\nActual: %s\" % (missed_images[index-1][\"pred\"], missed_images[index-1][\"target\"]))\r\n",
        "  \r\n",
        "  \r\n",
        "#plot graphs \r\n",
        "fig = plt.figure(figsize=(10, 10))\r\n",
        "plt.title(f'Validation loss')\r\n",
        "plt.xlabel('Epoch')\r\n",
        "plt.ylabel('Validation loss')\r\n",
        "\r\n",
        "print(len(test_losses_list))\r\n",
        "run_list = ['GBN', 'GBNL1L2', 'BNL1','BNL2', 'BNL1L2']\r\n",
        "#for idx, run in enumerate(zip(run_list, run_list)):\r\n",
        "#  plt.plot(test_losses_list[idx])\r\n",
        "GBN = plt.plot(test_losses_list[0], label = 'GBN')\r\n",
        "GBNL1L2 = plt.plot(test_losses_list[1], label = 'GBN+L1+L2')\r\n",
        "BNL1 = plt.plot(test_losses_list[2], label = 'BN+L1')\r\n",
        "BNL2 = plt.plot(test_losses_list[3], label = 'BN+L2')\r\n",
        "BNL1L2 = plt.plot(test_losses_list[4], label = 'BN+L1+L2')\r\n",
        "plt.legend()\r\n",
        "plt.show()\r\n",
        "# plt.legend((GBN, GBNL1L2,BNL1,BNL2,BNL1L2),\r\n",
        "#           ('GBN', 'GBN+L1+L2', 'BN+L1','BN+L2', 'BN+L1+L2'))"
      ],
      "execution_count": 12,
      "outputs": [
        {
          "output_type": "stream",
          "text": [
            "\r  0%|          | 0/469 [00:00<?, ?it/s]"
          ],
          "name": "stderr"
        },
        {
          "output_type": "stream",
          "text": [
            "\n",
            " EPOCH: 0   GBN: True   L1 norm: 0.0   L2 norm: 0.0\n"
          ],
          "name": "stdout"
        },
        {
          "output_type": "stream",
          "text": [
            "Loss=0.05706310272216797 l1_loss=0 l2_loss=0 Batch_id=468 Accuracy=92.52: 100%|██████████| 469/469 [00:19<00:00, 24.22it/s]\n",
            "  0%|          | 0/469 [00:00<?, ?it/s]"
          ],
          "name": "stderr"
        },
        {
          "output_type": "stream",
          "text": [
            "\n",
            "Testing Results: Average loss: 0.0588, Accuracy: 9823/10000 (98.23%)\n",
            "\n",
            "\n",
            " EPOCH: 1   GBN: True   L1 norm: 0.0   L2 norm: 0.0\n"
          ],
          "name": "stdout"
        },
        {
          "output_type": "stream",
          "text": [
            "Loss=0.05360959842801094 l1_loss=0 l2_loss=0 Batch_id=468 Accuracy=97.11: 100%|██████████| 469/469 [00:19<00:00, 24.20it/s]\n",
            "  0%|          | 0/469 [00:00<?, ?it/s]"
          ],
          "name": "stderr"
        },
        {
          "output_type": "stream",
          "text": [
            "\n",
            "Testing Results: Average loss: 0.0353, Accuracy: 9886/10000 (98.86%)\n",
            "\n",
            "\n",
            " EPOCH: 2   GBN: True   L1 norm: 0.0   L2 norm: 0.0\n"
          ],
          "name": "stdout"
        },
        {
          "output_type": "stream",
          "text": [
            "Loss=0.07433459907770157 l1_loss=0 l2_loss=0 Batch_id=468 Accuracy=97.68: 100%|██████████| 469/469 [00:19<00:00, 23.99it/s]\n",
            "  0%|          | 0/469 [00:00<?, ?it/s]"
          ],
          "name": "stderr"
        },
        {
          "output_type": "stream",
          "text": [
            "\n",
            "Testing Results: Average loss: 0.0386, Accuracy: 9872/10000 (98.72%)\n",
            "\n",
            "\n",
            " EPOCH: 3   GBN: True   L1 norm: 0.0   L2 norm: 0.0\n"
          ],
          "name": "stdout"
        },
        {
          "output_type": "stream",
          "text": [
            "Loss=0.031248897314071655 l1_loss=0 l2_loss=0 Batch_id=468 Accuracy=97.83: 100%|██████████| 469/469 [00:19<00:00, 24.10it/s]\n",
            "  0%|          | 0/469 [00:00<?, ?it/s]"
          ],
          "name": "stderr"
        },
        {
          "output_type": "stream",
          "text": [
            "\n",
            "Testing Results: Average loss: 0.0312, Accuracy: 9895/10000 (98.95%)\n",
            "\n",
            "\n",
            " EPOCH: 4   GBN: True   L1 norm: 0.0   L2 norm: 0.0\n"
          ],
          "name": "stdout"
        },
        {
          "output_type": "stream",
          "text": [
            "Loss=0.08695680648088455 l1_loss=0 l2_loss=0 Batch_id=468 Accuracy=98.28: 100%|██████████| 469/469 [00:19<00:00, 24.14it/s]\n",
            "  0%|          | 0/469 [00:00<?, ?it/s]"
          ],
          "name": "stderr"
        },
        {
          "output_type": "stream",
          "text": [
            "\n",
            "Testing Results: Average loss: 0.0219, Accuracy: 9933/10000 (99.33%)\n",
            "\n",
            "\n",
            " EPOCH: 5   GBN: True   L1 norm: 0.0   L2 norm: 0.0\n"
          ],
          "name": "stdout"
        },
        {
          "output_type": "stream",
          "text": [
            "Loss=0.0040368628688156605 l1_loss=0 l2_loss=0 Batch_id=468 Accuracy=98.45: 100%|██████████| 469/469 [00:19<00:00, 24.38it/s]\n",
            "  0%|          | 0/469 [00:00<?, ?it/s]"
          ],
          "name": "stderr"
        },
        {
          "output_type": "stream",
          "text": [
            "\n",
            "Testing Results: Average loss: 0.0208, Accuracy: 9934/10000 (99.34%)\n",
            "\n",
            "\n",
            " EPOCH: 6   GBN: True   L1 norm: 0.0   L2 norm: 0.0\n"
          ],
          "name": "stdout"
        },
        {
          "output_type": "stream",
          "text": [
            "Loss=0.0236057098954916 l1_loss=0 l2_loss=0 Batch_id=468 Accuracy=98.54: 100%|██████████| 469/469 [00:19<00:00, 24.15it/s]\n",
            "  0%|          | 0/469 [00:00<?, ?it/s]"
          ],
          "name": "stderr"
        },
        {
          "output_type": "stream",
          "text": [
            "\n",
            "Testing Results: Average loss: 0.0198, Accuracy: 9937/10000 (99.37%)\n",
            "\n",
            "\n",
            " EPOCH: 7   GBN: True   L1 norm: 0.0   L2 norm: 0.0\n"
          ],
          "name": "stdout"
        },
        {
          "output_type": "stream",
          "text": [
            "Loss=0.031938500702381134 l1_loss=0 l2_loss=0 Batch_id=468 Accuracy=98.64: 100%|██████████| 469/469 [00:19<00:00, 23.96it/s]\n",
            "  0%|          | 0/469 [00:00<?, ?it/s]"
          ],
          "name": "stderr"
        },
        {
          "output_type": "stream",
          "text": [
            "\n",
            "Testing Results: Average loss: 0.0194, Accuracy: 9939/10000 (99.39%)\n",
            "\n",
            "\n",
            " EPOCH: 8   GBN: True   L1 norm: 0.0   L2 norm: 0.0\n"
          ],
          "name": "stdout"
        },
        {
          "output_type": "stream",
          "text": [
            "Loss=0.025541305541992188 l1_loss=0 l2_loss=0 Batch_id=468 Accuracy=98.66: 100%|██████████| 469/469 [00:19<00:00, 23.82it/s]\n",
            "  0%|          | 0/469 [00:00<?, ?it/s]"
          ],
          "name": "stderr"
        },
        {
          "output_type": "stream",
          "text": [
            "\n",
            "Testing Results: Average loss: 0.0194, Accuracy: 9938/10000 (99.38%)\n",
            "\n",
            "\n",
            " EPOCH: 9   GBN: True   L1 norm: 0.0   L2 norm: 0.0\n"
          ],
          "name": "stdout"
        },
        {
          "output_type": "stream",
          "text": [
            "Loss=0.027013540267944336 l1_loss=0 l2_loss=0 Batch_id=468 Accuracy=98.61: 100%|██████████| 469/469 [00:19<00:00, 23.55it/s]\n",
            "  0%|          | 0/469 [00:00<?, ?it/s]"
          ],
          "name": "stderr"
        },
        {
          "output_type": "stream",
          "text": [
            "\n",
            "Testing Results: Average loss: 0.0191, Accuracy: 9944/10000 (99.44%)\n",
            "\n",
            "\n",
            " EPOCH: 10   GBN: True   L1 norm: 0.0   L2 norm: 0.0\n"
          ],
          "name": "stdout"
        },
        {
          "output_type": "stream",
          "text": [
            "Loss=0.03714849054813385 l1_loss=0 l2_loss=0 Batch_id=468 Accuracy=98.62: 100%|██████████| 469/469 [00:19<00:00, 23.45it/s]\n",
            "  0%|          | 0/469 [00:00<?, ?it/s]"
          ],
          "name": "stderr"
        },
        {
          "output_type": "stream",
          "text": [
            "\n",
            "Testing Results: Average loss: 0.0193, Accuracy: 9939/10000 (99.39%)\n",
            "\n",
            "\n",
            " EPOCH: 11   GBN: True   L1 norm: 0.0   L2 norm: 0.0\n"
          ],
          "name": "stdout"
        },
        {
          "output_type": "stream",
          "text": [
            "Loss=0.058580175042152405 l1_loss=0 l2_loss=0 Batch_id=468 Accuracy=98.61: 100%|██████████| 469/469 [00:19<00:00, 23.78it/s]\n",
            "  0%|          | 0/469 [00:00<?, ?it/s]"
          ],
          "name": "stderr"
        },
        {
          "output_type": "stream",
          "text": [
            "\n",
            "Testing Results: Average loss: 0.0193, Accuracy: 9939/10000 (99.39%)\n",
            "\n",
            "\n",
            " EPOCH: 12   GBN: True   L1 norm: 0.0   L2 norm: 0.0\n"
          ],
          "name": "stdout"
        },
        {
          "output_type": "stream",
          "text": [
            "Loss=0.017984507605433464 l1_loss=0 l2_loss=0 Batch_id=468 Accuracy=98.55: 100%|██████████| 469/469 [00:19<00:00, 23.95it/s]\n",
            "  0%|          | 0/469 [00:00<?, ?it/s]"
          ],
          "name": "stderr"
        },
        {
          "output_type": "stream",
          "text": [
            "\n",
            "Testing Results: Average loss: 0.0195, Accuracy: 9939/10000 (99.39%)\n",
            "\n",
            "\n",
            " EPOCH: 13   GBN: True   L1 norm: 0.0   L2 norm: 0.0\n"
          ],
          "name": "stdout"
        },
        {
          "output_type": "stream",
          "text": [
            "Loss=0.014422789216041565 l1_loss=0 l2_loss=0 Batch_id=468 Accuracy=98.64: 100%|██████████| 469/469 [00:19<00:00, 24.04it/s]\n",
            "  0%|          | 0/469 [00:00<?, ?it/s]"
          ],
          "name": "stderr"
        },
        {
          "output_type": "stream",
          "text": [
            "\n",
            "Testing Results: Average loss: 0.0191, Accuracy: 9939/10000 (99.39%)\n",
            "\n",
            "\n",
            " EPOCH: 14   GBN: True   L1 norm: 0.0   L2 norm: 0.0\n"
          ],
          "name": "stdout"
        },
        {
          "output_type": "stream",
          "text": [
            "Loss=0.043088916689157486 l1_loss=0 l2_loss=0 Batch_id=468 Accuracy=98.67: 100%|██████████| 469/469 [00:19<00:00, 24.49it/s]\n",
            "  0%|          | 0/469 [00:00<?, ?it/s]"
          ],
          "name": "stderr"
        },
        {
          "output_type": "stream",
          "text": [
            "\n",
            "Testing Results: Average loss: 0.0195, Accuracy: 9938/10000 (99.38%)\n",
            "\n",
            "\n",
            " EPOCH: 15   GBN: True   L1 norm: 0.0   L2 norm: 0.0\n"
          ],
          "name": "stdout"
        },
        {
          "output_type": "stream",
          "text": [
            "Loss=0.023599257692694664 l1_loss=0 l2_loss=0 Batch_id=468 Accuracy=98.63: 100%|██████████| 469/469 [00:18<00:00, 24.82it/s]\n",
            "  0%|          | 0/469 [00:00<?, ?it/s]"
          ],
          "name": "stderr"
        },
        {
          "output_type": "stream",
          "text": [
            "\n",
            "Testing Results: Average loss: 0.0192, Accuracy: 9938/10000 (99.38%)\n",
            "\n",
            "\n",
            " EPOCH: 16   GBN: True   L1 norm: 0.0   L2 norm: 0.0\n"
          ],
          "name": "stdout"
        },
        {
          "output_type": "stream",
          "text": [
            "Loss=0.10618647187948227 l1_loss=0 l2_loss=0 Batch_id=468 Accuracy=98.62: 100%|██████████| 469/469 [00:18<00:00, 24.89it/s]\n",
            "  0%|          | 0/469 [00:00<?, ?it/s]"
          ],
          "name": "stderr"
        },
        {
          "output_type": "stream",
          "text": [
            "\n",
            "Testing Results: Average loss: 0.0196, Accuracy: 9938/10000 (99.38%)\n",
            "\n",
            "\n",
            " EPOCH: 17   GBN: True   L1 norm: 0.0   L2 norm: 0.0\n"
          ],
          "name": "stdout"
        },
        {
          "output_type": "stream",
          "text": [
            "Loss=0.04910193011164665 l1_loss=0 l2_loss=0 Batch_id=468 Accuracy=98.65: 100%|██████████| 469/469 [00:18<00:00, 24.78it/s]\n",
            "  0%|          | 0/469 [00:00<?, ?it/s]"
          ],
          "name": "stderr"
        },
        {
          "output_type": "stream",
          "text": [
            "\n",
            "Testing Results: Average loss: 0.0193, Accuracy: 9939/10000 (99.39%)\n",
            "\n",
            "\n",
            " EPOCH: 18   GBN: True   L1 norm: 0.0   L2 norm: 0.0\n"
          ],
          "name": "stdout"
        },
        {
          "output_type": "stream",
          "text": [
            "Loss=0.022170284762978554 l1_loss=0 l2_loss=0 Batch_id=468 Accuracy=98.64: 100%|██████████| 469/469 [00:18<00:00, 25.23it/s]\n",
            "  0%|          | 0/469 [00:00<?, ?it/s]"
          ],
          "name": "stderr"
        },
        {
          "output_type": "stream",
          "text": [
            "\n",
            "Testing Results: Average loss: 0.0191, Accuracy: 9939/10000 (99.39%)\n",
            "\n",
            "\n",
            " EPOCH: 19   GBN: True   L1 norm: 0.0   L2 norm: 0.0\n"
          ],
          "name": "stdout"
        },
        {
          "output_type": "stream",
          "text": [
            "Loss=0.025188013911247253 l1_loss=0 l2_loss=0 Batch_id=468 Accuracy=98.69: 100%|██████████| 469/469 [00:18<00:00, 25.31it/s]\n",
            "  0%|          | 0/469 [00:00<?, ?it/s]"
          ],
          "name": "stderr"
        },
        {
          "output_type": "stream",
          "text": [
            "\n",
            "Testing Results: Average loss: 0.0192, Accuracy: 9940/10000 (99.40%)\n",
            "\n",
            "\n",
            " EPOCH: 20   GBN: True   L1 norm: 0.0   L2 norm: 0.0\n"
          ],
          "name": "stdout"
        },
        {
          "output_type": "stream",
          "text": [
            "Loss=0.2515711486339569 l1_loss=0 l2_loss=0 Batch_id=468 Accuracy=98.64: 100%|██████████| 469/469 [00:18<00:00, 25.68it/s]\n",
            "  0%|          | 0/469 [00:00<?, ?it/s]"
          ],
          "name": "stderr"
        },
        {
          "output_type": "stream",
          "text": [
            "\n",
            "Testing Results: Average loss: 0.0195, Accuracy: 9937/10000 (99.37%)\n",
            "\n",
            "\n",
            " EPOCH: 21   GBN: True   L1 norm: 0.0   L2 norm: 0.0\n"
          ],
          "name": "stdout"
        },
        {
          "output_type": "stream",
          "text": [
            "Loss=0.05360240861773491 l1_loss=0 l2_loss=0 Batch_id=468 Accuracy=98.61: 100%|██████████| 469/469 [00:18<00:00, 25.80it/s]\n",
            "  0%|          | 0/469 [00:00<?, ?it/s]"
          ],
          "name": "stderr"
        },
        {
          "output_type": "stream",
          "text": [
            "\n",
            "Testing Results: Average loss: 0.0194, Accuracy: 9940/10000 (99.40%)\n",
            "\n",
            "\n",
            " EPOCH: 22   GBN: True   L1 norm: 0.0   L2 norm: 0.0\n"
          ],
          "name": "stdout"
        },
        {
          "output_type": "stream",
          "text": [
            "Loss=0.042284440249204636 l1_loss=0 l2_loss=0 Batch_id=468 Accuracy=98.60: 100%|██████████| 469/469 [00:18<00:00, 25.60it/s]\n",
            "  0%|          | 0/469 [00:00<?, ?it/s]"
          ],
          "name": "stderr"
        },
        {
          "output_type": "stream",
          "text": [
            "\n",
            "Testing Results: Average loss: 0.0194, Accuracy: 9940/10000 (99.40%)\n",
            "\n",
            "\n",
            " EPOCH: 23   GBN: True   L1 norm: 0.0   L2 norm: 0.0\n"
          ],
          "name": "stdout"
        },
        {
          "output_type": "stream",
          "text": [
            "Loss=0.027774741873145103 l1_loss=0 l2_loss=0 Batch_id=468 Accuracy=98.67: 100%|██████████| 469/469 [00:17<00:00, 26.52it/s]\n",
            "  0%|          | 0/469 [00:00<?, ?it/s]"
          ],
          "name": "stderr"
        },
        {
          "output_type": "stream",
          "text": [
            "\n",
            "Testing Results: Average loss: 0.0193, Accuracy: 9939/10000 (99.39%)\n",
            "\n",
            "\n",
            " EPOCH: 24   GBN: True   L1 norm: 0.0   L2 norm: 0.0\n"
          ],
          "name": "stdout"
        },
        {
          "output_type": "stream",
          "text": [
            "Loss=0.032225705683231354 l1_loss=0 l2_loss=0 Batch_id=468 Accuracy=98.58: 100%|██████████| 469/469 [00:17<00:00, 26.23it/s]\n",
            "/usr/local/lib/python3.6/dist-packages/ipykernel_launcher.py:63: UserWarning: This overload of nonzero is deprecated:\n",
            "\tnonzero()\n",
            "Consider using one of the following signatures instead:\n",
            "\tnonzero(*, bool as_tuple) (Triggered internally at  /pytorch/torch/csrc/utils/python_arg_parser.cpp:882.)\n"
          ],
          "name": "stderr"
        },
        {
          "output_type": "stream",
          "text": [
            "\n",
            "Testing Results: Average loss: 0.0193, Accuracy: 9938/10000 (99.38%)\n",
            "\n"
          ],
          "name": "stdout"
        },
        {
          "output_type": "stream",
          "text": [
            "\r  0%|          | 0/469 [00:00<?, ?it/s]"
          ],
          "name": "stderr"
        },
        {
          "output_type": "stream",
          "text": [
            "\n",
            " EPOCH: 0   GBN: True   L1 norm: 0.005   L2 norm: 0.005\n"
          ],
          "name": "stdout"
        },
        {
          "output_type": "stream",
          "text": [
            "Loss=1.121699571609497 l1_loss=134.66586303710938 l2_loss=21.3389892578125 Batch_id=468 Accuracy=87.12: 100%|██████████| 469/469 [00:20<00:00, 22.86it/s]\n",
            "  0%|          | 0/469 [00:00<?, ?it/s]"
          ],
          "name": "stderr"
        },
        {
          "output_type": "stream",
          "text": [
            "\n",
            "Testing Results: Average loss: 0.3486, Accuracy: 9001/10000 (90.01%)\n",
            "\n",
            "\n",
            " EPOCH: 1   GBN: True   L1 norm: 0.005   L2 norm: 0.005\n"
          ],
          "name": "stdout"
        },
        {
          "output_type": "stream",
          "text": [
            "Loss=1.0439509153366089 l1_loss=127.72753143310547 l2_loss=21.375900268554688 Batch_id=468 Accuracy=91.18: 100%|██████████| 469/469 [00:19<00:00, 23.50it/s]\n",
            "  0%|          | 0/469 [00:00<?, ?it/s]"
          ],
          "name": "stderr"
        },
        {
          "output_type": "stream",
          "text": [
            "\n",
            "Testing Results: Average loss: 0.2367, Accuracy: 9341/10000 (93.41%)\n",
            "\n",
            "\n",
            " EPOCH: 2   GBN: True   L1 norm: 0.005   L2 norm: 0.005\n"
          ],
          "name": "stdout"
        },
        {
          "output_type": "stream",
          "text": [
            "Loss=1.1180006265640259 l1_loss=127.28741455078125 l2_loss=21.63728141784668 Batch_id=468 Accuracy=91.09: 100%|██████████| 469/469 [00:19<00:00, 23.45it/s]\n",
            "  0%|          | 0/469 [00:00<?, ?it/s]"
          ],
          "name": "stderr"
        },
        {
          "output_type": "stream",
          "text": [
            "\n",
            "Testing Results: Average loss: 0.8009, Accuracy: 7329/10000 (73.29%)\n",
            "\n",
            "\n",
            " EPOCH: 3   GBN: True   L1 norm: 0.005   L2 norm: 0.005\n"
          ],
          "name": "stdout"
        },
        {
          "output_type": "stream",
          "text": [
            "Loss=1.0175725221633911 l1_loss=117.44374084472656 l2_loss=21.34105682373047 Batch_id=468 Accuracy=91.48: 100%|██████████| 469/469 [00:20<00:00, 22.64it/s]\n",
            "  0%|          | 0/469 [00:00<?, ?it/s]"
          ],
          "name": "stderr"
        },
        {
          "output_type": "stream",
          "text": [
            "\n",
            "Testing Results: Average loss: 0.3167, Accuracy: 8997/10000 (89.97%)\n",
            "\n",
            "\n",
            " EPOCH: 4   GBN: True   L1 norm: 0.005   L2 norm: 0.005\n"
          ],
          "name": "stdout"
        },
        {
          "output_type": "stream",
          "text": [
            "Loss=0.8491718769073486 l1_loss=99.93663024902344 l2_loss=20.89859390258789 Batch_id=468 Accuracy=93.94: 100%|██████████| 469/469 [00:21<00:00, 22.12it/s]\n",
            "  0%|          | 0/469 [00:00<?, ?it/s]"
          ],
          "name": "stderr"
        },
        {
          "output_type": "stream",
          "text": [
            "\n",
            "Testing Results: Average loss: 0.0789, Accuracy: 9773/10000 (97.73%)\n",
            "\n",
            "\n",
            " EPOCH: 5   GBN: True   L1 norm: 0.005   L2 norm: 0.005\n"
          ],
          "name": "stdout"
        },
        {
          "output_type": "stream",
          "text": [
            "Loss=0.7380588054656982 l1_loss=92.88626098632812 l2_loss=20.493785858154297 Batch_id=468 Accuracy=94.85: 100%|██████████| 469/469 [00:21<00:00, 21.92it/s]\n",
            "  0%|          | 0/469 [00:00<?, ?it/s]"
          ],
          "name": "stderr"
        },
        {
          "output_type": "stream",
          "text": [
            "\n",
            "Testing Results: Average loss: 0.0738, Accuracy: 9790/10000 (97.90%)\n",
            "\n",
            "\n",
            " EPOCH: 6   GBN: True   L1 norm: 0.005   L2 norm: 0.005\n"
          ],
          "name": "stdout"
        },
        {
          "output_type": "stream",
          "text": [
            "Loss=0.8175302743911743 l1_loss=87.90287017822266 l2_loss=20.11932945251465 Batch_id=468 Accuracy=95.14: 100%|██████████| 469/469 [00:21<00:00, 21.59it/s]\n",
            "  0%|          | 0/469 [00:00<?, ?it/s]"
          ],
          "name": "stderr"
        },
        {
          "output_type": "stream",
          "text": [
            "\n",
            "Testing Results: Average loss: 0.0738, Accuracy: 9789/10000 (97.89%)\n",
            "\n",
            "\n",
            " EPOCH: 7   GBN: True   L1 norm: 0.005   L2 norm: 0.005\n"
          ],
          "name": "stdout"
        },
        {
          "output_type": "stream",
          "text": [
            "Loss=0.705509603023529 l1_loss=84.11865997314453 l2_loss=19.77049446105957 Batch_id=468 Accuracy=95.19: 100%|██████████| 469/469 [00:20<00:00, 22.44it/s]\n",
            "  0%|          | 0/469 [00:00<?, ?it/s]"
          ],
          "name": "stderr"
        },
        {
          "output_type": "stream",
          "text": [
            "\n",
            "Testing Results: Average loss: 0.0743, Accuracy: 9796/10000 (97.96%)\n",
            "\n",
            "\n",
            " EPOCH: 8   GBN: True   L1 norm: 0.005   L2 norm: 0.005\n"
          ],
          "name": "stdout"
        },
        {
          "output_type": "stream",
          "text": [
            "Loss=0.7441692352294922 l1_loss=83.94258117675781 l2_loss=19.766530990600586 Batch_id=468 Accuracy=95.22: 100%|██████████| 469/469 [00:20<00:00, 22.52it/s]\n",
            "  0%|          | 0/469 [00:00<?, ?it/s]"
          ],
          "name": "stderr"
        },
        {
          "output_type": "stream",
          "text": [
            "\n",
            "Testing Results: Average loss: 0.0716, Accuracy: 9796/10000 (97.96%)\n",
            "\n",
            "\n",
            " EPOCH: 9   GBN: True   L1 norm: 0.005   L2 norm: 0.005\n"
          ],
          "name": "stdout"
        },
        {
          "output_type": "stream",
          "text": [
            "Loss=0.7124673128128052 l1_loss=83.87384796142578 l2_loss=19.763286590576172 Batch_id=468 Accuracy=95.26: 100%|██████████| 469/469 [00:20<00:00, 22.76it/s]\n",
            "  0%|          | 0/469 [00:00<?, ?it/s]"
          ],
          "name": "stderr"
        },
        {
          "output_type": "stream",
          "text": [
            "\n",
            "Testing Results: Average loss: 0.0713, Accuracy: 9799/10000 (97.99%)\n",
            "\n",
            "\n",
            " EPOCH: 10   GBN: True   L1 norm: 0.005   L2 norm: 0.005\n"
          ],
          "name": "stdout"
        },
        {
          "output_type": "stream",
          "text": [
            "Loss=0.712019145488739 l1_loss=83.8156967163086 l2_loss=19.760164260864258 Batch_id=468 Accuracy=95.40: 100%|██████████| 469/469 [00:20<00:00, 23.22it/s]\n",
            "  0%|          | 0/469 [00:00<?, ?it/s]"
          ],
          "name": "stderr"
        },
        {
          "output_type": "stream",
          "text": [
            "\n",
            "Testing Results: Average loss: 0.0707, Accuracy: 9795/10000 (97.95%)\n",
            "\n",
            "\n",
            " EPOCH: 11   GBN: True   L1 norm: 0.005   L2 norm: 0.005\n"
          ],
          "name": "stdout"
        },
        {
          "output_type": "stream",
          "text": [
            "Loss=0.7592540383338928 l1_loss=83.76345825195312 l2_loss=19.75708770751953 Batch_id=468 Accuracy=95.29: 100%|██████████| 469/469 [00:20<00:00, 23.32it/s]\n",
            "  0%|          | 0/469 [00:00<?, ?it/s]"
          ],
          "name": "stderr"
        },
        {
          "output_type": "stream",
          "text": [
            "\n",
            "Testing Results: Average loss: 0.0718, Accuracy: 9797/10000 (97.97%)\n",
            "\n",
            "\n",
            " EPOCH: 12   GBN: True   L1 norm: 0.005   L2 norm: 0.005\n"
          ],
          "name": "stdout"
        },
        {
          "output_type": "stream",
          "text": [
            "Loss=0.8732487559318542 l1_loss=83.76179504394531 l2_loss=19.75706672668457 Batch_id=468 Accuracy=95.25: 100%|██████████| 469/469 [00:19<00:00, 23.91it/s]\n",
            "  0%|          | 0/469 [00:00<?, ?it/s]"
          ],
          "name": "stderr"
        },
        {
          "output_type": "stream",
          "text": [
            "\n",
            "Testing Results: Average loss: 0.0708, Accuracy: 9799/10000 (97.99%)\n",
            "\n",
            "\n",
            " EPOCH: 13   GBN: True   L1 norm: 0.005   L2 norm: 0.005\n"
          ],
          "name": "stdout"
        },
        {
          "output_type": "stream",
          "text": [
            "Loss=0.7573126554489136 l1_loss=83.76119995117188 l2_loss=19.757051467895508 Batch_id=468 Accuracy=95.43: 100%|██████████| 469/469 [00:19<00:00, 23.73it/s]\n",
            "  0%|          | 0/469 [00:00<?, ?it/s]"
          ],
          "name": "stderr"
        },
        {
          "output_type": "stream",
          "text": [
            "\n",
            "Testing Results: Average loss: 0.0713, Accuracy: 9796/10000 (97.96%)\n",
            "\n",
            "\n",
            " EPOCH: 14   GBN: True   L1 norm: 0.005   L2 norm: 0.005\n"
          ],
          "name": "stdout"
        },
        {
          "output_type": "stream",
          "text": [
            "Loss=0.6380912661552429 l1_loss=83.76063537597656 l2_loss=19.757034301757812 Batch_id=468 Accuracy=95.40: 100%|██████████| 469/469 [00:20<00:00, 22.44it/s]\n",
            "  0%|          | 0/469 [00:00<?, ?it/s]"
          ],
          "name": "stderr"
        },
        {
          "output_type": "stream",
          "text": [
            "\n",
            "Testing Results: Average loss: 0.0708, Accuracy: 9798/10000 (97.98%)\n",
            "\n",
            "\n",
            " EPOCH: 15   GBN: True   L1 norm: 0.005   L2 norm: 0.005\n"
          ],
          "name": "stdout"
        },
        {
          "output_type": "stream",
          "text": [
            "Loss=0.7149375081062317 l1_loss=83.76008605957031 l2_loss=19.75701904296875 Batch_id=468 Accuracy=95.42: 100%|██████████| 469/469 [00:21<00:00, 21.55it/s]\n",
            "  0%|          | 0/469 [00:00<?, ?it/s]"
          ],
          "name": "stderr"
        },
        {
          "output_type": "stream",
          "text": [
            "\n",
            "Testing Results: Average loss: 0.0702, Accuracy: 9802/10000 (98.02%)\n",
            "\n",
            "\n",
            " EPOCH: 16   GBN: True   L1 norm: 0.005   L2 norm: 0.005\n"
          ],
          "name": "stdout"
        },
        {
          "output_type": "stream",
          "text": [
            "Loss=0.6921844482421875 l1_loss=83.76007080078125 l2_loss=19.75701904296875 Batch_id=468 Accuracy=95.39: 100%|██████████| 469/469 [00:21<00:00, 21.91it/s]\n",
            "  0%|          | 0/469 [00:00<?, ?it/s]"
          ],
          "name": "stderr"
        },
        {
          "output_type": "stream",
          "text": [
            "\n",
            "Testing Results: Average loss: 0.0712, Accuracy: 9794/10000 (97.94%)\n",
            "\n",
            "\n",
            " EPOCH: 17   GBN: True   L1 norm: 0.005   L2 norm: 0.005\n"
          ],
          "name": "stdout"
        },
        {
          "output_type": "stream",
          "text": [
            "Loss=0.6488115191459656 l1_loss=83.76007080078125 l2_loss=19.75701904296875 Batch_id=468 Accuracy=95.33: 100%|██████████| 469/469 [00:20<00:00, 22.80it/s]\n",
            "  0%|          | 0/469 [00:00<?, ?it/s]"
          ],
          "name": "stderr"
        },
        {
          "output_type": "stream",
          "text": [
            "\n",
            "Testing Results: Average loss: 0.0717, Accuracy: 9797/10000 (97.97%)\n",
            "\n",
            "\n",
            " EPOCH: 18   GBN: True   L1 norm: 0.005   L2 norm: 0.005\n"
          ],
          "name": "stdout"
        },
        {
          "output_type": "stream",
          "text": [
            "Loss=0.669967532157898 l1_loss=83.76007080078125 l2_loss=19.75701904296875 Batch_id=468 Accuracy=95.40: 100%|██████████| 469/469 [00:20<00:00, 22.46it/s]\n",
            "  0%|          | 0/469 [00:00<?, ?it/s]"
          ],
          "name": "stderr"
        },
        {
          "output_type": "stream",
          "text": [
            "\n",
            "Testing Results: Average loss: 0.0709, Accuracy: 9797/10000 (97.97%)\n",
            "\n",
            "\n",
            " EPOCH: 19   GBN: True   L1 norm: 0.005   L2 norm: 0.005\n"
          ],
          "name": "stdout"
        },
        {
          "output_type": "stream",
          "text": [
            "Loss=0.7636602520942688 l1_loss=83.76005554199219 l2_loss=19.75701904296875 Batch_id=468 Accuracy=95.37: 100%|██████████| 469/469 [00:21<00:00, 22.09it/s]\n",
            "  0%|          | 0/469 [00:00<?, ?it/s]"
          ],
          "name": "stderr"
        },
        {
          "output_type": "stream",
          "text": [
            "\n",
            "Testing Results: Average loss: 0.0707, Accuracy: 9797/10000 (97.97%)\n",
            "\n",
            "\n",
            " EPOCH: 20   GBN: True   L1 norm: 0.005   L2 norm: 0.005\n"
          ],
          "name": "stdout"
        },
        {
          "output_type": "stream",
          "text": [
            "Loss=0.7030531764030457 l1_loss=83.76005554199219 l2_loss=19.75701904296875 Batch_id=468 Accuracy=95.43: 100%|██████████| 469/469 [00:21<00:00, 21.83it/s]\n",
            "  0%|          | 0/469 [00:00<?, ?it/s]"
          ],
          "name": "stderr"
        },
        {
          "output_type": "stream",
          "text": [
            "\n",
            "Testing Results: Average loss: 0.0708, Accuracy: 9802/10000 (98.02%)\n",
            "\n",
            "\n",
            " EPOCH: 21   GBN: True   L1 norm: 0.005   L2 norm: 0.005\n"
          ],
          "name": "stdout"
        },
        {
          "output_type": "stream",
          "text": [
            "Loss=0.6836196780204773 l1_loss=83.76005554199219 l2_loss=19.75701904296875 Batch_id=468 Accuracy=95.39: 100%|██████████| 469/469 [00:21<00:00, 21.89it/s]\n",
            "  0%|          | 0/469 [00:00<?, ?it/s]"
          ],
          "name": "stderr"
        },
        {
          "output_type": "stream",
          "text": [
            "\n",
            "Testing Results: Average loss: 0.0710, Accuracy: 9799/10000 (97.99%)\n",
            "\n",
            "\n",
            " EPOCH: 22   GBN: True   L1 norm: 0.005   L2 norm: 0.005\n"
          ],
          "name": "stdout"
        },
        {
          "output_type": "stream",
          "text": [
            "Loss=0.7245063185691833 l1_loss=83.76005554199219 l2_loss=19.75701904296875 Batch_id=468 Accuracy=95.43: 100%|██████████| 469/469 [00:21<00:00, 22.30it/s]\n",
            "  0%|          | 0/469 [00:00<?, ?it/s]"
          ],
          "name": "stderr"
        },
        {
          "output_type": "stream",
          "text": [
            "\n",
            "Testing Results: Average loss: 0.0707, Accuracy: 9799/10000 (97.99%)\n",
            "\n",
            "\n",
            " EPOCH: 23   GBN: True   L1 norm: 0.005   L2 norm: 0.005\n"
          ],
          "name": "stdout"
        },
        {
          "output_type": "stream",
          "text": [
            "Loss=0.5766805410385132 l1_loss=83.76005554199219 l2_loss=19.75701904296875 Batch_id=468 Accuracy=95.42: 100%|██████████| 469/469 [00:21<00:00, 22.20it/s]\n",
            "  0%|          | 0/469 [00:00<?, ?it/s]"
          ],
          "name": "stderr"
        },
        {
          "output_type": "stream",
          "text": [
            "\n",
            "Testing Results: Average loss: 0.0708, Accuracy: 9801/10000 (98.01%)\n",
            "\n",
            "\n",
            " EPOCH: 24   GBN: True   L1 norm: 0.005   L2 norm: 0.005\n"
          ],
          "name": "stdout"
        },
        {
          "output_type": "stream",
          "text": [
            "Loss=0.722538948059082 l1_loss=83.76005554199219 l2_loss=19.75701904296875 Batch_id=468 Accuracy=95.33: 100%|██████████| 469/469 [00:21<00:00, 22.21it/s]\n"
          ],
          "name": "stderr"
        },
        {
          "output_type": "stream",
          "text": [
            "\n",
            "Testing Results: Average loss: 0.0712, Accuracy: 9792/10000 (97.92%)\n",
            "\n"
          ],
          "name": "stdout"
        },
        {
          "output_type": "stream",
          "text": [
            "\r  0%|          | 0/469 [00:00<?, ?it/s]"
          ],
          "name": "stderr"
        },
        {
          "output_type": "stream",
          "text": [
            "\n",
            " EPOCH: 0   GBN: False   L1 norm: 0.005   L2 norm: 0.0\n"
          ],
          "name": "stdout"
        },
        {
          "output_type": "stream",
          "text": [
            "Loss=0.8356336355209351 l1_loss=137.7684326171875 l2_loss=0 Batch_id=468 Accuracy=90.18: 100%|██████████| 469/469 [00:18<00:00, 25.10it/s]\n",
            "  0%|          | 0/469 [00:00<?, ?it/s]"
          ],
          "name": "stderr"
        },
        {
          "output_type": "stream",
          "text": [
            "\n",
            "Testing Results: Average loss: 0.2747, Accuracy: 9246/10000 (92.46%)\n",
            "\n",
            "\n",
            " EPOCH: 1   GBN: False   L1 norm: 0.005   L2 norm: 0.0\n"
          ],
          "name": "stdout"
        },
        {
          "output_type": "stream",
          "text": [
            "Loss=0.8621082901954651 l1_loss=124.4272689819336 l2_loss=0 Batch_id=468 Accuracy=93.36: 100%|██████████| 469/469 [00:18<00:00, 25.93it/s]\n",
            "  0%|          | 0/469 [00:00<?, ?it/s]"
          ],
          "name": "stderr"
        },
        {
          "output_type": "stream",
          "text": [
            "\n",
            "Testing Results: Average loss: 0.2751, Accuracy: 9178/10000 (91.78%)\n",
            "\n",
            "\n",
            " EPOCH: 2   GBN: False   L1 norm: 0.005   L2 norm: 0.0\n"
          ],
          "name": "stdout"
        },
        {
          "output_type": "stream",
          "text": [
            "Loss=0.7987903952598572 l1_loss=117.75747680664062 l2_loss=0 Batch_id=468 Accuracy=93.55: 100%|██████████| 469/469 [00:17<00:00, 26.10it/s]\n",
            "  0%|          | 0/469 [00:00<?, ?it/s]"
          ],
          "name": "stderr"
        },
        {
          "output_type": "stream",
          "text": [
            "\n",
            "Testing Results: Average loss: 0.7273, Accuracy: 7467/10000 (74.67%)\n",
            "\n",
            "\n",
            " EPOCH: 3   GBN: False   L1 norm: 0.005   L2 norm: 0.0\n"
          ],
          "name": "stdout"
        },
        {
          "output_type": "stream",
          "text": [
            "Loss=0.8694159984588623 l1_loss=118.24065399169922 l2_loss=0 Batch_id=468 Accuracy=93.70: 100%|██████████| 469/469 [00:18<00:00, 25.52it/s]\n",
            "  0%|          | 0/469 [00:00<?, ?it/s]"
          ],
          "name": "stderr"
        },
        {
          "output_type": "stream",
          "text": [
            "\n",
            "Testing Results: Average loss: 0.6032, Accuracy: 7786/10000 (77.86%)\n",
            "\n",
            "\n",
            " EPOCH: 4   GBN: False   L1 norm: 0.005   L2 norm: 0.0\n"
          ],
          "name": "stdout"
        },
        {
          "output_type": "stream",
          "text": [
            "Loss=0.6980510950088501 l1_loss=99.5859603881836 l2_loss=0 Batch_id=468 Accuracy=96.26: 100%|██████████| 469/469 [00:18<00:00, 25.66it/s]\n",
            "  0%|          | 0/469 [00:00<?, ?it/s]"
          ],
          "name": "stderr"
        },
        {
          "output_type": "stream",
          "text": [
            "\n",
            "Testing Results: Average loss: 0.0705, Accuracy: 9809/10000 (98.09%)\n",
            "\n",
            "\n",
            " EPOCH: 5   GBN: False   L1 norm: 0.005   L2 norm: 0.0\n"
          ],
          "name": "stdout"
        },
        {
          "output_type": "stream",
          "text": [
            "Loss=0.6041704416275024 l1_loss=92.0823745727539 l2_loss=0 Batch_id=468 Accuracy=96.91: 100%|██████████| 469/469 [00:18<00:00, 25.76it/s]\n",
            "  0%|          | 0/469 [00:00<?, ?it/s]"
          ],
          "name": "stderr"
        },
        {
          "output_type": "stream",
          "text": [
            "\n",
            "Testing Results: Average loss: 0.0646, Accuracy: 9834/10000 (98.34%)\n",
            "\n",
            "\n",
            " EPOCH: 6   GBN: False   L1 norm: 0.005   L2 norm: 0.0\n"
          ],
          "name": "stdout"
        },
        {
          "output_type": "stream",
          "text": [
            "Loss=0.6317111849784851 l1_loss=86.89231872558594 l2_loss=0 Batch_id=468 Accuracy=97.04: 100%|██████████| 469/469 [00:18<00:00, 25.94it/s]\n",
            "  0%|          | 0/469 [00:00<?, ?it/s]"
          ],
          "name": "stderr"
        },
        {
          "output_type": "stream",
          "text": [
            "\n",
            "Testing Results: Average loss: 0.0643, Accuracy: 9828/10000 (98.28%)\n",
            "\n",
            "\n",
            " EPOCH: 7   GBN: False   L1 norm: 0.005   L2 norm: 0.0\n"
          ],
          "name": "stdout"
        },
        {
          "output_type": "stream",
          "text": [
            "Loss=0.4851391911506653 l1_loss=83.12345886230469 l2_loss=0 Batch_id=468 Accuracy=97.08: 100%|██████████| 469/469 [00:18<00:00, 25.87it/s]\n",
            "  0%|          | 0/469 [00:00<?, ?it/s]"
          ],
          "name": "stderr"
        },
        {
          "output_type": "stream",
          "text": [
            "\n",
            "Testing Results: Average loss: 0.0642, Accuracy: 9830/10000 (98.30%)\n",
            "\n",
            "\n",
            " EPOCH: 8   GBN: False   L1 norm: 0.005   L2 norm: 0.0\n"
          ],
          "name": "stdout"
        },
        {
          "output_type": "stream",
          "text": [
            "Loss=0.5518468022346497 l1_loss=82.93838500976562 l2_loss=0 Batch_id=468 Accuracy=97.06: 100%|██████████| 469/469 [00:18<00:00, 25.69it/s]\n",
            "  0%|          | 0/469 [00:00<?, ?it/s]"
          ],
          "name": "stderr"
        },
        {
          "output_type": "stream",
          "text": [
            "\n",
            "Testing Results: Average loss: 0.0625, Accuracy: 9835/10000 (98.35%)\n",
            "\n",
            "\n",
            " EPOCH: 9   GBN: False   L1 norm: 0.005   L2 norm: 0.0\n"
          ],
          "name": "stdout"
        },
        {
          "output_type": "stream",
          "text": [
            "Loss=0.5096552968025208 l1_loss=82.86046600341797 l2_loss=0 Batch_id=468 Accuracy=97.13: 100%|██████████| 469/469 [00:17<00:00, 26.08it/s]\n",
            "  0%|          | 0/469 [00:00<?, ?it/s]"
          ],
          "name": "stderr"
        },
        {
          "output_type": "stream",
          "text": [
            "\n",
            "Testing Results: Average loss: 0.0616, Accuracy: 9840/10000 (98.40%)\n",
            "\n",
            "\n",
            " EPOCH: 10   GBN: False   L1 norm: 0.005   L2 norm: 0.0\n"
          ],
          "name": "stdout"
        },
        {
          "output_type": "stream",
          "text": [
            "Loss=0.46888911724090576 l1_loss=82.79398345947266 l2_loss=0 Batch_id=468 Accuracy=97.08: 100%|██████████| 469/469 [00:17<00:00, 26.40it/s]\n",
            "  0%|          | 0/469 [00:00<?, ?it/s]"
          ],
          "name": "stderr"
        },
        {
          "output_type": "stream",
          "text": [
            "\n",
            "Testing Results: Average loss: 0.0622, Accuracy: 9839/10000 (98.39%)\n",
            "\n",
            "\n",
            " EPOCH: 11   GBN: False   L1 norm: 0.005   L2 norm: 0.0\n"
          ],
          "name": "stdout"
        },
        {
          "output_type": "stream",
          "text": [
            "Loss=0.5029412508010864 l1_loss=82.73544311523438 l2_loss=0 Batch_id=468 Accuracy=97.17: 100%|██████████| 469/469 [00:17<00:00, 26.16it/s]\n",
            "  0%|          | 0/469 [00:00<?, ?it/s]"
          ],
          "name": "stderr"
        },
        {
          "output_type": "stream",
          "text": [
            "\n",
            "Testing Results: Average loss: 0.0608, Accuracy: 9842/10000 (98.42%)\n",
            "\n",
            "\n",
            " EPOCH: 12   GBN: False   L1 norm: 0.005   L2 norm: 0.0\n"
          ],
          "name": "stdout"
        },
        {
          "output_type": "stream",
          "text": [
            "Loss=0.4978371858596802 l1_loss=82.73368072509766 l2_loss=0 Batch_id=468 Accuracy=97.16: 100%|██████████| 469/469 [00:18<00:00, 26.02it/s]\n",
            "  0%|          | 0/469 [00:00<?, ?it/s]"
          ],
          "name": "stderr"
        },
        {
          "output_type": "stream",
          "text": [
            "\n",
            "Testing Results: Average loss: 0.0622, Accuracy: 9842/10000 (98.42%)\n",
            "\n",
            "\n",
            " EPOCH: 13   GBN: False   L1 norm: 0.005   L2 norm: 0.0\n"
          ],
          "name": "stdout"
        },
        {
          "output_type": "stream",
          "text": [
            "Loss=0.4783901870250702 l1_loss=82.73304748535156 l2_loss=0 Batch_id=468 Accuracy=97.16: 100%|██████████| 469/469 [00:18<00:00, 25.69it/s]\n",
            "  0%|          | 0/469 [00:00<?, ?it/s]"
          ],
          "name": "stderr"
        },
        {
          "output_type": "stream",
          "text": [
            "\n",
            "Testing Results: Average loss: 0.0628, Accuracy: 9833/10000 (98.33%)\n",
            "\n",
            "\n",
            " EPOCH: 14   GBN: False   L1 norm: 0.005   L2 norm: 0.0\n"
          ],
          "name": "stdout"
        },
        {
          "output_type": "stream",
          "text": [
            "Loss=0.48540329933166504 l1_loss=82.7324447631836 l2_loss=0 Batch_id=468 Accuracy=97.12: 100%|██████████| 469/469 [00:18<00:00, 24.69it/s]\n",
            "  0%|          | 0/469 [00:00<?, ?it/s]"
          ],
          "name": "stderr"
        },
        {
          "output_type": "stream",
          "text": [
            "\n",
            "Testing Results: Average loss: 0.0612, Accuracy: 9846/10000 (98.46%)\n",
            "\n",
            "\n",
            " EPOCH: 15   GBN: False   L1 norm: 0.005   L2 norm: 0.0\n"
          ],
          "name": "stdout"
        },
        {
          "output_type": "stream",
          "text": [
            "Loss=0.5024992227554321 l1_loss=82.73187255859375 l2_loss=0 Batch_id=468 Accuracy=97.13: 100%|██████████| 469/469 [00:19<00:00, 24.51it/s]\n",
            "  0%|          | 0/469 [00:00<?, ?it/s]"
          ],
          "name": "stderr"
        },
        {
          "output_type": "stream",
          "text": [
            "\n",
            "Testing Results: Average loss: 0.0613, Accuracy: 9841/10000 (98.41%)\n",
            "\n",
            "\n",
            " EPOCH: 16   GBN: False   L1 norm: 0.005   L2 norm: 0.0\n"
          ],
          "name": "stdout"
        },
        {
          "output_type": "stream",
          "text": [
            "Loss=0.492397665977478 l1_loss=82.73185729980469 l2_loss=0 Batch_id=468 Accuracy=97.13: 100%|██████████| 469/469 [00:18<00:00, 24.88it/s]\n",
            "  0%|          | 0/469 [00:00<?, ?it/s]"
          ],
          "name": "stderr"
        },
        {
          "output_type": "stream",
          "text": [
            "\n",
            "Testing Results: Average loss: 0.0613, Accuracy: 9843/10000 (98.43%)\n",
            "\n",
            "\n",
            " EPOCH: 17   GBN: False   L1 norm: 0.005   L2 norm: 0.0\n"
          ],
          "name": "stdout"
        },
        {
          "output_type": "stream",
          "text": [
            "Loss=0.5503948330879211 l1_loss=82.73185729980469 l2_loss=0 Batch_id=468 Accuracy=97.11: 100%|██████████| 469/469 [00:18<00:00, 25.19it/s]\n",
            "  0%|          | 0/469 [00:00<?, ?it/s]"
          ],
          "name": "stderr"
        },
        {
          "output_type": "stream",
          "text": [
            "\n",
            "Testing Results: Average loss: 0.0616, Accuracy: 9838/10000 (98.38%)\n",
            "\n",
            "\n",
            " EPOCH: 18   GBN: False   L1 norm: 0.005   L2 norm: 0.0\n"
          ],
          "name": "stdout"
        },
        {
          "output_type": "stream",
          "text": [
            "Loss=0.481073260307312 l1_loss=82.73184967041016 l2_loss=0 Batch_id=468 Accuracy=97.08: 100%|██████████| 469/469 [00:18<00:00, 25.26it/s]\n",
            "  0%|          | 0/469 [00:00<?, ?it/s]"
          ],
          "name": "stderr"
        },
        {
          "output_type": "stream",
          "text": [
            "\n",
            "Testing Results: Average loss: 0.0617, Accuracy: 9836/10000 (98.36%)\n",
            "\n",
            "\n",
            " EPOCH: 19   GBN: False   L1 norm: 0.005   L2 norm: 0.0\n"
          ],
          "name": "stdout"
        },
        {
          "output_type": "stream",
          "text": [
            "Loss=0.4549352824687958 l1_loss=82.73184967041016 l2_loss=0 Batch_id=468 Accuracy=97.19: 100%|██████████| 469/469 [00:18<00:00, 24.77it/s]\n",
            "  0%|          | 0/469 [00:00<?, ?it/s]"
          ],
          "name": "stderr"
        },
        {
          "output_type": "stream",
          "text": [
            "\n",
            "Testing Results: Average loss: 0.0605, Accuracy: 9847/10000 (98.47%)\n",
            "\n",
            "\n",
            " EPOCH: 20   GBN: False   L1 norm: 0.005   L2 norm: 0.0\n"
          ],
          "name": "stdout"
        },
        {
          "output_type": "stream",
          "text": [
            "Loss=0.4518085718154907 l1_loss=82.73184967041016 l2_loss=0 Batch_id=468 Accuracy=97.11: 100%|██████████| 469/469 [00:18<00:00, 25.24it/s]\n",
            "  0%|          | 0/469 [00:00<?, ?it/s]"
          ],
          "name": "stderr"
        },
        {
          "output_type": "stream",
          "text": [
            "\n",
            "Testing Results: Average loss: 0.0627, Accuracy: 9836/10000 (98.36%)\n",
            "\n",
            "\n",
            " EPOCH: 21   GBN: False   L1 norm: 0.005   L2 norm: 0.0\n"
          ],
          "name": "stdout"
        },
        {
          "output_type": "stream",
          "text": [
            "Loss=0.5478835105895996 l1_loss=82.73184967041016 l2_loss=0 Batch_id=468 Accuracy=97.12: 100%|██████████| 469/469 [00:18<00:00, 25.68it/s]\n",
            "  0%|          | 0/469 [00:00<?, ?it/s]"
          ],
          "name": "stderr"
        },
        {
          "output_type": "stream",
          "text": [
            "\n",
            "Testing Results: Average loss: 0.0617, Accuracy: 9837/10000 (98.37%)\n",
            "\n",
            "\n",
            " EPOCH: 22   GBN: False   L1 norm: 0.005   L2 norm: 0.0\n"
          ],
          "name": "stdout"
        },
        {
          "output_type": "stream",
          "text": [
            "Loss=0.5536808371543884 l1_loss=82.73184967041016 l2_loss=0 Batch_id=468 Accuracy=97.14: 100%|██████████| 469/469 [00:17<00:00, 26.24it/s]\n",
            "  0%|          | 0/469 [00:00<?, ?it/s]"
          ],
          "name": "stderr"
        },
        {
          "output_type": "stream",
          "text": [
            "\n",
            "Testing Results: Average loss: 0.0616, Accuracy: 9839/10000 (98.39%)\n",
            "\n",
            "\n",
            " EPOCH: 23   GBN: False   L1 norm: 0.005   L2 norm: 0.0\n"
          ],
          "name": "stdout"
        },
        {
          "output_type": "stream",
          "text": [
            "Loss=0.5120329856872559 l1_loss=82.73184967041016 l2_loss=0 Batch_id=468 Accuracy=97.14: 100%|██████████| 469/469 [00:17<00:00, 26.14it/s]\n",
            "  0%|          | 0/469 [00:00<?, ?it/s]"
          ],
          "name": "stderr"
        },
        {
          "output_type": "stream",
          "text": [
            "\n",
            "Testing Results: Average loss: 0.0617, Accuracy: 9835/10000 (98.35%)\n",
            "\n",
            "\n",
            " EPOCH: 24   GBN: False   L1 norm: 0.005   L2 norm: 0.0\n"
          ],
          "name": "stdout"
        },
        {
          "output_type": "stream",
          "text": [
            "Loss=0.47289490699768066 l1_loss=82.73184967041016 l2_loss=0 Batch_id=468 Accuracy=97.12: 100%|██████████| 469/469 [00:17<00:00, 26.12it/s]\n"
          ],
          "name": "stderr"
        },
        {
          "output_type": "stream",
          "text": [
            "\n",
            "Testing Results: Average loss: 0.0619, Accuracy: 9838/10000 (98.38%)\n",
            "\n"
          ],
          "name": "stdout"
        },
        {
          "output_type": "stream",
          "text": [
            "\r  0%|          | 0/469 [00:00<?, ?it/s]"
          ],
          "name": "stderr"
        },
        {
          "output_type": "stream",
          "text": [
            "\n",
            " EPOCH: 0   GBN: False   L1 norm: 0.0   L2 norm: 0.005\n"
          ],
          "name": "stdout"
        },
        {
          "output_type": "stream",
          "text": [
            "Loss=0.36078941822052 l1_loss=0 l2_loss=52.475528717041016 Batch_id=468 Accuracy=93.23: 100%|██████████| 469/469 [00:18<00:00, 25.91it/s]\n",
            "  0%|          | 0/469 [00:00<?, ?it/s]"
          ],
          "name": "stderr"
        },
        {
          "output_type": "stream",
          "text": [
            "\n",
            "Testing Results: Average loss: 0.1032, Accuracy: 9702/10000 (97.02%)\n",
            "\n",
            "\n",
            " EPOCH: 1   GBN: False   L1 norm: 0.0   L2 norm: 0.005\n"
          ],
          "name": "stdout"
        },
        {
          "output_type": "stream",
          "text": [
            "Loss=0.34974268078804016 l1_loss=0 l2_loss=48.825035095214844 Batch_id=468 Accuracy=97.05: 100%|██████████| 469/469 [00:18<00:00, 25.66it/s]\n",
            "  0%|          | 0/469 [00:00<?, ?it/s]"
          ],
          "name": "stderr"
        },
        {
          "output_type": "stream",
          "text": [
            "\n",
            "Testing Results: Average loss: 0.1448, Accuracy: 9557/10000 (95.57%)\n",
            "\n",
            "\n",
            " EPOCH: 2   GBN: False   L1 norm: 0.0   L2 norm: 0.005\n"
          ],
          "name": "stdout"
        },
        {
          "output_type": "stream",
          "text": [
            "Loss=0.3998008966445923 l1_loss=0 l2_loss=47.57332992553711 Batch_id=468 Accuracy=97.18: 100%|██████████| 469/469 [00:18<00:00, 25.56it/s]\n",
            "  0%|          | 0/469 [00:00<?, ?it/s]"
          ],
          "name": "stderr"
        },
        {
          "output_type": "stream",
          "text": [
            "\n",
            "Testing Results: Average loss: 0.1538, Accuracy: 9511/10000 (95.11%)\n",
            "\n",
            "\n",
            " EPOCH: 3   GBN: False   L1 norm: 0.0   L2 norm: 0.005\n"
          ],
          "name": "stdout"
        },
        {
          "output_type": "stream",
          "text": [
            "Loss=0.31283923983573914 l1_loss=0 l2_loss=45.090518951416016 Batch_id=468 Accuracy=97.39: 100%|██████████| 469/469 [00:18<00:00, 25.00it/s]\n",
            "  0%|          | 0/469 [00:00<?, ?it/s]"
          ],
          "name": "stderr"
        },
        {
          "output_type": "stream",
          "text": [
            "\n",
            "Testing Results: Average loss: 0.0768, Accuracy: 9768/10000 (97.68%)\n",
            "\n",
            "\n",
            " EPOCH: 4   GBN: False   L1 norm: 0.0   L2 norm: 0.005\n"
          ],
          "name": "stdout"
        },
        {
          "output_type": "stream",
          "text": [
            "Loss=0.2702232897281647 l1_loss=0 l2_loss=44.677425384521484 Batch_id=468 Accuracy=98.11: 100%|██████████| 469/469 [00:18<00:00, 25.14it/s]\n",
            "  0%|          | 0/469 [00:00<?, ?it/s]"
          ],
          "name": "stderr"
        },
        {
          "output_type": "stream",
          "text": [
            "\n",
            "Testing Results: Average loss: 0.0299, Accuracy: 9907/10000 (99.07%)\n",
            "\n",
            "\n",
            " EPOCH: 5   GBN: False   L1 norm: 0.0   L2 norm: 0.005\n"
          ],
          "name": "stdout"
        },
        {
          "output_type": "stream",
          "text": [
            "Loss=0.28235459327697754 l1_loss=0 l2_loss=44.215660095214844 Batch_id=468 Accuracy=98.60: 100%|██████████| 469/469 [00:18<00:00, 25.63it/s]\n",
            "  0%|          | 0/469 [00:00<?, ?it/s]"
          ],
          "name": "stderr"
        },
        {
          "output_type": "stream",
          "text": [
            "\n",
            "Testing Results: Average loss: 0.0267, Accuracy: 9921/10000 (99.21%)\n",
            "\n",
            "\n",
            " EPOCH: 6   GBN: False   L1 norm: 0.0   L2 norm: 0.005\n"
          ],
          "name": "stdout"
        },
        {
          "output_type": "stream",
          "text": [
            "Loss=0.25459563732147217 l1_loss=0 l2_loss=43.723731994628906 Batch_id=468 Accuracy=98.74: 100%|██████████| 469/469 [00:17<00:00, 26.30it/s]\n",
            "  0%|          | 0/469 [00:00<?, ?it/s]"
          ],
          "name": "stderr"
        },
        {
          "output_type": "stream",
          "text": [
            "\n",
            "Testing Results: Average loss: 0.0247, Accuracy: 9923/10000 (99.23%)\n",
            "\n",
            "\n",
            " EPOCH: 7   GBN: False   L1 norm: 0.0   L2 norm: 0.005\n"
          ],
          "name": "stdout"
        },
        {
          "output_type": "stream",
          "text": [
            "Loss=0.2676926553249359 l1_loss=0 l2_loss=43.20553970336914 Batch_id=468 Accuracy=98.72: 100%|██████████| 469/469 [00:18<00:00, 25.69it/s]\n",
            "  0%|          | 0/469 [00:00<?, ?it/s]"
          ],
          "name": "stderr"
        },
        {
          "output_type": "stream",
          "text": [
            "\n",
            "Testing Results: Average loss: 0.0236, Accuracy: 9937/10000 (99.37%)\n",
            "\n",
            "\n",
            " EPOCH: 8   GBN: False   L1 norm: 0.0   L2 norm: 0.005\n"
          ],
          "name": "stdout"
        },
        {
          "output_type": "stream",
          "text": [
            "Loss=0.2924981415271759 l1_loss=0 l2_loss=43.198570251464844 Batch_id=468 Accuracy=98.79: 100%|██████████| 469/469 [00:19<00:00, 24.65it/s]\n",
            "  0%|          | 0/469 [00:00<?, ?it/s]"
          ],
          "name": "stderr"
        },
        {
          "output_type": "stream",
          "text": [
            "\n",
            "Testing Results: Average loss: 0.0233, Accuracy: 9930/10000 (99.30%)\n",
            "\n",
            "\n",
            " EPOCH: 9   GBN: False   L1 norm: 0.0   L2 norm: 0.005\n"
          ],
          "name": "stdout"
        },
        {
          "output_type": "stream",
          "text": [
            "Loss=0.2648274004459381 l1_loss=0 l2_loss=43.192710876464844 Batch_id=468 Accuracy=98.82: 100%|██████████| 469/469 [00:19<00:00, 23.93it/s]\n",
            "  0%|          | 0/469 [00:00<?, ?it/s]"
          ],
          "name": "stderr"
        },
        {
          "output_type": "stream",
          "text": [
            "\n",
            "Testing Results: Average loss: 0.0234, Accuracy: 9936/10000 (99.36%)\n",
            "\n",
            "\n",
            " EPOCH: 10   GBN: False   L1 norm: 0.0   L2 norm: 0.005\n"
          ],
          "name": "stdout"
        },
        {
          "output_type": "stream",
          "text": [
            "Loss=0.24307984113693237 l1_loss=0 l2_loss=43.186641693115234 Batch_id=468 Accuracy=98.80: 100%|██████████| 469/469 [00:18<00:00, 24.76it/s]\n",
            "  0%|          | 0/469 [00:00<?, ?it/s]"
          ],
          "name": "stderr"
        },
        {
          "output_type": "stream",
          "text": [
            "\n",
            "Testing Results: Average loss: 0.0231, Accuracy: 9933/10000 (99.33%)\n",
            "\n",
            "\n",
            " EPOCH: 11   GBN: False   L1 norm: 0.0   L2 norm: 0.005\n"
          ],
          "name": "stdout"
        },
        {
          "output_type": "stream",
          "text": [
            "Loss=0.2651016414165497 l1_loss=0 l2_loss=43.18048858642578 Batch_id=468 Accuracy=98.78: 100%|██████████| 469/469 [00:18<00:00, 24.95it/s]\n",
            "  0%|          | 0/469 [00:00<?, ?it/s]"
          ],
          "name": "stderr"
        },
        {
          "output_type": "stream",
          "text": [
            "\n",
            "Testing Results: Average loss: 0.0235, Accuracy: 9932/10000 (99.32%)\n",
            "\n",
            "\n",
            " EPOCH: 12   GBN: False   L1 norm: 0.0   L2 norm: 0.005\n"
          ],
          "name": "stdout"
        },
        {
          "output_type": "stream",
          "text": [
            "Loss=0.29700666666030884 l1_loss=0 l2_loss=43.180458068847656 Batch_id=468 Accuracy=98.84: 100%|██████████| 469/469 [00:18<00:00, 25.31it/s]\n",
            "  0%|          | 0/469 [00:00<?, ?it/s]"
          ],
          "name": "stderr"
        },
        {
          "output_type": "stream",
          "text": [
            "\n",
            "Testing Results: Average loss: 0.0234, Accuracy: 9932/10000 (99.32%)\n",
            "\n",
            "\n",
            " EPOCH: 13   GBN: False   L1 norm: 0.0   L2 norm: 0.005\n"
          ],
          "name": "stdout"
        },
        {
          "output_type": "stream",
          "text": [
            "Loss=0.24924056231975555 l1_loss=0 l2_loss=43.18043899536133 Batch_id=468 Accuracy=98.78: 100%|██████████| 469/469 [00:18<00:00, 24.97it/s]\n",
            "  0%|          | 0/469 [00:00<?, ?it/s]"
          ],
          "name": "stderr"
        },
        {
          "output_type": "stream",
          "text": [
            "\n",
            "Testing Results: Average loss: 0.0236, Accuracy: 9933/10000 (99.33%)\n",
            "\n",
            "\n",
            " EPOCH: 14   GBN: False   L1 norm: 0.0   L2 norm: 0.005\n"
          ],
          "name": "stdout"
        },
        {
          "output_type": "stream",
          "text": [
            "Loss=0.2577003836631775 l1_loss=0 l2_loss=43.180423736572266 Batch_id=468 Accuracy=98.76: 100%|██████████| 469/469 [00:18<00:00, 24.82it/s]\n",
            "  0%|          | 0/469 [00:00<?, ?it/s]"
          ],
          "name": "stderr"
        },
        {
          "output_type": "stream",
          "text": [
            "\n",
            "Testing Results: Average loss: 0.0233, Accuracy: 9937/10000 (99.37%)\n",
            "\n",
            "\n",
            " EPOCH: 15   GBN: False   L1 norm: 0.0   L2 norm: 0.005\n"
          ],
          "name": "stdout"
        },
        {
          "output_type": "stream",
          "text": [
            "Loss=0.3049977421760559 l1_loss=0 l2_loss=43.18040466308594 Batch_id=468 Accuracy=98.86: 100%|██████████| 469/469 [00:19<00:00, 24.28it/s]\n",
            "  0%|          | 0/469 [00:00<?, ?it/s]"
          ],
          "name": "stderr"
        },
        {
          "output_type": "stream",
          "text": [
            "\n",
            "Testing Results: Average loss: 0.0232, Accuracy: 9933/10000 (99.33%)\n",
            "\n",
            "\n",
            " EPOCH: 16   GBN: False   L1 norm: 0.0   L2 norm: 0.005\n"
          ],
          "name": "stdout"
        },
        {
          "output_type": "stream",
          "text": [
            "Loss=0.24879002571105957 l1_loss=0 l2_loss=43.18040466308594 Batch_id=468 Accuracy=98.75: 100%|██████████| 469/469 [00:19<00:00, 23.55it/s]\n",
            "  0%|          | 0/469 [00:00<?, ?it/s]"
          ],
          "name": "stderr"
        },
        {
          "output_type": "stream",
          "text": [
            "\n",
            "Testing Results: Average loss: 0.0232, Accuracy: 9933/10000 (99.33%)\n",
            "\n",
            "\n",
            " EPOCH: 17   GBN: False   L1 norm: 0.0   L2 norm: 0.005\n"
          ],
          "name": "stdout"
        },
        {
          "output_type": "stream",
          "text": [
            "Loss=0.23516982793807983 l1_loss=0 l2_loss=43.18040466308594 Batch_id=468 Accuracy=98.78: 100%|██████████| 469/469 [00:20<00:00, 23.21it/s]\n",
            "  0%|          | 0/469 [00:00<?, ?it/s]"
          ],
          "name": "stderr"
        },
        {
          "output_type": "stream",
          "text": [
            "\n",
            "Testing Results: Average loss: 0.0233, Accuracy: 9935/10000 (99.35%)\n",
            "\n",
            "\n",
            " EPOCH: 18   GBN: False   L1 norm: 0.0   L2 norm: 0.005\n"
          ],
          "name": "stdout"
        },
        {
          "output_type": "stream",
          "text": [
            "Loss=0.2737663984298706 l1_loss=0 l2_loss=43.18040466308594 Batch_id=468 Accuracy=98.84: 100%|██████████| 469/469 [00:20<00:00, 23.11it/s]\n",
            "  0%|          | 0/469 [00:00<?, ?it/s]"
          ],
          "name": "stderr"
        },
        {
          "output_type": "stream",
          "text": [
            "\n",
            "Testing Results: Average loss: 0.0235, Accuracy: 9936/10000 (99.36%)\n",
            "\n",
            "\n",
            " EPOCH: 19   GBN: False   L1 norm: 0.0   L2 norm: 0.005\n"
          ],
          "name": "stdout"
        },
        {
          "output_type": "stream",
          "text": [
            "Loss=0.2423933893442154 l1_loss=0 l2_loss=43.18040466308594 Batch_id=468 Accuracy=98.83: 100%|██████████| 469/469 [00:20<00:00, 22.90it/s]\n",
            "  0%|          | 0/469 [00:00<?, ?it/s]"
          ],
          "name": "stderr"
        },
        {
          "output_type": "stream",
          "text": [
            "\n",
            "Testing Results: Average loss: 0.0232, Accuracy: 9932/10000 (99.32%)\n",
            "\n",
            "\n",
            " EPOCH: 20   GBN: False   L1 norm: 0.0   L2 norm: 0.005\n"
          ],
          "name": "stdout"
        },
        {
          "output_type": "stream",
          "text": [
            "Loss=0.22875481843948364 l1_loss=0 l2_loss=43.18040466308594 Batch_id=468 Accuracy=98.79: 100%|██████████| 469/469 [00:20<00:00, 23.01it/s]\n",
            "  0%|          | 0/469 [00:00<?, ?it/s]"
          ],
          "name": "stderr"
        },
        {
          "output_type": "stream",
          "text": [
            "\n",
            "Testing Results: Average loss: 0.0237, Accuracy: 9936/10000 (99.36%)\n",
            "\n",
            "\n",
            " EPOCH: 21   GBN: False   L1 norm: 0.0   L2 norm: 0.005\n"
          ],
          "name": "stdout"
        },
        {
          "output_type": "stream",
          "text": [
            "Loss=0.25615593791007996 l1_loss=0 l2_loss=43.18040466308594 Batch_id=468 Accuracy=98.82: 100%|██████████| 469/469 [00:20<00:00, 22.97it/s]\n",
            "  0%|          | 0/469 [00:00<?, ?it/s]"
          ],
          "name": "stderr"
        },
        {
          "output_type": "stream",
          "text": [
            "\n",
            "Testing Results: Average loss: 0.0234, Accuracy: 9931/10000 (99.31%)\n",
            "\n",
            "\n",
            " EPOCH: 22   GBN: False   L1 norm: 0.0   L2 norm: 0.005\n"
          ],
          "name": "stdout"
        },
        {
          "output_type": "stream",
          "text": [
            "Loss=0.27445757389068604 l1_loss=0 l2_loss=43.18040466308594 Batch_id=468 Accuracy=98.78: 100%|██████████| 469/469 [00:20<00:00, 22.74it/s]\n",
            "  0%|          | 0/469 [00:00<?, ?it/s]"
          ],
          "name": "stderr"
        },
        {
          "output_type": "stream",
          "text": [
            "\n",
            "Testing Results: Average loss: 0.0234, Accuracy: 9934/10000 (99.34%)\n",
            "\n",
            "\n",
            " EPOCH: 23   GBN: False   L1 norm: 0.0   L2 norm: 0.005\n"
          ],
          "name": "stdout"
        },
        {
          "output_type": "stream",
          "text": [
            "Loss=0.2902100086212158 l1_loss=0 l2_loss=43.18040466308594 Batch_id=468 Accuracy=98.77: 100%|██████████| 469/469 [00:20<00:00, 22.65it/s]\n",
            "  0%|          | 0/469 [00:00<?, ?it/s]"
          ],
          "name": "stderr"
        },
        {
          "output_type": "stream",
          "text": [
            "\n",
            "Testing Results: Average loss: 0.0232, Accuracy: 9933/10000 (99.33%)\n",
            "\n",
            "\n",
            " EPOCH: 24   GBN: False   L1 norm: 0.0   L2 norm: 0.005\n"
          ],
          "name": "stdout"
        },
        {
          "output_type": "stream",
          "text": [
            "Loss=0.2633333206176758 l1_loss=0 l2_loss=43.18040466308594 Batch_id=468 Accuracy=98.80: 100%|██████████| 469/469 [00:20<00:00, 23.01it/s]\n"
          ],
          "name": "stderr"
        },
        {
          "output_type": "stream",
          "text": [
            "\n",
            "Testing Results: Average loss: 0.0232, Accuracy: 9933/10000 (99.33%)\n",
            "\n"
          ],
          "name": "stdout"
        },
        {
          "output_type": "stream",
          "text": [
            "\r  0%|          | 0/469 [00:00<?, ?it/s]"
          ],
          "name": "stderr"
        },
        {
          "output_type": "stream",
          "text": [
            "\n",
            " EPOCH: 0   GBN: False   L1 norm: 0.005   L2 norm: 0.005\n"
          ],
          "name": "stdout"
        },
        {
          "output_type": "stream",
          "text": [
            "Loss=1.0418596267700195 l1_loss=139.14073181152344 l2_loss=21.21410369873047 Batch_id=468 Accuracy=90.31: 100%|██████████| 469/469 [00:21<00:00, 22.06it/s]\n",
            "  0%|          | 0/469 [00:00<?, ?it/s]"
          ],
          "name": "stderr"
        },
        {
          "output_type": "stream",
          "text": [
            "\n",
            "Testing Results: Average loss: 0.3167, Accuracy: 9008/10000 (90.08%)\n",
            "\n",
            "\n",
            " EPOCH: 1   GBN: False   L1 norm: 0.005   L2 norm: 0.005\n"
          ],
          "name": "stdout"
        },
        {
          "output_type": "stream",
          "text": [
            "Loss=0.895471453666687 l1_loss=123.0058364868164 l2_loss=20.417932510375977 Batch_id=468 Accuracy=93.65: 100%|██████████| 469/469 [00:21<00:00, 21.95it/s]\n",
            "  0%|          | 0/469 [00:00<?, ?it/s]"
          ],
          "name": "stderr"
        },
        {
          "output_type": "stream",
          "text": [
            "\n",
            "Testing Results: Average loss: 1.6213, Accuracy: 5417/10000 (54.17%)\n",
            "\n",
            "\n",
            " EPOCH: 2   GBN: False   L1 norm: 0.005   L2 norm: 0.005\n"
          ],
          "name": "stdout"
        },
        {
          "output_type": "stream",
          "text": [
            "Loss=0.9690764546394348 l1_loss=122.55037689208984 l2_loss=20.455875396728516 Batch_id=468 Accuracy=93.69: 100%|██████████| 469/469 [00:21<00:00, 21.80it/s]\n",
            "  0%|          | 0/469 [00:00<?, ?it/s]"
          ],
          "name": "stderr"
        },
        {
          "output_type": "stream",
          "text": [
            "\n",
            "Testing Results: Average loss: 0.2008, Accuracy: 9424/10000 (94.24%)\n",
            "\n",
            "\n",
            " EPOCH: 3   GBN: False   L1 norm: 0.005   L2 norm: 0.005\n"
          ],
          "name": "stdout"
        },
        {
          "output_type": "stream",
          "text": [
            "Loss=0.9563974142074585 l1_loss=120.15869140625 l2_loss=20.512306213378906 Batch_id=468 Accuracy=93.67: 100%|██████████| 469/469 [00:21<00:00, 21.68it/s]\n",
            "  0%|          | 0/469 [00:00<?, ?it/s]"
          ],
          "name": "stderr"
        },
        {
          "output_type": "stream",
          "text": [
            "\n",
            "Testing Results: Average loss: 0.3533, Accuracy: 8812/10000 (88.12%)\n",
            "\n",
            "\n",
            " EPOCH: 4   GBN: False   L1 norm: 0.005   L2 norm: 0.005\n"
          ],
          "name": "stdout"
        },
        {
          "output_type": "stream",
          "text": [
            "Loss=0.6802549362182617 l1_loss=98.68040466308594 l2_loss=19.94901466369629 Batch_id=468 Accuracy=96.41: 100%|██████████| 469/469 [00:21<00:00, 21.63it/s]\n",
            "  0%|          | 0/469 [00:00<?, ?it/s]"
          ],
          "name": "stderr"
        },
        {
          "output_type": "stream",
          "text": [
            "\n",
            "Testing Results: Average loss: 0.0712, Accuracy: 9799/10000 (97.99%)\n",
            "\n",
            "\n",
            " EPOCH: 5   GBN: False   L1 norm: 0.005   L2 norm: 0.005\n"
          ],
          "name": "stdout"
        },
        {
          "output_type": "stream",
          "text": [
            "Loss=0.6207124590873718 l1_loss=89.01338195800781 l2_loss=19.42580795288086 Batch_id=468 Accuracy=97.01: 100%|██████████| 469/469 [00:21<00:00, 21.59it/s]\n",
            "  0%|          | 0/469 [00:00<?, ?it/s]"
          ],
          "name": "stderr"
        },
        {
          "output_type": "stream",
          "text": [
            "\n",
            "Testing Results: Average loss: 0.0652, Accuracy: 9811/10000 (98.11%)\n",
            "\n",
            "\n",
            " EPOCH: 6   GBN: False   L1 norm: 0.005   L2 norm: 0.005\n"
          ],
          "name": "stdout"
        },
        {
          "output_type": "stream",
          "text": [
            "Loss=0.5811127424240112 l1_loss=82.515380859375 l2_loss=18.93860626220703 Batch_id=468 Accuracy=97.20: 100%|██████████| 469/469 [00:21<00:00, 21.66it/s]\n",
            "  0%|          | 0/469 [00:00<?, ?it/s]"
          ],
          "name": "stderr"
        },
        {
          "output_type": "stream",
          "text": [
            "\n",
            "Testing Results: Average loss: 0.0644, Accuracy: 9809/10000 (98.09%)\n",
            "\n",
            "\n",
            " EPOCH: 7   GBN: False   L1 norm: 0.005   L2 norm: 0.005\n"
          ],
          "name": "stdout"
        },
        {
          "output_type": "stream",
          "text": [
            "Loss=0.6000277400016785 l1_loss=77.77030944824219 l2_loss=18.489028930664062 Batch_id=468 Accuracy=97.23: 100%|██████████| 469/469 [00:22<00:00, 21.30it/s]\n",
            "  0%|          | 0/469 [00:00<?, ?it/s]"
          ],
          "name": "stderr"
        },
        {
          "output_type": "stream",
          "text": [
            "\n",
            "Testing Results: Average loss: 0.0630, Accuracy: 9828/10000 (98.28%)\n",
            "\n",
            "\n",
            " EPOCH: 8   GBN: False   L1 norm: 0.005   L2 norm: 0.005\n"
          ],
          "name": "stdout"
        },
        {
          "output_type": "stream",
          "text": [
            "Loss=0.5410351157188416 l1_loss=77.56271362304688 l2_loss=18.483322143554688 Batch_id=468 Accuracy=97.39: 100%|██████████| 469/469 [00:21<00:00, 21.46it/s]\n",
            "  0%|          | 0/469 [00:00<?, ?it/s]"
          ],
          "name": "stderr"
        },
        {
          "output_type": "stream",
          "text": [
            "\n",
            "Testing Results: Average loss: 0.0602, Accuracy: 9833/10000 (98.33%)\n",
            "\n",
            "\n",
            " EPOCH: 9   GBN: False   L1 norm: 0.005   L2 norm: 0.005\n"
          ],
          "name": "stdout"
        },
        {
          "output_type": "stream",
          "text": [
            "Loss=0.6471017599105835 l1_loss=77.47490692138672 l2_loss=18.47904396057129 Batch_id=468 Accuracy=97.32: 100%|██████████| 469/469 [00:21<00:00, 21.55it/s]\n",
            "  0%|          | 0/469 [00:00<?, ?it/s]"
          ],
          "name": "stderr"
        },
        {
          "output_type": "stream",
          "text": [
            "\n",
            "Testing Results: Average loss: 0.0596, Accuracy: 9833/10000 (98.33%)\n",
            "\n",
            "\n",
            " EPOCH: 10   GBN: False   L1 norm: 0.005   L2 norm: 0.005\n"
          ],
          "name": "stdout"
        },
        {
          "output_type": "stream",
          "text": [
            "Loss=0.5786864757537842 l1_loss=77.39851379394531 l2_loss=18.474668502807617 Batch_id=468 Accuracy=97.38: 100%|██████████| 469/469 [00:21<00:00, 21.68it/s]\n",
            "  0%|          | 0/469 [00:00<?, ?it/s]"
          ],
          "name": "stderr"
        },
        {
          "output_type": "stream",
          "text": [
            "\n",
            "Testing Results: Average loss: 0.0597, Accuracy: 9827/10000 (98.27%)\n",
            "\n",
            "\n",
            " EPOCH: 11   GBN: False   L1 norm: 0.005   L2 norm: 0.005\n"
          ],
          "name": "stdout"
        },
        {
          "output_type": "stream",
          "text": [
            "Loss=0.5936030745506287 l1_loss=77.33149719238281 l2_loss=18.47029685974121 Batch_id=468 Accuracy=97.28: 100%|██████████| 469/469 [00:21<00:00, 21.61it/s]\n",
            "  0%|          | 0/469 [00:00<?, ?it/s]"
          ],
          "name": "stderr"
        },
        {
          "output_type": "stream",
          "text": [
            "\n",
            "Testing Results: Average loss: 0.0593, Accuracy: 9830/10000 (98.30%)\n",
            "\n",
            "\n",
            " EPOCH: 12   GBN: False   L1 norm: 0.005   L2 norm: 0.005\n"
          ],
          "name": "stdout"
        },
        {
          "output_type": "stream",
          "text": [
            "Loss=0.5715621113777161 l1_loss=77.32960510253906 l2_loss=18.470260620117188 Batch_id=468 Accuracy=97.32: 100%|██████████| 469/469 [00:21<00:00, 21.81it/s]\n",
            "  0%|          | 0/469 [00:00<?, ?it/s]"
          ],
          "name": "stderr"
        },
        {
          "output_type": "stream",
          "text": [
            "\n",
            "Testing Results: Average loss: 0.0592, Accuracy: 9834/10000 (98.34%)\n",
            "\n",
            "\n",
            " EPOCH: 13   GBN: False   L1 norm: 0.005   L2 norm: 0.005\n"
          ],
          "name": "stdout"
        },
        {
          "output_type": "stream",
          "text": [
            "Loss=0.5752359628677368 l1_loss=77.3288345336914 l2_loss=18.47023582458496 Batch_id=468 Accuracy=97.36: 100%|██████████| 469/469 [00:21<00:00, 22.24it/s]\n",
            "  0%|          | 0/469 [00:00<?, ?it/s]"
          ],
          "name": "stderr"
        },
        {
          "output_type": "stream",
          "text": [
            "\n",
            "Testing Results: Average loss: 0.0581, Accuracy: 9836/10000 (98.36%)\n",
            "\n",
            "\n",
            " EPOCH: 14   GBN: False   L1 norm: 0.005   L2 norm: 0.005\n"
          ],
          "name": "stdout"
        },
        {
          "output_type": "stream",
          "text": [
            "Loss=0.5439427495002747 l1_loss=77.3281021118164 l2_loss=18.470211029052734 Batch_id=468 Accuracy=97.29: 100%|██████████| 469/469 [00:20<00:00, 22.36it/s]\n",
            "  0%|          | 0/469 [00:00<?, ?it/s]"
          ],
          "name": "stderr"
        },
        {
          "output_type": "stream",
          "text": [
            "\n",
            "Testing Results: Average loss: 0.0591, Accuracy: 9835/10000 (98.35%)\n",
            "\n",
            "\n",
            " EPOCH: 15   GBN: False   L1 norm: 0.005   L2 norm: 0.005\n"
          ],
          "name": "stdout"
        },
        {
          "output_type": "stream",
          "text": [
            "Loss=0.5413641929626465 l1_loss=77.327392578125 l2_loss=18.47018814086914 Batch_id=468 Accuracy=97.37: 100%|██████████| 469/469 [00:20<00:00, 22.72it/s]\n",
            "  0%|          | 0/469 [00:00<?, ?it/s]"
          ],
          "name": "stderr"
        },
        {
          "output_type": "stream",
          "text": [
            "\n",
            "Testing Results: Average loss: 0.0591, Accuracy: 9835/10000 (98.35%)\n",
            "\n",
            "\n",
            " EPOCH: 16   GBN: False   L1 norm: 0.005   L2 norm: 0.005\n"
          ],
          "name": "stdout"
        },
        {
          "output_type": "stream",
          "text": [
            "Loss=0.5358032584190369 l1_loss=77.32737731933594 l2_loss=18.47018814086914 Batch_id=468 Accuracy=97.32: 100%|██████████| 469/469 [00:20<00:00, 22.95it/s]\n",
            "  0%|          | 0/469 [00:00<?, ?it/s]"
          ],
          "name": "stderr"
        },
        {
          "output_type": "stream",
          "text": [
            "\n",
            "Testing Results: Average loss: 0.0586, Accuracy: 9837/10000 (98.37%)\n",
            "\n",
            "\n",
            " EPOCH: 17   GBN: False   L1 norm: 0.005   L2 norm: 0.005\n"
          ],
          "name": "stdout"
        },
        {
          "output_type": "stream",
          "text": [
            "Loss=0.5804302096366882 l1_loss=77.32737731933594 l2_loss=18.47018814086914 Batch_id=468 Accuracy=97.33: 100%|██████████| 469/469 [00:20<00:00, 23.04it/s]\n",
            "  0%|          | 0/469 [00:00<?, ?it/s]"
          ],
          "name": "stderr"
        },
        {
          "output_type": "stream",
          "text": [
            "\n",
            "Testing Results: Average loss: 0.0594, Accuracy: 9832/10000 (98.32%)\n",
            "\n",
            "\n",
            " EPOCH: 18   GBN: False   L1 norm: 0.005   L2 norm: 0.005\n"
          ],
          "name": "stdout"
        },
        {
          "output_type": "stream",
          "text": [
            "Loss=0.5449329614639282 l1_loss=77.3273696899414 l2_loss=18.47018814086914 Batch_id=468 Accuracy=97.32: 100%|██████████| 469/469 [00:20<00:00, 22.96it/s]\n",
            "  0%|          | 0/469 [00:00<?, ?it/s]"
          ],
          "name": "stderr"
        },
        {
          "output_type": "stream",
          "text": [
            "\n",
            "Testing Results: Average loss: 0.0590, Accuracy: 9837/10000 (98.37%)\n",
            "\n",
            "\n",
            " EPOCH: 19   GBN: False   L1 norm: 0.005   L2 norm: 0.005\n"
          ],
          "name": "stdout"
        },
        {
          "output_type": "stream",
          "text": [
            "Loss=0.5311468839645386 l1_loss=77.3273696899414 l2_loss=18.47018814086914 Batch_id=468 Accuracy=97.26: 100%|██████████| 469/469 [00:20<00:00, 23.11it/s]\n",
            "  0%|          | 0/469 [00:00<?, ?it/s]"
          ],
          "name": "stderr"
        },
        {
          "output_type": "stream",
          "text": [
            "\n",
            "Testing Results: Average loss: 0.0591, Accuracy: 9836/10000 (98.36%)\n",
            "\n",
            "\n",
            " EPOCH: 20   GBN: False   L1 norm: 0.005   L2 norm: 0.005\n"
          ],
          "name": "stdout"
        },
        {
          "output_type": "stream",
          "text": [
            "Loss=0.5588135719299316 l1_loss=77.3273696899414 l2_loss=18.47018814086914 Batch_id=468 Accuracy=97.33: 100%|██████████| 469/469 [00:20<00:00, 23.40it/s]\n",
            "  0%|          | 0/469 [00:00<?, ?it/s]"
          ],
          "name": "stderr"
        },
        {
          "output_type": "stream",
          "text": [
            "\n",
            "Testing Results: Average loss: 0.0594, Accuracy: 9837/10000 (98.37%)\n",
            "\n",
            "\n",
            " EPOCH: 21   GBN: False   L1 norm: 0.005   L2 norm: 0.005\n"
          ],
          "name": "stdout"
        },
        {
          "output_type": "stream",
          "text": [
            "Loss=0.575391411781311 l1_loss=77.3273696899414 l2_loss=18.47018814086914 Batch_id=468 Accuracy=97.34: 100%|██████████| 469/469 [00:20<00:00, 23.08it/s]\n",
            "  0%|          | 0/469 [00:00<?, ?it/s]"
          ],
          "name": "stderr"
        },
        {
          "output_type": "stream",
          "text": [
            "\n",
            "Testing Results: Average loss: 0.0591, Accuracy: 9835/10000 (98.35%)\n",
            "\n",
            "\n",
            " EPOCH: 22   GBN: False   L1 norm: 0.005   L2 norm: 0.005\n"
          ],
          "name": "stdout"
        },
        {
          "output_type": "stream",
          "text": [
            "Loss=0.5846827030181885 l1_loss=77.3273696899414 l2_loss=18.47018814086914 Batch_id=468 Accuracy=97.26: 100%|██████████| 469/469 [00:19<00:00, 23.58it/s]\n",
            "  0%|          | 0/469 [00:00<?, ?it/s]"
          ],
          "name": "stderr"
        },
        {
          "output_type": "stream",
          "text": [
            "\n",
            "Testing Results: Average loss: 0.0590, Accuracy: 9842/10000 (98.42%)\n",
            "\n",
            "\n",
            " EPOCH: 23   GBN: False   L1 norm: 0.005   L2 norm: 0.005\n"
          ],
          "name": "stdout"
        },
        {
          "output_type": "stream",
          "text": [
            "Loss=0.6495540738105774 l1_loss=77.3273696899414 l2_loss=18.47018814086914 Batch_id=468 Accuracy=97.34: 100%|██████████| 469/469 [00:19<00:00, 23.72it/s]\n",
            "  0%|          | 0/469 [00:00<?, ?it/s]"
          ],
          "name": "stderr"
        },
        {
          "output_type": "stream",
          "text": [
            "\n",
            "Testing Results: Average loss: 0.0590, Accuracy: 9838/10000 (98.38%)\n",
            "\n",
            "\n",
            " EPOCH: 24   GBN: False   L1 norm: 0.005   L2 norm: 0.005\n"
          ],
          "name": "stdout"
        },
        {
          "output_type": "stream",
          "text": [
            "Loss=0.5890990495681763 l1_loss=77.3273696899414 l2_loss=18.47018814086914 Batch_id=468 Accuracy=97.26: 100%|██████████| 469/469 [00:19<00:00, 23.87it/s]\n"
          ],
          "name": "stderr"
        },
        {
          "output_type": "stream",
          "text": [
            "\n",
            "Testing Results: Average loss: 0.0591, Accuracy: 9830/10000 (98.30%)\n",
            "\n",
            "5\n"
          ],
          "name": "stdout"
        },
        {
          "output_type": "display_data",
          "data": {
            "image/png": "[encoded data removed]",
            "text/plain": [
              "<Figure size 720x720 with 25 Axes>"
            ]
          },
          "metadata": {
            "tags": [],
            "needs_background": "light"
          }
        },
        {
          "output_type": "display_data",
          "data": {
            "image/png": "[encoded data removed]",
            "text/plain": [
              "<Figure size 720x720 with 25 Axes>"
            ]
          },
          "metadata": {
            "tags": [],
            "needs_background": "light"
          }
        },
        {
          "output_type": "display_data",
          "data": {
            "image/png": "[encoded data removed]",
            "text/plain": [
              "<Figure size 720x720 with 25 Axes>"
            ]
          },
          "metadata": {
            "tags": [],
            "needs_background": "light"
          }
        },
        {
          "output_type": "display_data",
          "data": {
            "image/png": "[encoded data removed]",
            "text/plain": [
              "<Figure size 720x720 with 25 Axes>"
            ]
          },
          "metadata": {
            "tags": [],
            "needs_background": "light"
          }
        },
        {
          "output_type": "display_data",
          "data": {
            "image/png": "[encoded data removed]",
            "text/plain": [
              "<Figure size 720x720 with 25 Axes>"
            ]
          },
          "metadata": {
            "tags": [],
            "needs_background": "light"
          }
        },
        {
          "output_type": "display_data",
          "data": {
            "image/png": "[encoded data removed]",
            "text/plain": [
              "<Figure size 720x720 with 1 Axes>"
            ]
          },
          "metadata": {
            "tags": [],
            "needs_background": "light"
          }
        }
      ]
    },
    {
      "cell_type": "code",
      "metadata": {
        "colab": {
          "base_uri": "https://localhost:8080/",
          "height": 638
        },
        "id": "B_qZTZoFFhr6",
        "outputId": "307c1e25-1af9-4f4c-85db-48a764a0c619"
      },
      "source": [
        "#plot graphs \r\n",
        "fig = plt.figure(figsize=(10, 10))\r\n",
        "plt.title(f'Validation accuracy')\r\n",
        "plt.xlabel('Epoch')\r\n",
        "plt.ylabel('Validation accuracy')\r\n",
        "\r\n",
        "print(len(test_acc_list))\r\n",
        "run_list = ['GBN', 'GBNL1L2', 'BNL1','BNL2', 'BNL1L2']\r\n",
        "GBN = plt.plot(test_acc_list[0], label = 'GBN')\r\n",
        "GBNL1L2 = plt.plot(test_acc_list[1], label = 'GBN+L1+L2')\r\n",
        "BNL1 = plt.plot(test_acc_list[2], label = 'BN+L1')\r\n",
        "BNL2 = plt.plot(test_acc_list[3], label = 'BN+L2')\r\n",
        "BNL1L2 = plt.plot(test_acc_list[4], label = 'BN+L1+L2')\r\n",
        "plt.legend()\r\n",
        "plt.show()"
      ],
      "execution_count": 13,
      "outputs": [
        {
          "output_type": "stream",
          "text": [
            "5\n"
          ],
          "name": "stdout"
        },
        {
          "output_type": "display_data",
          "data": {
            "image/png": "[encoded data removed]",
            "text/plain": [
              "<Figure size 720x720 with 1 Axes>"
            ]
          },
          "metadata": {
            "tags": [],
            "needs_background": "light"
          }
        }
      ]
    },
    {
      "cell_type": "code",
      "metadata": {
        "id": "aE5Le6FYHhc8"
      },
      "source": [
        "## from torch.optim.lr_scheduler import StepLR, ReduceLROnPlateau\n",
        "# #from torch_lr_finder import LRFinder\n",
        "\n",
        "# model =  Net().to(device)\n",
        "# optimizer = optim.SGD(model.parameters(), lr=0.1, momentum=0.7)\n",
        "# #optimizer = optim.Adam(model.parameters(), lr=0.01)\n",
        "\n",
        "# scheduler = StepLR(optimizer, step_size=4, gamma=0.01)\n",
        "# #scheduler = ReduceLROnPlateau(optimizer, 'min',patience = 2)\n",
        "\n",
        "# EPOCHS = 15\n",
        "# for epoch in range(EPOCHS):\n",
        "#     #print(\"EPOCH:\", epoch)\n",
        "#     print('Epoch-{0} lr: {1}'.format(epoch, optimizer.param_groups[0]['lr']))\n",
        "#     train(model, device, train_loader, optimizer, epoch)\n",
        "#     scheduler.step()\n",
        "#     test(model, device, test_loader)"
      ],
      "execution_count": null,
      "outputs": []
    },
    {
      "cell_type": "markdown",
      "metadata": {
        "id": "drokW8wWODKq"
      },
      "source": [
        "# Printing mis-classified images\n"
      ]
    },
    {
      "cell_type": "code",
      "metadata": {
        "colab": {
          "base_uri": "https://localhost:8080/",
          "height": 624
        },
        "id": "87RaqGSEOWDe",
        "outputId": "cf41ea5e-6b08-44c2-df1c-7464ef91fb8a"
      },
      "source": [
        "# %matplotlib inline\n",
        "# import matplotlib.pyplot as plt\n",
        "\n",
        "# fig, axs = plt.subplots(2,2,figsize=(15,10))\n",
        "# axs[0, 0].plot(train_losses)\n",
        "# axs[0, 0].set_title(\"Training Loss\")\n",
        "# axs[1, 0].plot(train_acc[4000:])\n",
        "# axs[1, 0].set_title(\"Training Accuracy\")\n",
        "# axs[0, 1].plot(test_losses)\n",
        "# axs[0, 1].set_title(\"Test Loss\")\n",
        "# axs[1, 1].plot(test_acc)\n",
        "# axs[1, 1].set_title(\"Test Accuracy\")"
      ],
      "execution_count": null,
      "outputs": [
        {
          "output_type": "execute_result",
          "data": {
            "text/plain": [
              "Text(0.5, 1.0, 'Test Accuracy')"
            ]
          },
          "metadata": {
            "tags": []
          },
          "execution_count": 10
        },
        {
          "output_type": "display_data",
          "data": {
            "image/png": "[encoded data removed]",
            "text/plain": [
              "<Figure size 1080x720 with 4 Axes>"
            ]
          },
          "metadata": {
            "tags": []
          }
        }
      ]
    },
    {
      "cell_type": "code",
      "metadata": {
        "id": "wjO3RK9UEnvF"
      },
      "source": [
        ""
      ],
      "execution_count": null,
      "outputs": []
    }
  ]
}