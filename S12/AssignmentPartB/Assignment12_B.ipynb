{
  "nbformat": 4,
  "nbformat_minor": 0,
  "metadata": {
    "colab": {
      "name": "Assignment12_B.ipynb",
      "provenance": []
    },
    "kernelspec": {
      "name": "python3",
      "display_name": "Python 3"
    }
  },
  "cells": [
    {
      "cell_type": "markdown",
      "metadata": {
        "id": "F_sK0OHzVCiD"
      },
      "source": [
        "# Preparing Data\n",
        "Change working directory to the directory that has our data. \n",
        "Data can be found at \n",
        "\n",
        "https://github.com/UrmilaAirsang/Pytorch/tree/main/S12/AssignmentPartB/Assignment12%20images"
      ]
    },
    {
      "cell_type": "code",
      "metadata": {
        "id": "yb6InL-oKoS9",
        "colab": {
          "base_uri": "https://localhost:8080/"
        },
        "outputId": "4648aa5b-952f-460e-9fa5-39c9c2b8c75c"
      },
      "source": [
        "%cd Assignment12Images"
      ],
      "execution_count": 2,
      "outputs": [
        {
          "output_type": "stream",
          "text": [
            "/content/Assignment12Images\n"
          ],
          "name": "stdout"
        }
      ]
    },
    {
      "cell_type": "code",
      "metadata": {
        "colab": {
          "base_uri": "https://localhost:8080/"
        },
        "id": "XxL8VQIJg16m",
        "outputId": "71e5274d-6476-4737-b19e-2f18ea422036"
      },
      "source": [
        "from google.colab import drive\n",
        "drive.mount('/content/drive')"
      ],
      "execution_count": 1,
      "outputs": [
        {
          "output_type": "stream",
          "text": [
            "Mounted at /content/drive\n"
          ],
          "name": "stdout"
        }
      ]
    },
    {
      "cell_type": "markdown",
      "metadata": {
        "id": "2e0gzUNzWs9D"
      },
      "source": [
        "## Read annotation JSON"
      ]
    },
    {
      "cell_type": "markdown",
      "metadata": {
        "id": "ZbuKVT3CYKN_"
      },
      "source": [
        "JSON can be found here:\n",
        "\n",
        "https://github.com/UrmilaAirsang/Pytorch/tree/main/S12/AssignmentPartB/Assignment-12.json"
      ]
    },
    {
      "cell_type": "code",
      "metadata": {
        "id": "y1AnzpCqDtEm"
      },
      "source": [
        "import json\n",
        "from PIL import Image"
      ],
      "execution_count": 3,
      "outputs": []
    },
    {
      "cell_type": "code",
      "metadata": {
        "id": "F4e-zISgFchz"
      },
      "source": [
        "with open(\"Assignment-12.json\") as f:\n",
        "  json_dict = json.load(f)"
      ],
      "execution_count": 4,
      "outputs": []
    },
    {
      "cell_type": "markdown",
      "metadata": {
        "id": "-LoPRLVLW1sL"
      },
      "source": [
        "## Explore sample data point"
      ]
    },
    {
      "cell_type": "code",
      "metadata": {
        "id": "B_a7Gh5oFnv5",
        "colab": {
          "base_uri": "https://localhost:8080/"
        },
        "outputId": "ee8593a6-8128-4cf7-c1db-ea264cb59a40"
      },
      "source": [
        "json_dict.keys()"
      ],
      "execution_count": 5,
      "outputs": [
        {
          "output_type": "execute_result",
          "data": {
            "text/plain": [
              "dict_keys(['2Q__ (1).jpg8968', '2Q__ (2).jpg8680', '2Q__ (3).jpg6835', '2Q__ (4).jpg11779', '2Q__ (5).jpg5686', '2Q__ (6).jpg7651', '2Q__.jpg9517', '9k_ (1).jpg12170', '9k_ (2).jpg9368', '9k_ (3).jpg7427', '9k_ (4).jpg7706', '9k_ (5).jpg10166', '9k_ (6).jpg5342', '9k_.jpg6062', 'images (1).jpg10880', 'images (2).jpg8711', 'images (3).jpg7698', 'images (4).jpg5527', 'images (5).jpg9327', 'images (6).jpg8274', 'images (7).jpg12282', 'images (8).jpg6867', 'images (9).jpg6665', 'images (10).jpg10502', 'images (11).jpg7232', 'images (12).jpg8116', 'images (13).jpg8490', 'images (14).jpg6053', 'images (15).jpg4602', 'images (16).jpg7951', 'images (17).jpg6023', 'images (18).jpg9816', 'images (19).jpg3191', 'images (20).jpg5035', 'images (21).jpg6867', 'images (22).jpg5462', 'images (23).jpg5638', 'images (24).jpg9184', 'images (25).jpg8820', 'images (26).jpg13756', 'images (27).jpg8780', 'images (28).jpg5647', 'images (29).jpg14813', 'images (30).jpg11626', 'images (31).jpg12083', 'images (32).jpg9810', 'images (33).jpg10009', 'images (34).jpg6186', 'images (35).jpg9346', 'images (36).jpg13007', 'images (37).jpg10032', 'images (38).jpg10449', 'images (39).jpg12812', 'images (40).jpg10481', 'images (41).jpg10589', 'images (42).jpg10593', 'images (43).jpg11547', 'images (44).jpg3998', 'images (45).jpg8583', 'images (46).jpg9664', 'images (47).jpg10491', 'images (48).jpg6432', 'images (49).jpg7737', 'images (50).jpg5368', 'images (51).jpg7329', 'images (52).jpg10421', 'images (53).jpg11918', 'images (54).jpg14426', 'images (55).jpg13229', 'images (56).jpg10790', 'images (57).jpg6014', 'images (58).jpg7468', 'images (59).jpg5864', 'images (60).jpg10713', 'images (61).jpg9966', 'images (62).jpg17092', 'images (63).jpg9602', 'images (64).jpg14219', 'images (65).jpg7147', 'images (66).jpg9447', 'images (67).jpg11550', 'images (68).jpg10789', 'images (69).jpg9531', 'images (70).jpg11828', 'images (71).jpg10775', 'images (72).jpg11668', 'images (73).jpg7449', 'images (74).jpg5021', 'images (75).jpg8281', 'images (76).jpg9440', 'images (77).jpg10141', 'images (78).jpg5700', 'images (79).jpg4784', 'images.jpg9407', 'Z (1).jpg12069', 'Z (2).jpg12399', 'Z (3).jpg13533', 'Z (4).jpg10425', 'Z (5).jpg8919', 'Z (6).jpg6501', 'Z (7).jpg4878', 'Z.jpg6570'])"
            ]
          },
          "metadata": {
            "tags": []
          },
          "execution_count": 5
        }
      ]
    },
    {
      "cell_type": "code",
      "metadata": {
        "id": "q_HvUXgBGEMP",
        "colab": {
          "base_uri": "https://localhost:8080/",
          "height": 416
        },
        "outputId": "c0816ad5-6de4-42b7-a98a-d5c4e83df37a"
      },
      "source": [
        "json_dict['2Q__ (1).jpg8968']"
      ],
      "execution_count": null,
      "outputs": [
        {
          "output_type": "execute_result",
          "data": {
            "text/plain": [
              "{'file_attributes': {'caption': '', 'image_url': '', 'public_domain': 'no'},\n",
              " 'filename': '2Q__ (1).jpg',\n",
              " 'regions': [{'region_attributes': {'image_quality': {'frontal': True,\n",
              "     'good': True,\n",
              "     'good_illumination': True},\n",
              "    'name': 'hardhat1',\n",
              "    'type': 'hardhat'},\n",
              "   'shape_attributes': {'height': 63,\n",
              "    'name': 'rect',\n",
              "    'width': 74,\n",
              "    'x': 56,\n",
              "    'y': 14}},\n",
              "  {'region_attributes': {'image_quality': {'frontal': True,\n",
              "     'good': True,\n",
              "     'good_illumination': True},\n",
              "    'name': 'mask1',\n",
              "    'type': 'mask'},\n",
              "   'shape_attributes': {'height': 44,\n",
              "    'name': 'rect',\n",
              "    'width': 46,\n",
              "    'x': 71,\n",
              "    'y': 79}}],\n",
              " 'size': 8968}"
            ]
          },
          "metadata": {
            "tags": []
          },
          "execution_count": 45
        }
      ]
    },
    {
      "cell_type": "markdown",
      "metadata": {
        "id": "MlJIu0XKW-cB"
      },
      "source": [
        "## Prepare a dataframe from this json using filename,\timg_w,\timg_h,\tclass,\tH,\tW,\tCX,\tCY"
      ]
    },
    {
      "cell_type": "code",
      "metadata": {
        "id": "AblUS891Kuns"
      },
      "source": [
        "bbox_metadata_dict_list = []\n",
        "\n",
        "for file_key in json_dict:\n",
        "    img = Image.open(json_dict[file_key]['filename'])\n",
        "    for region in json_dict[file_key]['regions']:\n",
        "        dp = {}\n",
        "        dp['file'] = json_dict[file_key]['filename']\n",
        "        dp['img_w'], dp['img_h'] = img.size\n",
        "        dp['class'] = region['region_attributes']['type']\n",
        "        dp['H'] = region['shape_attributes']['height']\n",
        "        dp['W'] = region['shape_attributes']['width']\n",
        "        dp['CX'] = region['shape_attributes']['x']\n",
        "        dp['CY'] = region['shape_attributes']['y']\n",
        "        bbox_metadata_dict_list.append(dp)\n",
        "\n"
      ],
      "execution_count": 7,
      "outputs": []
    },
    {
      "cell_type": "code",
      "metadata": {
        "id": "s4FI1QUBPC7z",
        "colab": {
          "base_uri": "https://localhost:8080/"
        },
        "outputId": "56308285-05a4-4948-ac06-622543f63123"
      },
      "source": [
        "import pandas as pd\n",
        "df = pd.DataFrame(bbox_metadata_dict_list)\n",
        "print(df.head())\n",
        "print(df.shape)"
      ],
      "execution_count": 10,
      "outputs": [
        {
          "output_type": "stream",
          "text": [
            "           file  img_w  img_h    class   H    W   CX  CY\n",
            "0  2Q__ (1).jpg    192    263  hardhat  63   74   56  14\n",
            "1  2Q__ (1).jpg    192    263     mask  44   46   71  79\n",
            "2  2Q__ (2).jpg    262    192  hardhat  40   67  120  15\n",
            "3  2Q__ (2).jpg    262    192     mask  38   41  135  61\n",
            "4  2Q__ (2).jpg    262    192     vest  78  130   87  95\n",
            "(249, 8)\n"
          ],
          "name": "stdout"
        }
      ]
    },
    {
      "cell_type": "markdown",
      "metadata": {
        "id": "t13EqNePXH3s"
      },
      "source": [
        "## Finding the value of K (optimum #clusters)"
      ]
    },
    {
      "cell_type": "markdown",
      "metadata": {
        "id": "oh3lAfq6XOvI"
      },
      "source": [
        "## Normalizing\n",
        "Here we normalize the height and width of bounding box annotations with the respective height and width of the corresponding image"
      ]
    },
    {
      "cell_type": "code",
      "metadata": {
        "id": "tA7VeH-JR_Gg",
        "colab": {
          "base_uri": "https://localhost:8080/",
          "height": 202
        },
        "outputId": "20a23383-85cb-4bdf-f5a8-ff43b4d99820"
      },
      "source": [
        "df['h'] = df['H']/df['img_h']\n",
        "df['w'] = df['W']/df['img_w']\n",
        "df.head()"
      ],
      "execution_count": 11,
      "outputs": [
        {
          "output_type": "execute_result",
          "data": {
            "text/html": [
              "<div>\n",
              "<style scoped>\n",
              "    .dataframe tbody tr th:only-of-type {\n",
              "        vertical-align: middle;\n",
              "    }\n",
              "\n",
              "    .dataframe tbody tr th {\n",
              "        vertical-align: top;\n",
              "    }\n",
              "\n",
              "    .dataframe thead th {\n",
              "        text-align: right;\n",
              "    }\n",
              "</style>\n",
              "<table border=\"1\" class=\"dataframe\">\n",
              "  <thead>\n",
              "    <tr style=\"text-align: right;\">\n",
              "      <th></th>\n",
              "      <th>file</th>\n",
              "      <th>img_w</th>\n",
              "      <th>img_h</th>\n",
              "      <th>class</th>\n",
              "      <th>H</th>\n",
              "      <th>W</th>\n",
              "      <th>CX</th>\n",
              "      <th>CY</th>\n",
              "      <th>h</th>\n",
              "      <th>w</th>\n",
              "    </tr>\n",
              "  </thead>\n",
              "  <tbody>\n",
              "    <tr>\n",
              "      <th>0</th>\n",
              "      <td>2Q__ (1).jpg</td>\n",
              "      <td>192</td>\n",
              "      <td>263</td>\n",
              "      <td>hardhat</td>\n",
              "      <td>63</td>\n",
              "      <td>74</td>\n",
              "      <td>56</td>\n",
              "      <td>14</td>\n",
              "      <td>0.239544</td>\n",
              "      <td>0.385417</td>\n",
              "    </tr>\n",
              "    <tr>\n",
              "      <th>1</th>\n",
              "      <td>2Q__ (1).jpg</td>\n",
              "      <td>192</td>\n",
              "      <td>263</td>\n",
              "      <td>mask</td>\n",
              "      <td>44</td>\n",
              "      <td>46</td>\n",
              "      <td>71</td>\n",
              "      <td>79</td>\n",
              "      <td>0.167300</td>\n",
              "      <td>0.239583</td>\n",
              "    </tr>\n",
              "    <tr>\n",
              "      <th>2</th>\n",
              "      <td>2Q__ (2).jpg</td>\n",
              "      <td>262</td>\n",
              "      <td>192</td>\n",
              "      <td>hardhat</td>\n",
              "      <td>40</td>\n",
              "      <td>67</td>\n",
              "      <td>120</td>\n",
              "      <td>15</td>\n",
              "      <td>0.208333</td>\n",
              "      <td>0.255725</td>\n",
              "    </tr>\n",
              "    <tr>\n",
              "      <th>3</th>\n",
              "      <td>2Q__ (2).jpg</td>\n",
              "      <td>262</td>\n",
              "      <td>192</td>\n",
              "      <td>mask</td>\n",
              "      <td>38</td>\n",
              "      <td>41</td>\n",
              "      <td>135</td>\n",
              "      <td>61</td>\n",
              "      <td>0.197917</td>\n",
              "      <td>0.156489</td>\n",
              "    </tr>\n",
              "    <tr>\n",
              "      <th>4</th>\n",
              "      <td>2Q__ (2).jpg</td>\n",
              "      <td>262</td>\n",
              "      <td>192</td>\n",
              "      <td>vest</td>\n",
              "      <td>78</td>\n",
              "      <td>130</td>\n",
              "      <td>87</td>\n",
              "      <td>95</td>\n",
              "      <td>0.406250</td>\n",
              "      <td>0.496183</td>\n",
              "    </tr>\n",
              "  </tbody>\n",
              "</table>\n",
              "</div>"
            ],
            "text/plain": [
              "           file  img_w  img_h    class   H    W   CX  CY         h         w\n",
              "0  2Q__ (1).jpg    192    263  hardhat  63   74   56  14  0.239544  0.385417\n",
              "1  2Q__ (1).jpg    192    263     mask  44   46   71  79  0.167300  0.239583\n",
              "2  2Q__ (2).jpg    262    192  hardhat  40   67  120  15  0.208333  0.255725\n",
              "3  2Q__ (2).jpg    262    192     mask  38   41  135  61  0.197917  0.156489\n",
              "4  2Q__ (2).jpg    262    192     vest  78  130   87  95  0.406250  0.496183"
            ]
          },
          "metadata": {
            "tags": []
          },
          "execution_count": 11
        }
      ]
    },
    {
      "cell_type": "markdown",
      "metadata": {
        "id": "zYspABW1Xiid"
      },
      "source": [
        "## Plot normalized values of height and width"
      ]
    },
    {
      "cell_type": "code",
      "metadata": {
        "id": "kxDOMHrJRIIF"
      },
      "source": [
        "import numpy as np\n",
        "import pandas as pd\n",
        "from matplotlib import pyplot as plt\n",
        "from sklearn.cluster import KMeans"
      ],
      "execution_count": 12,
      "outputs": []
    },
    {
      "cell_type": "code",
      "metadata": {
        "id": "ggvrdD61SWvL",
        "colab": {
          "base_uri": "https://localhost:8080/",
          "height": 283
        },
        "outputId": "6e820659-e07b-4f1f-a7eb-b18621a7ae1d"
      },
      "source": [
        "plt.scatter(df['h'], df['w'])"
      ],
      "execution_count": 13,
      "outputs": [
        {
          "output_type": "execute_result",
          "data": {
            "text/plain": [
              "<matplotlib.collections.PathCollection at 0x7f291b3eafd0>"
            ]
          },
          "metadata": {
            "tags": []
          },
          "execution_count": 13
        },
        {
          "output_type": "display_data",
          "data": {
            "image/png": "[encoded data removed]",
            "text/plain": [
              "<Figure size 432x288 with 1 Axes>"
            ]
          },
          "metadata": {
            "tags": [],
            "needs_background": "light"
          }
        }
      ]
    },
    {
      "cell_type": "markdown",
      "metadata": {
        "id": "JfuDl2jHXyIz"
      },
      "source": [
        "# Find K\r\n",
        "\r\n",
        "WCSS is the sum of squares of the distances of each data point in all clusters to their respective centroids"
      ]
    },
    {
      "cell_type": "code",
      "metadata": {
        "id": "332x2zAuSltF",
        "colab": {
          "base_uri": "https://localhost:8080/",
          "height": 295
        },
        "outputId": "b12c9d84-4983-44b9-e46d-26c7b38d346d"
      },
      "source": [
        "wcss = []\n",
        "for i in range(1, 11):\n",
        "    kmeans = KMeans(n_clusters=i, init='k-means++', max_iter=300, n_init=10, random_state=0)\n",
        "    kmeans.fit((df[['h', 'w']]))\n",
        "    wcss.append(kmeans.inertia_)\n",
        "plt.plot(range(1, 11), wcss)\n",
        "plt.title('Elbow Method')\n",
        "plt.xlabel('Number of clusters')\n",
        "plt.ylabel('WCSS')\n",
        "plt.show()"
      ],
      "execution_count": 14,
      "outputs": [
        {
          "output_type": "display_data",
          "data": {
            "image/png": "[encoded data removed]",
            "text/plain": [
              "<Figure size 432x288 with 1 Axes>"
            ]
          },
          "metadata": {
            "tags": [],
            "needs_background": "light"
          }
        }
      ]
    },
    {
      "cell_type": "markdown",
      "metadata": {
        "id": "vHh8UCK-X1R5"
      },
      "source": [
        "Looking at the above graph k=3 seems appropriate.\r\n",
        "\r\n",
        "Can experiment with k=4 also"
      ]
    },
    {
      "cell_type": "markdown",
      "metadata": {
        "id": "UUgEWlt6X7OO"
      },
      "source": [
        "## Centroids with K=3 (preferred)"
      ]
    },
    {
      "cell_type": "code",
      "metadata": {
        "id": "LTaBh5mDS0-p",
        "colab": {
          "base_uri": "https://localhost:8080/",
          "height": 265
        },
        "outputId": "1347d31e-d6ce-4c64-9b2c-7dcb5b7788e9"
      },
      "source": [
        "kmeans = KMeans(n_clusters=3, init='k-means++', max_iter=300, n_init=10, random_state=0)\n",
        "pred_y = kmeans.fit_predict(df[['h', 'w']])\n",
        "plt.scatter(df['h'], df['w'])\n",
        "plt.scatter(kmeans.cluster_centers_[:, 0], kmeans.cluster_centers_[:, 1], s=300, c='red')\n",
        "plt.show()"
      ],
      "execution_count": 15,
      "outputs": [
        {
          "output_type": "display_data",
          "data": {
            "image/png": "[encoded data removed]",
            "text/plain": [
              "<Figure size 432x288 with 1 Axes>"
            ]
          },
          "metadata": {
            "tags": [],
            "needs_background": "light"
          }
        }
      ]
    },
    {
      "cell_type": "code",
      "metadata": {
        "id": "q_gjZ9z9TMxM",
        "colab": {
          "base_uri": "https://localhost:8080/",
          "height": 265
        },
        "outputId": "e36de2f9-c347-406a-ce40-55d4e4298ae4"
      },
      "source": [
        "kmeans = KMeans(n_clusters=4, init='k-means++', max_iter=300, n_init=10, random_state=0)\r\n",
        "pred_y = kmeans.fit_predict(df[['h', 'w']])\r\n",
        "plt.scatter(df['h'], df['w'])\r\n",
        "plt.scatter(kmeans.cluster_centers_[:, 0], kmeans.cluster_centers_[:, 1], s=300, c='red')\r\n",
        "plt.show()"
      ],
      "execution_count": 16,
      "outputs": [
        {
          "output_type": "display_data",
          "data": {
            "image/png": "[encoded data removed]",
            "text/plain": [
              "<Figure size 432x288 with 1 Axes>"
            ]
          },
          "metadata": {
            "tags": [],
            "needs_background": "light"
          }
        }
      ]
    },
    {
      "cell_type": "code",
      "metadata": {
        "id": "7k5ZYXKni8IL"
      },
      "source": [
        ""
      ],
      "execution_count": null,
      "outputs": []
    }
  ]
}